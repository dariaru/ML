{
 "cells": [
  {
   "cell_type": "code",
   "execution_count": 37,
   "metadata": {},
   "outputs": [],
   "source": [
    "from sklearn.model_selection import train_test_split\n",
    "import pandas as pd \n",
    "import seaborn as sns \n",
    "import matplotlib.pyplot as plt \n",
    "import numpy as np"
   ]
  },
  {
   "cell_type": "code",
   "execution_count": 38,
   "metadata": {},
   "outputs": [
    {
     "data": {
      "text/html": [
       "<div>\n",
       "<style scoped>\n",
       "    .dataframe tbody tr th:only-of-type {\n",
       "        vertical-align: middle;\n",
       "    }\n",
       "\n",
       "    .dataframe tbody tr th {\n",
       "        vertical-align: top;\n",
       "    }\n",
       "\n",
       "    .dataframe thead th {\n",
       "        text-align: right;\n",
       "    }\n",
       "</style>\n",
       "<table border=\"1\" class=\"dataframe\">\n",
       "  <thead>\n",
       "    <tr style=\"text-align: right;\">\n",
       "      <th></th>\n",
       "      <th>Recency (months)</th>\n",
       "      <th>Frequency (times)</th>\n",
       "      <th>Monetary (c.c. blood)</th>\n",
       "      <th>Time (months)</th>\n",
       "      <th>whether he/she donated blood in March 2007</th>\n",
       "    </tr>\n",
       "  </thead>\n",
       "  <tbody>\n",
       "    <tr>\n",
       "      <th>0</th>\n",
       "      <td>2</td>\n",
       "      <td>50</td>\n",
       "      <td>12500</td>\n",
       "      <td>98</td>\n",
       "      <td>1</td>\n",
       "    </tr>\n",
       "    <tr>\n",
       "      <th>1</th>\n",
       "      <td>0</td>\n",
       "      <td>13</td>\n",
       "      <td>3250</td>\n",
       "      <td>28</td>\n",
       "      <td>1</td>\n",
       "    </tr>\n",
       "    <tr>\n",
       "      <th>2</th>\n",
       "      <td>1</td>\n",
       "      <td>16</td>\n",
       "      <td>4000</td>\n",
       "      <td>35</td>\n",
       "      <td>1</td>\n",
       "    </tr>\n",
       "    <tr>\n",
       "      <th>3</th>\n",
       "      <td>2</td>\n",
       "      <td>20</td>\n",
       "      <td>5000</td>\n",
       "      <td>45</td>\n",
       "      <td>1</td>\n",
       "    </tr>\n",
       "    <tr>\n",
       "      <th>4</th>\n",
       "      <td>1</td>\n",
       "      <td>24</td>\n",
       "      <td>6000</td>\n",
       "      <td>77</td>\n",
       "      <td>0</td>\n",
       "    </tr>\n",
       "  </tbody>\n",
       "</table>\n",
       "</div>"
      ],
      "text/plain": [
       "   Recency (months)  Frequency (times)  Monetary (c.c. blood)  Time (months)  \\\n",
       "0                 2                 50                  12500             98   \n",
       "1                 0                 13                   3250             28   \n",
       "2                 1                 16                   4000             35   \n",
       "3                 2                 20                   5000             45   \n",
       "4                 1                 24                   6000             77   \n",
       "\n",
       "   whether he/she donated blood in March 2007  \n",
       "0                                           1  \n",
       "1                                           1  \n",
       "2                                           1  \n",
       "3                                           1  \n",
       "4                                           0  "
      ]
     },
     "execution_count": 38,
     "metadata": {},
     "output_type": "execute_result"
    }
   ],
   "source": [
    "ds = pd.read_csv(r'C:\\Users\\Дарья\\Downloads\\transfusion.csv')\n",
    "ds.head()"
   ]
  },
  {
   "cell_type": "code",
   "execution_count": 39,
   "metadata": {},
   "outputs": [],
   "source": [
    "X=ds[['Recency (months)', 'Frequency (times)', 'Monetary (c.c. blood)','Time (months)']]\n",
    "y=ds['whether he/she donated blood in March 2007']"
   ]
  },
  {
   "cell_type": "code",
   "execution_count": 40,
   "metadata": {
    "ExecuteTime": {
     "end_time": "2023-05-03T14:38:22.310355Z",
     "start_time": "2023-05-03T14:38:22.287508Z"
    }
   },
   "outputs": [],
   "source": [
    "# разделение выборки на обучающую и тестовую\n",
    "X_train, X_test, y_train, y_test = train_test_split(X, y, test_size=0.3, random_state=42)"
   ]
  },
  {
   "cell_type": "code",
   "execution_count": 41,
   "metadata": {
    "ExecuteTime": {
     "end_time": "2023-05-03T14:38:26.665773Z",
     "start_time": "2023-05-03T14:38:22.307145Z"
    }
   },
   "outputs": [
    {
     "name": "stdout",
     "output_type": "stream",
     "text": [
      "Accuracy Random Forest: 0.7377777777777778\n"
     ]
    }
   ],
   "source": [
    "from sklearn.ensemble import RandomForestClassifier, GradientBoostingClassifier, StackingClassifier\n",
    "from sklearn.linear_model import LogisticRegression\n",
    "from sklearn.tree import DecisionTreeClassifier\n",
    "from sklearn.metrics import accuracy_score\n",
    "\n",
    "# обучение Random Forest\n",
    "rf = RandomForestClassifier(n_estimators=10, random_state=42)\n",
    "rf.fit(X_train, y_train)\n",
    "y_pred = rf.predict(X_test)\n",
    "rf_acc = accuracy_score(y_test, y_pred)\n",
    "print(\"Accuracy Random Forest:\", rf_acc)"
   ]
  },
  {
   "cell_type": "code",
   "execution_count": 42,
   "metadata": {},
   "outputs": [
    {
     "name": "stdout",
     "output_type": "stream",
     "text": [
      "Accuracy Gradient Boosting: 0.7422222222222222\n"
     ]
    }
   ],
   "source": [
    "# обучение Gradient Boosting\n",
    "gb = GradientBoostingClassifier(n_estimators=10, random_state=42)\n",
    "gb.fit(X_train, y_train)\n",
    "y_pred = gb.predict(X_test)\n",
    "gb_acc = accuracy_score(y_test, y_pred)\n",
    "print(\"Accuracy Gradient Boosting:\", gb_acc)"
   ]
  },
  {
   "cell_type": "code",
   "execution_count": 43,
   "metadata": {},
   "outputs": [
    {
     "name": "stdout",
     "output_type": "stream",
     "text": [
      "Stacking Accuracy: 0.7511111111111111\n"
     ]
    }
   ],
   "source": [
    "# создание Stacking модели\n",
    "estimators = [('Random Forest', rf), ('Gradient Boosting', gb)]\n",
    "stacked_model = StackingClassifier(estimators=estimators, final_estimator=LogisticRegression())\n",
    "\n",
    "# обучение Stacking модели и оценка точности\n",
    "stacked_model.fit(X_train, y_train)\n",
    "y_pred = stacked_model.predict(X_test)\n",
    "acc = accuracy_score(y_test, y_pred)\n",
    "print(\"Stacking Accuracy:\", acc)"
   ]
  },
  {
   "cell_type": "code",
   "execution_count": 44,
   "metadata": {},
   "outputs": [
    {
     "data": {
      "text/html": [
       "<div>\n",
       "<style scoped>\n",
       "    .dataframe tbody tr th:only-of-type {\n",
       "        vertical-align: middle;\n",
       "    }\n",
       "\n",
       "    .dataframe tbody tr th {\n",
       "        vertical-align: top;\n",
       "    }\n",
       "\n",
       "    .dataframe thead th {\n",
       "        text-align: right;\n",
       "    }\n",
       "</style>\n",
       "<table border=\"1\" class=\"dataframe\">\n",
       "  <thead>\n",
       "    <tr style=\"text-align: right;\">\n",
       "      <th></th>\n",
       "      <th>Model Name</th>\n",
       "      <th>Training accuracy</th>\n",
       "      <th>Test accuracy</th>\n",
       "    </tr>\n",
       "  </thead>\n",
       "  <tbody>\n",
       "    <tr>\n",
       "      <th>0</th>\n",
       "      <td>Random Forest</td>\n",
       "      <td>0.944551</td>\n",
       "      <td>0.737778</td>\n",
       "    </tr>\n",
       "    <tr>\n",
       "      <th>1</th>\n",
       "      <td>Gradient Boosting</td>\n",
       "      <td>0.774379</td>\n",
       "      <td>0.737778</td>\n",
       "    </tr>\n",
       "  </tbody>\n",
       "</table>\n",
       "</div>"
      ],
      "text/plain": [
       "          Model Name  Training accuracy  Test accuracy\n",
       "0      Random Forest           0.944551       0.737778\n",
       "1  Gradient Boosting           0.774379       0.737778"
      ]
     },
     "execution_count": 44,
     "metadata": {},
     "output_type": "execute_result"
    }
   ],
   "source": [
    "models = {\n",
    "    \"Random Forest\": RandomForestClassifier(n_estimators=10, random_state=42),\n",
    "    \"Gradient Boosting\": GradientBoostingClassifier(n_estimators=100, learning_rate=0.01)\n",
    "}\n",
    "results = []\n",
    "for name, model in models.items():\n",
    "  model.fit(X_train, y_train)\n",
    "  y_train_pred = model.predict(X_train)\n",
    "  y_pred = model.predict(X_test)\n",
    "  train_acc= accuracy_score(y_train, y_train_pred)\n",
    "  test_acc= accuracy_score(y_test, y_pred)\n",
    "  results.append([name, train_acc, test_acc])\n",
    "\n",
    "df_results = pd.DataFrame(results, columns=[\"Model Name\", \"Training accuracy\", \"Test accuracy\"])\n",
    "df_results"
   ]
  },
  {
   "cell_type": "code",
   "execution_count": 59,
   "metadata": {
    "ExecuteTime": {
     "end_time": "2023-05-03T14:38:28.157636Z",
     "start_time": "2023-05-03T14:38:26.669007Z"
    }
   },
   "outputs": [
    {
     "name": "stdout",
     "output_type": "stream",
     "text": [
      "Epoch 1/10\n",
      "1/1 [==============================] - 1s 791ms/step - loss: 44.5946 - accuracy: 0.7744\n",
      "Epoch 2/10\n",
      "1/1 [==============================] - 0s 13ms/step - loss: 32.3220 - accuracy: 0.7706\n",
      "Epoch 3/10\n",
      "1/1 [==============================] - 0s 7ms/step - loss: 20.1617 - accuracy: 0.7667\n",
      "Epoch 4/10\n",
      "1/1 [==============================] - 0s 14ms/step - loss: 8.4073 - accuracy: 0.7266\n",
      "Epoch 5/10\n",
      "1/1 [==============================] - 0s 12ms/step - loss: 10.2346 - accuracy: 0.2256\n",
      "Epoch 6/10\n",
      "1/1 [==============================] - 0s 10ms/step - loss: 14.6479 - accuracy: 0.2256\n",
      "Epoch 7/10\n",
      "1/1 [==============================] - 0s 13ms/step - loss: 9.9028 - accuracy: 0.2256\n",
      "Epoch 8/10\n",
      "1/1 [==============================] - 0s 10ms/step - loss: 2.8711 - accuracy: 0.4302\n",
      "Epoch 9/10\n",
      "1/1 [==============================] - 0s 12ms/step - loss: 5.5431 - accuracy: 0.6501\n",
      "Epoch 10/10\n",
      "1/1 [==============================] - 0s 17ms/step - loss: 7.3343 - accuracy: 0.7247\n",
      "8/8 [==============================] - 0s 2ms/step\n",
      "Dense Neural Network Accuracy: 0.6711111111111111\n"
     ]
    }
   ],
   "source": [
    "import tensorflow as tf\n",
    "from sklearn.metrics import accuracy_score\n",
    "\n",
    "# создание модели\n",
    "model = tf.keras.Sequential([\n",
    "    tf.keras.layers.Dense(64, input_shape=(4,), activation='relu'),\n",
    "    tf.keras.layers.Dense(64, activation='relu'),\n",
    "    tf.keras.layers.Dense(1, activation='sigmoid')\n",
    "])\n",
    "\n",
    "# компиляция модели\n",
    "model.compile(optimizer='adam',\n",
    "              loss='binary_crossentropy',\n",
    "              metrics=['accuracy'])\n",
    "\n",
    "# обучение модели\n",
    "# model.fit(X_train, y_train, epochs=60, verbose=0)\n",
    "model.fit(X_train, y_train, epochs=10, batch_size=2000)\n",
    "\n",
    "\n",
    "# оценка точности на тестовых данных\n",
    "y_pred = model.predict(X_test)\n",
    "y_pred = y_pred.round()\n",
    "acc = accuracy_score(y_test, y_pred)\n",
    "print(\"Dense Neural Network Accuracy:\", acc)"
   ]
  },
  {
   "cell_type": "code",
   "execution_count": 60,
   "metadata": {},
   "outputs": [
    {
     "name": "stdout",
     "output_type": "stream",
     "text": [
      "train layer0 in 0.02 sec\n",
      "train layer1 in 0.05 sec\n",
      "train layer2 in 0.04 sec\n",
      "train layer3 in 0.04 sec\n",
      "train layer4 in 0.04 sec\n",
      "GMDH Model MSE: 0.16928992331427303\n",
      "GMDH Model MAE: 0.30237515203416354\n",
      "GMDH Model R^2: 0.1343128921429223\n"
     ]
    }
   ],
   "source": [
    "from gmdhpy import gmdh\n",
    "from sklearn.metrics import mean_squared_error, r2_score, mean_absolute_error\n",
    "\n",
    "# создание модели МГУА\n",
    "model_gmdh = gmdh.MultilayerGMDH()\n",
    "\n",
    "# обучение модели\n",
    "model_gmdh.fit(X_train.values, y_train.values)\n",
    "\n",
    "# оценка точности на тестовых данных\n",
    "y_pred = model_gmdh.predict(X_test.values)\n",
    "\n",
    "mse = mean_squared_error(y_test.values, y_pred)\n",
    "mae = mean_absolute_error(y_test.values, y_pred)\n",
    "r2 = r2_score(y_test.values, y_pred)\n",
    "\n",
    "print(\"GMDH Model MSE:\", mse)\n",
    "print(\"GMDH Model MAE:\", mae)\n",
    "print(\"GMDH Model R^2:\", r2)\n",
    "\n",
    "# acc = accuracy_score(y_test.values, y_pred)\n",
    "# print(\"GMDH Model Accuracy:\", acc)"
   ]
  },
  {
   "cell_type": "code",
   "execution_count": null,
   "metadata": {},
   "outputs": [],
   "source": []
  }
 ],
 "metadata": {
  "kernelspec": {
   "display_name": "Python 3 (ipykernel)",
   "language": "python",
   "name": "python3"
  },
  "language_info": {
   "codemirror_mode": {
    "name": "ipython",
    "version": 3
   },
   "file_extension": ".py",
   "mimetype": "text/x-python",
   "name": "python",
   "nbconvert_exporter": "python",
   "pygments_lexer": "ipython3",
   "version": "3.10.7"
  }
 },
 "nbformat": 4,
 "nbformat_minor": 1
}
