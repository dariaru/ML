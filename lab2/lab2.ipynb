{
 "cells": [
  {
   "cell_type": "code",
   "execution_count": 1,
   "id": "b75a61df",
   "metadata": {
    "pycharm": {
     "is_executing": true
    }
   },
   "outputs": [],
   "source": [
    "import numpy as np\n",
    "import pandas as pd\n",
    "import seaborn as sns\n",
    "import matplotlib.pyplot as plt\n",
    "%matplotlib inline \n",
    "sns.set(style=\"ticks\")"
   ]
  },
  {
   "cell_type": "code",
   "execution_count": 2,
   "id": "b69a3d5f",
   "metadata": {},
   "outputs": [],
   "source": [
    "# Будем использовать только обучающую выборку\n",
    "data = pd.read_csv(r\"C:\\Users\\Дарья\\Desktop\\6- семестр\\ТМО\\uk_universities.csv\")"
   ]
  },
  {
   "cell_type": "code",
   "execution_count": 3,
   "id": "18619330",
   "metadata": {},
   "outputs": [
    {
     "data": {
      "text/plain": [
       "(126, 17)"
      ]
     },
     "execution_count": 3,
     "metadata": {},
     "output_type": "execute_result"
    }
   ],
   "source": [
    "data.shape"
   ]
  },
  {
   "cell_type": "code",
   "execution_count": 4,
   "id": "b4490fae",
   "metadata": {},
   "outputs": [
    {
     "data": {
      "text/plain": [
       "Название университета                   object\n",
       "Регион                                  object\n",
       "Год основания                            int64\n",
       "Девиз                                   object\n",
       "Национальный ранг                        int64\n",
       "Мировой рейтинг                          int64\n",
       "Оценка мировых рейтингов               float64\n",
       "Minimum_IELTS_score                    float64\n",
       "Иностранные студенты                    object\n",
       "Оценка студентов                        object\n",
       "Кол-во поступивших студентов (тыс.)      int64\n",
       "Кол-во преподавательского состава      float64\n",
       "Тип управления университета             object\n",
       "Местоположение кампуса                  object\n",
       "Стоимость жизни в год                    int64\n",
       "Широта                                 float64\n",
       "Долгота                                 object\n",
       "dtype: object"
      ]
     },
     "execution_count": 4,
     "metadata": {},
     "output_type": "execute_result"
    }
   ],
   "source": [
    "# типы колонок\n",
    "data.dtypes"
   ]
  },
  {
   "cell_type": "code",
   "execution_count": 5,
   "id": "642b3e9d",
   "metadata": {},
   "outputs": [
    {
     "data": {
      "text/plain": [
       "Название университета                   0\n",
       "Регион                                  0\n",
       "Год основания                           0\n",
       "Девиз                                  14\n",
       "Национальный ранг                       0\n",
       "Мировой рейтинг                         0\n",
       "Оценка мировых рейтингов               44\n",
       "Minimum_IELTS_score                     0\n",
       "Иностранные студенты                    0\n",
       "Оценка студентов                        0\n",
       "Кол-во поступивших студентов (тыс.)     0\n",
       "Кол-во преподавательского состава       0\n",
       "Тип управления университета             0\n",
       "Местоположение кампуса                 17\n",
       "Стоимость жизни в год                   0\n",
       "Широта                                  0\n",
       "Долгота                                 0\n",
       "dtype: int64"
      ]
     },
     "execution_count": 5,
     "metadata": {},
     "output_type": "execute_result"
    }
   ],
   "source": [
    "# проверим есть ли пропущенные значения\n",
    "data.isnull().sum()"
   ]
  },
  {
   "cell_type": "code",
   "execution_count": 6,
   "id": "74319172",
   "metadata": {},
   "outputs": [
    {
     "data": {
      "text/html": [
       "<div>\n",
       "<style scoped>\n",
       "    .dataframe tbody tr th:only-of-type {\n",
       "        vertical-align: middle;\n",
       "    }\n",
       "\n",
       "    .dataframe tbody tr th {\n",
       "        vertical-align: top;\n",
       "    }\n",
       "\n",
       "    .dataframe thead th {\n",
       "        text-align: right;\n",
       "    }\n",
       "</style>\n",
       "<table border=\"1\" class=\"dataframe\">\n",
       "  <thead>\n",
       "    <tr style=\"text-align: right;\">\n",
       "      <th></th>\n",
       "      <th>Название университета</th>\n",
       "      <th>Регион</th>\n",
       "      <th>Год основания</th>\n",
       "      <th>Девиз</th>\n",
       "      <th>Национальный ранг</th>\n",
       "      <th>Мировой рейтинг</th>\n",
       "      <th>Оценка мировых рейтингов</th>\n",
       "      <th>Minimum_IELTS_score</th>\n",
       "      <th>Иностранные студенты</th>\n",
       "      <th>Оценка студентов</th>\n",
       "      <th>Кол-во поступивших студентов (тыс.)</th>\n",
       "      <th>Кол-во преподавательского состава</th>\n",
       "      <th>Тип управления университета</th>\n",
       "      <th>Местоположение кампуса</th>\n",
       "      <th>Стоимость жизни в год</th>\n",
       "      <th>Широта</th>\n",
       "      <th>Долгота</th>\n",
       "    </tr>\n",
       "  </thead>\n",
       "  <tbody>\n",
       "    <tr>\n",
       "      <th>0</th>\n",
       "      <td>University of Cambridge</td>\n",
       "      <td>East of England</td>\n",
       "      <td>1209</td>\n",
       "      <td>From here, light and sacred draughts</td>\n",
       "      <td>1</td>\n",
       "      <td>4</td>\n",
       "      <td>94.1</td>\n",
       "      <td>6.5</td>\n",
       "      <td>20.20%</td>\n",
       "      <td>85.50%</td>\n",
       "      <td>20</td>\n",
       "      <td>5000.0</td>\n",
       "      <td>Public</td>\n",
       "      <td>Urban</td>\n",
       "      <td>12000</td>\n",
       "      <td>52.2054</td>\n",
       "      <td>0.1132</td>\n",
       "    </tr>\n",
       "    <tr>\n",
       "      <th>1</th>\n",
       "      <td>University of Oxford</td>\n",
       "      <td>South East England</td>\n",
       "      <td>1096</td>\n",
       "      <td>The Lord is my light</td>\n",
       "      <td>2</td>\n",
       "      <td>2</td>\n",
       "      <td>93.3</td>\n",
       "      <td>6.5</td>\n",
       "      <td>16.80%</td>\n",
       "      <td>86.50%</td>\n",
       "      <td>25</td>\n",
       "      <td>5000.0</td>\n",
       "      <td>Public</td>\n",
       "      <td>Urban</td>\n",
       "      <td>11500</td>\n",
       "      <td>51.7548</td>\n",
       "      <td>-1.2544</td>\n",
       "    </tr>\n",
       "    <tr>\n",
       "      <th>2</th>\n",
       "      <td>University of St Andrews</td>\n",
       "      <td>Scotland</td>\n",
       "      <td>1413</td>\n",
       "      <td>Ever to excel</td>\n",
       "      <td>3</td>\n",
       "      <td>86</td>\n",
       "      <td>75.8</td>\n",
       "      <td>6.5</td>\n",
       "      <td>40.40%</td>\n",
       "      <td>87.90%</td>\n",
       "      <td>10</td>\n",
       "      <td>1500.0</td>\n",
       "      <td>Public</td>\n",
       "      <td>Suburban</td>\n",
       "      <td>12000</td>\n",
       "      <td>56.3417</td>\n",
       "      <td>-2.7943</td>\n",
       "    </tr>\n",
       "    <tr>\n",
       "      <th>3</th>\n",
       "      <td>Imperial College London</td>\n",
       "      <td>London</td>\n",
       "      <td>1907</td>\n",
       "      <td>Knowledge is the adornment and safeguard of th...</td>\n",
       "      <td>4</td>\n",
       "      <td>8</td>\n",
       "      <td>86.6</td>\n",
       "      <td>6.5</td>\n",
       "      <td>41.40%</td>\n",
       "      <td>77.90%</td>\n",
       "      <td>15</td>\n",
       "      <td>4000.0</td>\n",
       "      <td>Public</td>\n",
       "      <td>Urban</td>\n",
       "      <td>10700</td>\n",
       "      <td>51.4988</td>\n",
       "      <td>-0.1749</td>\n",
       "    </tr>\n",
       "    <tr>\n",
       "      <th>4</th>\n",
       "      <td>Loughborough University</td>\n",
       "      <td>East Midlands</td>\n",
       "      <td>1966</td>\n",
       "      <td>With Truth, Knowledge and Labour</td>\n",
       "      <td>5</td>\n",
       "      <td>404</td>\n",
       "      <td>72.8</td>\n",
       "      <td>5.5</td>\n",
       "      <td>22.00%</td>\n",
       "      <td>85.80%</td>\n",
       "      <td>15</td>\n",
       "      <td>1500.0</td>\n",
       "      <td>Public</td>\n",
       "      <td>Suburban</td>\n",
       "      <td>9398</td>\n",
       "      <td>52.7650</td>\n",
       "      <td>-1.2321</td>\n",
       "    </tr>\n",
       "  </tbody>\n",
       "</table>\n",
       "</div>"
      ],
      "text/plain": [
       "      Название университета              Регион  Год основания  \\\n",
       "0   University of Cambridge     East of England           1209   \n",
       "1      University of Oxford  South East England           1096   \n",
       "2  University of St Andrews            Scotland           1413   \n",
       "3   Imperial College London              London           1907   \n",
       "4   Loughborough University       East Midlands           1966   \n",
       "\n",
       "                                               Девиз  Национальный ранг  \\\n",
       "0               From here, light and sacred draughts                  1   \n",
       "1                               The Lord is my light                  2   \n",
       "2                                      Ever to excel                  3   \n",
       "3  Knowledge is the adornment and safeguard of th...                  4   \n",
       "4                   With Truth, Knowledge and Labour                  5   \n",
       "\n",
       "   Мировой рейтинг  Оценка мировых рейтингов  Minimum_IELTS_score  \\\n",
       "0                4                      94.1                  6.5   \n",
       "1                2                      93.3                  6.5   \n",
       "2               86                      75.8                  6.5   \n",
       "3                8                      86.6                  6.5   \n",
       "4              404                      72.8                  5.5   \n",
       "\n",
       "  Иностранные студенты Оценка студентов  Кол-во поступивших студентов (тыс.)  \\\n",
       "0               20.20%           85.50%                                   20   \n",
       "1               16.80%           86.50%                                   25   \n",
       "2               40.40%           87.90%                                   10   \n",
       "3               41.40%           77.90%                                   15   \n",
       "4               22.00%           85.80%                                   15   \n",
       "\n",
       "   Кол-во преподавательского состава Тип управления университета  \\\n",
       "0                             5000.0                      Public   \n",
       "1                             5000.0                      Public   \n",
       "2                             1500.0                      Public   \n",
       "3                             4000.0                      Public   \n",
       "4                             1500.0                      Public   \n",
       "\n",
       "  Местоположение кампуса  Стоимость жизни в год   Широта  Долгота  \n",
       "0                  Urban                  12000  52.2054   0.1132  \n",
       "1                  Urban                  11500  51.7548  -1.2544  \n",
       "2               Suburban                  12000  56.3417  -2.7943  \n",
       "3                  Urban                  10700  51.4988  -0.1749  \n",
       "4               Suburban                   9398  52.7650  -1.2321  "
      ]
     },
     "execution_count": 6,
     "metadata": {},
     "output_type": "execute_result"
    }
   ],
   "source": [
    "# Первые 5 строк датасета\n",
    "data.head()"
   ]
  },
  {
   "cell_type": "code",
   "execution_count": 7,
   "id": "1a5c46a3",
   "metadata": {},
   "outputs": [
    {
     "name": "stdout",
     "output_type": "stream",
     "text": [
      "Всего строк: 126\n"
     ]
    }
   ],
   "source": [
    "total_count = data.shape[0]\n",
    "print('Всего строк: {}'.format(total_count))"
   ]
  },
  {
   "cell_type": "code",
   "execution_count": 8,
   "id": "ef50133a",
   "metadata": {},
   "outputs": [
    {
     "data": {
      "text/plain": [
       "((126, 17), (126, 14))"
      ]
     },
     "execution_count": 8,
     "metadata": {},
     "output_type": "execute_result"
    }
   ],
   "source": [
    "# Удаление колонок, содержащих пустые значения\n",
    "data_new_1 = data.dropna(axis=1, how='any')\n",
    "(data.shape, data_new_1.shape)"
   ]
  },
  {
   "cell_type": "code",
   "execution_count": 9,
   "id": "634c9048",
   "metadata": {
    "scrolled": false
   },
   "outputs": [
    {
     "data": {
      "text/plain": [
       "((126, 17), (69, 17))"
      ]
     },
     "execution_count": 9,
     "metadata": {},
     "output_type": "execute_result"
    }
   ],
   "source": [
    "# Удаление строк, содержащих пустые значения\n",
    "data_new_2 = data.dropna(axis=0, how='any')\n",
    "(data.shape, data_new_2.shape)"
   ]
  },
  {
   "cell_type": "code",
   "execution_count": 10,
   "id": "186a872e",
   "metadata": {},
   "outputs": [
    {
     "data": {
      "text/html": [
       "<div>\n",
       "<style scoped>\n",
       "    .dataframe tbody tr th:only-of-type {\n",
       "        vertical-align: middle;\n",
       "    }\n",
       "\n",
       "    .dataframe tbody tr th {\n",
       "        vertical-align: top;\n",
       "    }\n",
       "\n",
       "    .dataframe thead th {\n",
       "        text-align: right;\n",
       "    }\n",
       "</style>\n",
       "<table border=\"1\" class=\"dataframe\">\n",
       "  <thead>\n",
       "    <tr style=\"text-align: right;\">\n",
       "      <th></th>\n",
       "      <th>Название университета</th>\n",
       "      <th>Регион</th>\n",
       "      <th>Год основания</th>\n",
       "      <th>Девиз</th>\n",
       "      <th>Национальный ранг</th>\n",
       "      <th>Мировой рейтинг</th>\n",
       "      <th>Оценка мировых рейтингов</th>\n",
       "      <th>Minimum_IELTS_score</th>\n",
       "      <th>Иностранные студенты</th>\n",
       "      <th>Оценка студентов</th>\n",
       "      <th>Кол-во поступивших студентов (тыс.)</th>\n",
       "      <th>Кол-во преподавательского состава</th>\n",
       "      <th>Тип управления университета</th>\n",
       "      <th>Местоположение кампуса</th>\n",
       "      <th>Стоимость жизни в год</th>\n",
       "      <th>Широта</th>\n",
       "      <th>Долгота</th>\n",
       "    </tr>\n",
       "  </thead>\n",
       "  <tbody>\n",
       "    <tr>\n",
       "      <th>0</th>\n",
       "      <td>University of Cambridge</td>\n",
       "      <td>East of England</td>\n",
       "      <td>1209</td>\n",
       "      <td>From here, light and sacred draughts</td>\n",
       "      <td>1</td>\n",
       "      <td>4</td>\n",
       "      <td>94.1</td>\n",
       "      <td>6.5</td>\n",
       "      <td>20.20%</td>\n",
       "      <td>85.50%</td>\n",
       "      <td>20</td>\n",
       "      <td>5000.0</td>\n",
       "      <td>Public</td>\n",
       "      <td>Urban</td>\n",
       "      <td>12000</td>\n",
       "      <td>52.2054</td>\n",
       "      <td>0.1132</td>\n",
       "    </tr>\n",
       "    <tr>\n",
       "      <th>1</th>\n",
       "      <td>University of Oxford</td>\n",
       "      <td>South East England</td>\n",
       "      <td>1096</td>\n",
       "      <td>The Lord is my light</td>\n",
       "      <td>2</td>\n",
       "      <td>2</td>\n",
       "      <td>93.3</td>\n",
       "      <td>6.5</td>\n",
       "      <td>16.80%</td>\n",
       "      <td>86.50%</td>\n",
       "      <td>25</td>\n",
       "      <td>5000.0</td>\n",
       "      <td>Public</td>\n",
       "      <td>Urban</td>\n",
       "      <td>11500</td>\n",
       "      <td>51.7548</td>\n",
       "      <td>-1.2544</td>\n",
       "    </tr>\n",
       "    <tr>\n",
       "      <th>2</th>\n",
       "      <td>University of St Andrews</td>\n",
       "      <td>Scotland</td>\n",
       "      <td>1413</td>\n",
       "      <td>Ever to excel</td>\n",
       "      <td>3</td>\n",
       "      <td>86</td>\n",
       "      <td>75.8</td>\n",
       "      <td>6.5</td>\n",
       "      <td>40.40%</td>\n",
       "      <td>87.90%</td>\n",
       "      <td>10</td>\n",
       "      <td>1500.0</td>\n",
       "      <td>Public</td>\n",
       "      <td>Suburban</td>\n",
       "      <td>12000</td>\n",
       "      <td>56.3417</td>\n",
       "      <td>-2.7943</td>\n",
       "    </tr>\n",
       "    <tr>\n",
       "      <th>3</th>\n",
       "      <td>Imperial College London</td>\n",
       "      <td>London</td>\n",
       "      <td>1907</td>\n",
       "      <td>Knowledge is the adornment and safeguard of th...</td>\n",
       "      <td>4</td>\n",
       "      <td>8</td>\n",
       "      <td>86.6</td>\n",
       "      <td>6.5</td>\n",
       "      <td>41.40%</td>\n",
       "      <td>77.90%</td>\n",
       "      <td>15</td>\n",
       "      <td>4000.0</td>\n",
       "      <td>Public</td>\n",
       "      <td>Urban</td>\n",
       "      <td>10700</td>\n",
       "      <td>51.4988</td>\n",
       "      <td>-0.1749</td>\n",
       "    </tr>\n",
       "    <tr>\n",
       "      <th>4</th>\n",
       "      <td>Loughborough University</td>\n",
       "      <td>East Midlands</td>\n",
       "      <td>1966</td>\n",
       "      <td>With Truth, Knowledge and Labour</td>\n",
       "      <td>5</td>\n",
       "      <td>404</td>\n",
       "      <td>72.8</td>\n",
       "      <td>5.5</td>\n",
       "      <td>22.00%</td>\n",
       "      <td>85.80%</td>\n",
       "      <td>15</td>\n",
       "      <td>1500.0</td>\n",
       "      <td>Public</td>\n",
       "      <td>Suburban</td>\n",
       "      <td>9398</td>\n",
       "      <td>52.7650</td>\n",
       "      <td>-1.2321</td>\n",
       "    </tr>\n",
       "  </tbody>\n",
       "</table>\n",
       "</div>"
      ],
      "text/plain": [
       "      Название университета              Регион  Год основания  \\\n",
       "0   University of Cambridge     East of England           1209   \n",
       "1      University of Oxford  South East England           1096   \n",
       "2  University of St Andrews            Scotland           1413   \n",
       "3   Imperial College London              London           1907   \n",
       "4   Loughborough University       East Midlands           1966   \n",
       "\n",
       "                                               Девиз  Национальный ранг  \\\n",
       "0               From here, light and sacred draughts                  1   \n",
       "1                               The Lord is my light                  2   \n",
       "2                                      Ever to excel                  3   \n",
       "3  Knowledge is the adornment and safeguard of th...                  4   \n",
       "4                   With Truth, Knowledge and Labour                  5   \n",
       "\n",
       "   Мировой рейтинг  Оценка мировых рейтингов  Minimum_IELTS_score  \\\n",
       "0                4                      94.1                  6.5   \n",
       "1                2                      93.3                  6.5   \n",
       "2               86                      75.8                  6.5   \n",
       "3                8                      86.6                  6.5   \n",
       "4              404                      72.8                  5.5   \n",
       "\n",
       "  Иностранные студенты Оценка студентов  Кол-во поступивших студентов (тыс.)  \\\n",
       "0               20.20%           85.50%                                   20   \n",
       "1               16.80%           86.50%                                   25   \n",
       "2               40.40%           87.90%                                   10   \n",
       "3               41.40%           77.90%                                   15   \n",
       "4               22.00%           85.80%                                   15   \n",
       "\n",
       "   Кол-во преподавательского состава Тип управления университета  \\\n",
       "0                             5000.0                      Public   \n",
       "1                             5000.0                      Public   \n",
       "2                             1500.0                      Public   \n",
       "3                             4000.0                      Public   \n",
       "4                             1500.0                      Public   \n",
       "\n",
       "  Местоположение кампуса  Стоимость жизни в год   Широта  Долгота  \n",
       "0                  Urban                  12000  52.2054   0.1132  \n",
       "1                  Urban                  11500  51.7548  -1.2544  \n",
       "2               Suburban                  12000  56.3417  -2.7943  \n",
       "3                  Urban                  10700  51.4988  -0.1749  \n",
       "4               Suburban                   9398  52.7650  -1.2321  "
      ]
     },
     "execution_count": 10,
     "metadata": {},
     "output_type": "execute_result"
    }
   ],
   "source": [
    "data.head()"
   ]
  },
  {
   "cell_type": "code",
   "execution_count": 11,
   "id": "b72aca20",
   "metadata": {
    "scrolled": true
   },
   "outputs": [
    {
     "data": {
      "text/html": [
       "<div>\n",
       "<style scoped>\n",
       "    .dataframe tbody tr th:only-of-type {\n",
       "        vertical-align: middle;\n",
       "    }\n",
       "\n",
       "    .dataframe tbody tr th {\n",
       "        vertical-align: top;\n",
       "    }\n",
       "\n",
       "    .dataframe thead th {\n",
       "        text-align: right;\n",
       "    }\n",
       "</style>\n",
       "<table border=\"1\" class=\"dataframe\">\n",
       "  <thead>\n",
       "    <tr style=\"text-align: right;\">\n",
       "      <th></th>\n",
       "      <th>Название университета</th>\n",
       "      <th>Регион</th>\n",
       "      <th>Год основания</th>\n",
       "      <th>Девиз</th>\n",
       "      <th>Национальный ранг</th>\n",
       "      <th>Мировой рейтинг</th>\n",
       "      <th>Оценка мировых рейтингов</th>\n",
       "      <th>Minimum_IELTS_score</th>\n",
       "      <th>Иностранные студенты</th>\n",
       "      <th>Оценка студентов</th>\n",
       "      <th>Кол-во поступивших студентов (тыс.)</th>\n",
       "      <th>Кол-во преподавательского состава</th>\n",
       "      <th>Тип управления университета</th>\n",
       "      <th>Местоположение кампуса</th>\n",
       "      <th>Стоимость жизни в год</th>\n",
       "      <th>Широта</th>\n",
       "      <th>Долгота</th>\n",
       "    </tr>\n",
       "  </thead>\n",
       "  <tbody>\n",
       "    <tr>\n",
       "      <th>0</th>\n",
       "      <td>University of Cambridge</td>\n",
       "      <td>East of England</td>\n",
       "      <td>1209</td>\n",
       "      <td>From here, light and sacred draughts</td>\n",
       "      <td>1</td>\n",
       "      <td>4</td>\n",
       "      <td>94.1</td>\n",
       "      <td>6.5</td>\n",
       "      <td>20.20%</td>\n",
       "      <td>85.50%</td>\n",
       "      <td>20</td>\n",
       "      <td>5000.0</td>\n",
       "      <td>Public</td>\n",
       "      <td>Urban</td>\n",
       "      <td>12000</td>\n",
       "      <td>52.2054</td>\n",
       "      <td>0.1132</td>\n",
       "    </tr>\n",
       "    <tr>\n",
       "      <th>1</th>\n",
       "      <td>University of Oxford</td>\n",
       "      <td>South East England</td>\n",
       "      <td>1096</td>\n",
       "      <td>The Lord is my light</td>\n",
       "      <td>2</td>\n",
       "      <td>2</td>\n",
       "      <td>93.3</td>\n",
       "      <td>6.5</td>\n",
       "      <td>16.80%</td>\n",
       "      <td>86.50%</td>\n",
       "      <td>25</td>\n",
       "      <td>5000.0</td>\n",
       "      <td>Public</td>\n",
       "      <td>Urban</td>\n",
       "      <td>11500</td>\n",
       "      <td>51.7548</td>\n",
       "      <td>-1.2544</td>\n",
       "    </tr>\n",
       "    <tr>\n",
       "      <th>2</th>\n",
       "      <td>University of St Andrews</td>\n",
       "      <td>Scotland</td>\n",
       "      <td>1413</td>\n",
       "      <td>Ever to excel</td>\n",
       "      <td>3</td>\n",
       "      <td>86</td>\n",
       "      <td>75.8</td>\n",
       "      <td>6.5</td>\n",
       "      <td>40.40%</td>\n",
       "      <td>87.90%</td>\n",
       "      <td>10</td>\n",
       "      <td>1500.0</td>\n",
       "      <td>Public</td>\n",
       "      <td>Suburban</td>\n",
       "      <td>12000</td>\n",
       "      <td>56.3417</td>\n",
       "      <td>-2.7943</td>\n",
       "    </tr>\n",
       "    <tr>\n",
       "      <th>3</th>\n",
       "      <td>Imperial College London</td>\n",
       "      <td>London</td>\n",
       "      <td>1907</td>\n",
       "      <td>Knowledge is the adornment and safeguard of th...</td>\n",
       "      <td>4</td>\n",
       "      <td>8</td>\n",
       "      <td>86.6</td>\n",
       "      <td>6.5</td>\n",
       "      <td>41.40%</td>\n",
       "      <td>77.90%</td>\n",
       "      <td>15</td>\n",
       "      <td>4000.0</td>\n",
       "      <td>Public</td>\n",
       "      <td>Urban</td>\n",
       "      <td>10700</td>\n",
       "      <td>51.4988</td>\n",
       "      <td>-0.1749</td>\n",
       "    </tr>\n",
       "    <tr>\n",
       "      <th>4</th>\n",
       "      <td>Loughborough University</td>\n",
       "      <td>East Midlands</td>\n",
       "      <td>1966</td>\n",
       "      <td>With Truth, Knowledge and Labour</td>\n",
       "      <td>5</td>\n",
       "      <td>404</td>\n",
       "      <td>72.8</td>\n",
       "      <td>5.5</td>\n",
       "      <td>22.00%</td>\n",
       "      <td>85.80%</td>\n",
       "      <td>15</td>\n",
       "      <td>1500.0</td>\n",
       "      <td>Public</td>\n",
       "      <td>Suburban</td>\n",
       "      <td>9398</td>\n",
       "      <td>52.7650</td>\n",
       "      <td>-1.2321</td>\n",
       "    </tr>\n",
       "  </tbody>\n",
       "</table>\n",
       "</div>"
      ],
      "text/plain": [
       "      Название университета              Регион  Год основания  \\\n",
       "0   University of Cambridge     East of England           1209   \n",
       "1      University of Oxford  South East England           1096   \n",
       "2  University of St Andrews            Scotland           1413   \n",
       "3   Imperial College London              London           1907   \n",
       "4   Loughborough University       East Midlands           1966   \n",
       "\n",
       "                                               Девиз  Национальный ранг  \\\n",
       "0               From here, light and sacred draughts                  1   \n",
       "1                               The Lord is my light                  2   \n",
       "2                                      Ever to excel                  3   \n",
       "3  Knowledge is the adornment and safeguard of th...                  4   \n",
       "4                   With Truth, Knowledge and Labour                  5   \n",
       "\n",
       "   Мировой рейтинг  Оценка мировых рейтингов  Minimum_IELTS_score  \\\n",
       "0                4                      94.1                  6.5   \n",
       "1                2                      93.3                  6.5   \n",
       "2               86                      75.8                  6.5   \n",
       "3                8                      86.6                  6.5   \n",
       "4              404                      72.8                  5.5   \n",
       "\n",
       "  Иностранные студенты Оценка студентов  Кол-во поступивших студентов (тыс.)  \\\n",
       "0               20.20%           85.50%                                   20   \n",
       "1               16.80%           86.50%                                   25   \n",
       "2               40.40%           87.90%                                   10   \n",
       "3               41.40%           77.90%                                   15   \n",
       "4               22.00%           85.80%                                   15   \n",
       "\n",
       "   Кол-во преподавательского состава Тип управления университета  \\\n",
       "0                             5000.0                      Public   \n",
       "1                             5000.0                      Public   \n",
       "2                             1500.0                      Public   \n",
       "3                             4000.0                      Public   \n",
       "4                             1500.0                      Public   \n",
       "\n",
       "  Местоположение кампуса  Стоимость жизни в год   Широта  Долгота  \n",
       "0                  Urban                  12000  52.2054   0.1132  \n",
       "1                  Urban                  11500  51.7548  -1.2544  \n",
       "2               Suburban                  12000  56.3417  -2.7943  \n",
       "3                  Urban                  10700  51.4988  -0.1749  \n",
       "4               Suburban                   9398  52.7650  -1.2321  "
      ]
     },
     "execution_count": 11,
     "metadata": {},
     "output_type": "execute_result"
    }
   ],
   "source": [
    "# Заполнение всех пропущенных значений нулями\n",
    "# В данном случае это некорректно, так как нулями заполняются в том числе категориальные колонки\n",
    "data_new_3 = data.fillna(0)\n",
    "data_new_3.head()"
   ]
  },
  {
   "cell_type": "code",
   "execution_count": 12,
   "id": "85e8070c",
   "metadata": {},
   "outputs": [
    {
     "name": "stdout",
     "output_type": "stream",
     "text": [
      "Колонка Оценка мировых рейтингов. Тип данных float64. Количество пустых значений 44, 34.92%.\n"
     ]
    }
   ],
   "source": [
    "# Выберем числовые колонки с пропущенными значениями\n",
    "# Цикл по колонкам датасета\n",
    "num_cols = []\n",
    "for col in data.columns:\n",
    "    # Количество пустых значений \n",
    "    temp_null_count = data[data[col].isnull()].shape[0]\n",
    "    dt = str(data[col].dtype)\n",
    "    if temp_null_count>0 and (dt=='float64' or dt=='int64'):\n",
    "        num_cols.append(col)\n",
    "        temp_perc = round((temp_null_count / total_count) * 100.0, 2)\n",
    "        print('Колонка {}. Тип данных {}. Количество пустых значений {}, {}%.'.format(col, dt, temp_null_count, temp_perc))\n"
   ]
  },
  {
   "cell_type": "code",
   "execution_count": 13,
   "id": "a28bc9bb",
   "metadata": {},
   "outputs": [
    {
     "data": {
      "text/html": [
       "<div>\n",
       "<style scoped>\n",
       "    .dataframe tbody tr th:only-of-type {\n",
       "        vertical-align: middle;\n",
       "    }\n",
       "\n",
       "    .dataframe tbody tr th {\n",
       "        vertical-align: top;\n",
       "    }\n",
       "\n",
       "    .dataframe thead th {\n",
       "        text-align: right;\n",
       "    }\n",
       "</style>\n",
       "<table border=\"1\" class=\"dataframe\">\n",
       "  <thead>\n",
       "    <tr style=\"text-align: right;\">\n",
       "      <th></th>\n",
       "      <th>Оценка мировых рейтингов</th>\n",
       "    </tr>\n",
       "  </thead>\n",
       "  <tbody>\n",
       "    <tr>\n",
       "      <th>0</th>\n",
       "      <td>94.1</td>\n",
       "    </tr>\n",
       "    <tr>\n",
       "      <th>1</th>\n",
       "      <td>93.3</td>\n",
       "    </tr>\n",
       "    <tr>\n",
       "      <th>2</th>\n",
       "      <td>75.8</td>\n",
       "    </tr>\n",
       "    <tr>\n",
       "      <th>3</th>\n",
       "      <td>86.6</td>\n",
       "    </tr>\n",
       "    <tr>\n",
       "      <th>4</th>\n",
       "      <td>72.8</td>\n",
       "    </tr>\n",
       "    <tr>\n",
       "      <th>...</th>\n",
       "      <td>...</td>\n",
       "    </tr>\n",
       "    <tr>\n",
       "      <th>121</th>\n",
       "      <td>NaN</td>\n",
       "    </tr>\n",
       "    <tr>\n",
       "      <th>122</th>\n",
       "      <td>NaN</td>\n",
       "    </tr>\n",
       "    <tr>\n",
       "      <th>123</th>\n",
       "      <td>NaN</td>\n",
       "    </tr>\n",
       "    <tr>\n",
       "      <th>124</th>\n",
       "      <td>NaN</td>\n",
       "    </tr>\n",
       "    <tr>\n",
       "      <th>125</th>\n",
       "      <td>NaN</td>\n",
       "    </tr>\n",
       "  </tbody>\n",
       "</table>\n",
       "<p>126 rows × 1 columns</p>\n",
       "</div>"
      ],
      "text/plain": [
       "     Оценка мировых рейтингов\n",
       "0                        94.1\n",
       "1                        93.3\n",
       "2                        75.8\n",
       "3                        86.6\n",
       "4                        72.8\n",
       "..                        ...\n",
       "121                       NaN\n",
       "122                       NaN\n",
       "123                       NaN\n",
       "124                       NaN\n",
       "125                       NaN\n",
       "\n",
       "[126 rows x 1 columns]"
      ]
     },
     "execution_count": 13,
     "metadata": {},
     "output_type": "execute_result"
    }
   ],
   "source": [
    "# Фильтр по колонкам с пропущенными значениями\n",
    "data_num = data[num_cols]\n",
    "data_num"
   ]
  },
  {
   "cell_type": "code",
   "execution_count": 14,
   "id": "3ef9ee95",
   "metadata": {},
   "outputs": [
    {
     "data": {
      "image/png": "[encoded data removed]",
      "text/plain": [
       "<Figure size 640x480 with 1 Axes>"
      ]
     },
     "metadata": {},
     "output_type": "display_data"
    }
   ],
   "source": [
    "# Гистограмма по признакам\n",
    "for col in data_num:\n",
    "    plt.hist(data[col], 50)\n",
    "    plt.xlabel(col)\n",
    "    plt.show()"
   ]
  },
  {
   "cell_type": "code",
   "execution_count": 16,
   "id": "e8480156",
   "metadata": {},
   "outputs": [
    {
     "data": {
      "text/html": [
       "<div>\n",
       "<style scoped>\n",
       "    .dataframe tbody tr th:only-of-type {\n",
       "        vertical-align: middle;\n",
       "    }\n",
       "\n",
       "    .dataframe tbody tr th {\n",
       "        vertical-align: top;\n",
       "    }\n",
       "\n",
       "    .dataframe thead th {\n",
       "        text-align: right;\n",
       "    }\n",
       "</style>\n",
       "<table border=\"1\" class=\"dataframe\">\n",
       "  <thead>\n",
       "    <tr style=\"text-align: right;\">\n",
       "      <th></th>\n",
       "      <th>Оценка мировых рейтингов</th>\n",
       "    </tr>\n",
       "  </thead>\n",
       "  <tbody>\n",
       "    <tr>\n",
       "      <th>0</th>\n",
       "      <td>94.1</td>\n",
       "    </tr>\n",
       "    <tr>\n",
       "      <th>1</th>\n",
       "      <td>93.3</td>\n",
       "    </tr>\n",
       "    <tr>\n",
       "      <th>2</th>\n",
       "      <td>75.8</td>\n",
       "    </tr>\n",
       "    <tr>\n",
       "      <th>3</th>\n",
       "      <td>86.6</td>\n",
       "    </tr>\n",
       "    <tr>\n",
       "      <th>4</th>\n",
       "      <td>72.8</td>\n",
       "    </tr>\n",
       "  </tbody>\n",
       "</table>\n",
       "</div>"
      ],
      "text/plain": [
       "   Оценка мировых рейтингов\n",
       "0                      94.1\n",
       "1                      93.3\n",
       "2                      75.8\n",
       "3                      86.6\n",
       "4                      72.8"
      ]
     },
     "execution_count": 16,
     "metadata": {},
     "output_type": "execute_result"
    }
   ],
   "source": [
    "data_num_IMDb = data_num[['Оценка мировых рейтингов']]\n",
    "data_num_IMDb.head()"
   ]
  },
  {
   "cell_type": "code",
   "execution_count": 17,
   "id": "39c5c21d",
   "metadata": {},
   "outputs": [],
   "source": [
    "from sklearn.impute import SimpleImputer\n",
    "from sklearn.impute import MissingIndicator"
   ]
  },
  {
   "cell_type": "code",
   "execution_count": 18,
   "id": "a13a42ab",
   "metadata": {},
   "outputs": [
    {
     "data": {
      "text/plain": [
       "array([[False],\n",
       "       [False],\n",
       "       [False],\n",
       "       [False],\n",
       "       [False],\n",
       "       [False],\n",
       "       [False],\n",
       "       [False],\n",
       "       [False],\n",
       "       [False],\n",
       "       [False],\n",
       "       [False],\n",
       "       [False],\n",
       "       [False],\n",
       "       [False],\n",
       "       [False],\n",
       "       [ True],\n",
       "       [False],\n",
       "       [False],\n",
       "       [False],\n",
       "       [False],\n",
       "       [False],\n",
       "       [False],\n",
       "       [False],\n",
       "       [False],\n",
       "       [False],\n",
       "       [False],\n",
       "       [False],\n",
       "       [False],\n",
       "       [False],\n",
       "       [False],\n",
       "       [False],\n",
       "       [False],\n",
       "       [False],\n",
       "       [False],\n",
       "       [False],\n",
       "       [False],\n",
       "       [False],\n",
       "       [False],\n",
       "       [False],\n",
       "       [False],\n",
       "       [ True],\n",
       "       [False],\n",
       "       [False],\n",
       "       [False],\n",
       "       [False],\n",
       "       [False],\n",
       "       [False],\n",
       "       [False],\n",
       "       [False],\n",
       "       [ True],\n",
       "       [ True],\n",
       "       [False],\n",
       "       [ True],\n",
       "       [ True],\n",
       "       [False],\n",
       "       [False],\n",
       "       [False],\n",
       "       [ True],\n",
       "       [False],\n",
       "       [False],\n",
       "       [False],\n",
       "       [False],\n",
       "       [False],\n",
       "       [False],\n",
       "       [False],\n",
       "       [ True],\n",
       "       [ True],\n",
       "       [False],\n",
       "       [False],\n",
       "       [False],\n",
       "       [False],\n",
       "       [False],\n",
       "       [False],\n",
       "       [ True],\n",
       "       [ True],\n",
       "       [ True],\n",
       "       [ True],\n",
       "       [ True],\n",
       "       [False],\n",
       "       [ True],\n",
       "       [ True],\n",
       "       [ True],\n",
       "       [False],\n",
       "       [ True],\n",
       "       [ True],\n",
       "       [ True],\n",
       "       [ True],\n",
       "       [ True],\n",
       "       [False],\n",
       "       [ True],\n",
       "       [False],\n",
       "       [ True],\n",
       "       [ True],\n",
       "       [False],\n",
       "       [False],\n",
       "       [ True],\n",
       "       [ True],\n",
       "       [ True],\n",
       "       [False],\n",
       "       [False],\n",
       "       [False],\n",
       "       [False],\n",
       "       [ True],\n",
       "       [ True],\n",
       "       [False],\n",
       "       [ True],\n",
       "       [ True],\n",
       "       [False],\n",
       "       [ True],\n",
       "       [ True],\n",
       "       [ True],\n",
       "       [ True],\n",
       "       [False],\n",
       "       [False],\n",
       "       [ True],\n",
       "       [False],\n",
       "       [False],\n",
       "       [False],\n",
       "       [ True],\n",
       "       [ True],\n",
       "       [ True],\n",
       "       [ True],\n",
       "       [ True],\n",
       "       [ True],\n",
       "       [ True]])"
      ]
     },
     "execution_count": 18,
     "metadata": {},
     "output_type": "execute_result"
    }
   ],
   "source": [
    "# Фильтр для проверки заполнения пустых значений\n",
    "indicator = MissingIndicator()\n",
    "mask_missing_values_only = indicator.fit_transform(data_num_IMDb)\n",
    "mask_missing_values_only"
   ]
  },
  {
   "cell_type": "code",
   "execution_count": 19,
   "id": "924c4e0e",
   "metadata": {},
   "outputs": [],
   "source": [
    "strategies=['mean', 'median', 'most_frequent']"
   ]
  },
  {
   "cell_type": "code",
   "execution_count": 20,
   "id": "d8df85be",
   "metadata": {},
   "outputs": [],
   "source": [
    "def test_num_impute(strategy_param):\n",
    "    imp_num = SimpleImputer(strategy=strategy_param)\n",
    "    data_num_imp = imp_num.fit_transform(data_num_IMDb)\n",
    "    return data_num_imp[mask_missing_values_only]"
   ]
  },
  {
   "cell_type": "code",
   "execution_count": 21,
   "id": "bf63fc5d",
   "metadata": {},
   "outputs": [
    {
     "data": {
      "text/plain": [
       "('mean',\n",
       " array([74.07195122, 74.07195122, 74.07195122, 74.07195122, 74.07195122,\n",
       "        74.07195122, 74.07195122, 74.07195122, 74.07195122, 74.07195122,\n",
       "        74.07195122, 74.07195122, 74.07195122, 74.07195122, 74.07195122,\n",
       "        74.07195122, 74.07195122, 74.07195122, 74.07195122, 74.07195122,\n",
       "        74.07195122, 74.07195122, 74.07195122, 74.07195122, 74.07195122,\n",
       "        74.07195122, 74.07195122, 74.07195122, 74.07195122, 74.07195122,\n",
       "        74.07195122, 74.07195122, 74.07195122, 74.07195122, 74.07195122,\n",
       "        74.07195122, 74.07195122, 74.07195122, 74.07195122, 74.07195122,\n",
       "        74.07195122, 74.07195122, 74.07195122, 74.07195122]))"
      ]
     },
     "execution_count": 21,
     "metadata": {},
     "output_type": "execute_result"
    }
   ],
   "source": [
    "strategies[0], test_num_impute(strategies[0])"
   ]
  },
  {
   "cell_type": "code",
   "execution_count": 22,
   "id": "a8095885",
   "metadata": {},
   "outputs": [
    {
     "data": {
      "text/plain": [
       "('median',\n",
       " array([72.6, 72.6, 72.6, 72.6, 72.6, 72.6, 72.6, 72.6, 72.6, 72.6, 72.6,\n",
       "        72.6, 72.6, 72.6, 72.6, 72.6, 72.6, 72.6, 72.6, 72.6, 72.6, 72.6,\n",
       "        72.6, 72.6, 72.6, 72.6, 72.6, 72.6, 72.6, 72.6, 72.6, 72.6, 72.6,\n",
       "        72.6, 72.6, 72.6, 72.6, 72.6, 72.6, 72.6, 72.6, 72.6, 72.6, 72.6]))"
      ]
     },
     "execution_count": 22,
     "metadata": {},
     "output_type": "execute_result"
    }
   ],
   "source": [
    "strategies[1], test_num_impute(strategies[1])"
   ]
  },
  {
   "cell_type": "code",
   "execution_count": 23,
   "id": "1343666f",
   "metadata": {},
   "outputs": [
    {
     "data": {
      "text/plain": [
       "('most_frequent',\n",
       " array([71.1, 71.1, 71.1, 71.1, 71.1, 71.1, 71.1, 71.1, 71.1, 71.1, 71.1,\n",
       "        71.1, 71.1, 71.1, 71.1, 71.1, 71.1, 71.1, 71.1, 71.1, 71.1, 71.1,\n",
       "        71.1, 71.1, 71.1, 71.1, 71.1, 71.1, 71.1, 71.1, 71.1, 71.1, 71.1,\n",
       "        71.1, 71.1, 71.1, 71.1, 71.1, 71.1, 71.1, 71.1, 71.1, 71.1, 71.1]))"
      ]
     },
     "execution_count": 23,
     "metadata": {},
     "output_type": "execute_result"
    }
   ],
   "source": [
    "strategies[2], test_num_impute(strategies[2])"
   ]
  },
  {
   "cell_type": "code",
   "execution_count": 24,
   "id": "42a6aa43",
   "metadata": {},
   "outputs": [],
   "source": [
    "# Более сложная функция, которая позволяет задавать колонку и вид импьютации\n",
    "def test_num_impute_col(dataset, column, strategy_param):\n",
    "    temp_data = dataset[[column]]\n",
    "    \n",
    "    indicator = MissingIndicator()\n",
    "    mask_missing_values_only = indicator.fit_transform(temp_data)\n",
    "    \n",
    "    imp_num = SimpleImputer(strategy=strategy_param)\n",
    "    data_num_imp = imp_num.fit_transform(temp_data)\n",
    "    \n",
    "    filled_data = data_num_imp[mask_missing_values_only]\n",
    "    \n",
    "    return column, strategy_param, filled_data.size, filled_data[0], filled_data[filled_data.size-1]\n"
   ]
  },
  {
   "cell_type": "code",
   "execution_count": 25,
   "id": "45e2a95f",
   "metadata": {},
   "outputs": [
    {
     "name": "stdout",
     "output_type": "stream",
     "text": [
      "Колонка Девиз. Тип данных object. Количество пустых значений 14, 11.11%.\n",
      "Колонка Местоположение кампуса. Тип данных object. Количество пустых значений 17, 13.49%.\n"
     ]
    }
   ],
   "source": [
    "# Выберем категориальные колонки с пропущенными значениями\n",
    "# Цикл по колонкам датасета\n",
    "cat_cols = []\n",
    "for col in data.columns:\n",
    "    # Количество пустых значений \n",
    "    temp_null_count = data[data[col].isnull()].shape[0]\n",
    "    dt = str(data[col].dtype)\n",
    "    if temp_null_count>0 and (dt=='object'):\n",
    "        cat_cols.append(col)\n",
    "        temp_perc = round((temp_null_count / total_count) * 100.0, 2)\n",
    "        print('Колонка {}. Тип данных {}. Количество пустых значений {}, {}%.'.format(col, dt, temp_null_count, temp_perc))"
   ]
  },
  {
   "cell_type": "code",
   "execution_count": 29,
   "id": "44282452",
   "metadata": {},
   "outputs": [
    {
     "data": {
      "text/html": [
       "<div>\n",
       "<style scoped>\n",
       "    .dataframe tbody tr th:only-of-type {\n",
       "        vertical-align: middle;\n",
       "    }\n",
       "\n",
       "    .dataframe tbody tr th {\n",
       "        vertical-align: top;\n",
       "    }\n",
       "\n",
       "    .dataframe thead th {\n",
       "        text-align: right;\n",
       "    }\n",
       "</style>\n",
       "<table border=\"1\" class=\"dataframe\">\n",
       "  <thead>\n",
       "    <tr style=\"text-align: right;\">\n",
       "      <th></th>\n",
       "      <th>Местоположение кампуса</th>\n",
       "    </tr>\n",
       "  </thead>\n",
       "  <tbody>\n",
       "    <tr>\n",
       "      <th>0</th>\n",
       "      <td>Urban</td>\n",
       "    </tr>\n",
       "    <tr>\n",
       "      <th>1</th>\n",
       "      <td>Urban</td>\n",
       "    </tr>\n",
       "    <tr>\n",
       "      <th>2</th>\n",
       "      <td>Suburban</td>\n",
       "    </tr>\n",
       "    <tr>\n",
       "      <th>3</th>\n",
       "      <td>Urban</td>\n",
       "    </tr>\n",
       "    <tr>\n",
       "      <th>4</th>\n",
       "      <td>Suburban</td>\n",
       "    </tr>\n",
       "  </tbody>\n",
       "</table>\n",
       "</div>"
      ],
      "text/plain": [
       "  Местоположение кампуса\n",
       "0                  Urban\n",
       "1                  Urban\n",
       "2               Suburban\n",
       "3                  Urban\n",
       "4               Suburban"
      ]
     },
     "execution_count": 29,
     "metadata": {},
     "output_type": "execute_result"
    }
   ],
   "source": [
    "cat_temp_data = data[['Местоположение кампуса']]\n",
    "cat_temp_data.head()"
   ]
  },
  {
   "cell_type": "code",
   "execution_count": 31,
   "id": "bdc67007",
   "metadata": {},
   "outputs": [
    {
     "data": {
      "text/plain": [
       "array(['Urban', 'Suburban', 'Rural', nan], dtype=object)"
      ]
     },
     "execution_count": 31,
     "metadata": {},
     "output_type": "execute_result"
    }
   ],
   "source": [
    "cat_temp_data['Местоположение кампуса'].unique()"
   ]
  },
  {
   "cell_type": "code",
   "execution_count": 35,
   "id": "fdee351c",
   "metadata": {},
   "outputs": [
    {
     "data": {
      "text/plain": [
       "array([['Urban'],\n",
       "       ['Urban'],\n",
       "       ['Suburban'],\n",
       "       ['Urban'],\n",
       "       ['Suburban'],\n",
       "       ['Urban'],\n",
       "       ['Urban'],\n",
       "       ['Rural'],\n",
       "       ['Urban'],\n",
       "       ['Suburban'],\n",
       "       ['Suburban'],\n",
       "       ['Suburban'],\n",
       "       ['Urban'],\n",
       "       ['Urban'],\n",
       "       ['Urban'],\n",
       "       ['Urban'],\n",
       "       ['Rural'],\n",
       "       ['Urban'],\n",
       "       ['Suburban'],\n",
       "       ['Suburban'],\n",
       "       ['Suburban'],\n",
       "       ['Suburban'],\n",
       "       ['Suburban'],\n",
       "       ['Urban'],\n",
       "       ['Urban'],\n",
       "       ['Urban'],\n",
       "       ['Urban'],\n",
       "       ['Urban'],\n",
       "       ['Urban'],\n",
       "       ['Urban'],\n",
       "       ['Suburban'],\n",
       "       ['Suburban'],\n",
       "       ['Suburban'],\n",
       "       ['Urban'],\n",
       "       ['Urban'],\n",
       "       ['Urban'],\n",
       "       ['Suburban'],\n",
       "       ['Urban'],\n",
       "       ['Urban'],\n",
       "       ['Urban'],\n",
       "       ['Suburban'],\n",
       "       ['Urban'],\n",
       "       ['Urban'],\n",
       "       ['Suburban'],\n",
       "       ['Rural'],\n",
       "       ['Suburban'],\n",
       "       ['Urban'],\n",
       "       ['Urban'],\n",
       "       ['Urban'],\n",
       "       ['Urban'],\n",
       "       ['Urban'],\n",
       "       ['Suburban'],\n",
       "       ['Suburban'],\n",
       "       ['Rural'],\n",
       "       ['Urban'],\n",
       "       ['Urban'],\n",
       "       ['Suburban'],\n",
       "       ['Urban'],\n",
       "       ['Suburban'],\n",
       "       ['Urban'],\n",
       "       ['Urban'],\n",
       "       ['Urban'],\n",
       "       ['Urban'],\n",
       "       ['Urban'],\n",
       "       ['Urban'],\n",
       "       ['Urban'],\n",
       "       ['Suburban'],\n",
       "       ['Urban'],\n",
       "       ['Urban'],\n",
       "       ['Urban'],\n",
       "       ['Urban'],\n",
       "       ['Urban'],\n",
       "       ['Suburban'],\n",
       "       ['Urban'],\n",
       "       ['Urban'],\n",
       "       ['Urban'],\n",
       "       ['Urban'],\n",
       "       ['Suburban'],\n",
       "       ['Suburban'],\n",
       "       ['Suburban'],\n",
       "       ['Suburban'],\n",
       "       ['Urban'],\n",
       "       ['Urban'],\n",
       "       ['Suburban'],\n",
       "       ['Rural'],\n",
       "       ['Urban'],\n",
       "       ['Urban'],\n",
       "       ['Rural'],\n",
       "       ['Suburban'],\n",
       "       ['Urban'],\n",
       "       ['Suburban'],\n",
       "       ['Urban'],\n",
       "       ['Suburban'],\n",
       "       ['Urban'],\n",
       "       ['Suburban'],\n",
       "       ['Urban'],\n",
       "       ['Rural'],\n",
       "       ['Urban'],\n",
       "       ['Urban'],\n",
       "       ['Urban'],\n",
       "       ['Urban'],\n",
       "       ['Urban'],\n",
       "       ['Urban'],\n",
       "       ['Urban'],\n",
       "       ['Rural'],\n",
       "       ['Urban'],\n",
       "       ['Urban'],\n",
       "       ['Suburban'],\n",
       "       ['Urban'],\n",
       "       ['Suburban'],\n",
       "       ['Suburban'],\n",
       "       ['Suburban'],\n",
       "       ['Urban'],\n",
       "       ['Urban'],\n",
       "       ['Urban'],\n",
       "       ['Urban'],\n",
       "       ['Urban'],\n",
       "       ['Urban'],\n",
       "       ['Urban'],\n",
       "       ['Urban'],\n",
       "       ['Urban'],\n",
       "       ['Suburban'],\n",
       "       ['Urban'],\n",
       "       ['Urban'],\n",
       "       ['Urban'],\n",
       "       ['Urban']], dtype=object)"
      ]
     },
     "execution_count": 35,
     "metadata": {},
     "output_type": "execute_result"
    }
   ],
   "source": [
    "imp2 = SimpleImputer(missing_values=np.nan, strategy='most_frequent')\n",
    "data_imp2 = imp2.fit_transform(cat_temp_data)\n",
    "data_imp2"
   ]
  },
  {
   "cell_type": "code",
   "execution_count": 36,
   "id": "50ac43fd",
   "metadata": {},
   "outputs": [
    {
     "data": {
      "text/plain": [
       "array(['Rural', 'Suburban', 'Urban'], dtype=object)"
      ]
     },
     "execution_count": 36,
     "metadata": {},
     "output_type": "execute_result"
    }
   ],
   "source": [
    "# Пустые значения отсутствуют\n",
    "np.unique(data_imp2)"
   ]
  },
  {
   "cell_type": "code",
   "execution_count": 37,
   "id": "b9783cc6",
   "metadata": {
    "scrolled": true
   },
   "outputs": [
    {
     "data": {
      "text/plain": [
       "array([['Urban'],\n",
       "       ['Urban'],\n",
       "       ['Suburban'],\n",
       "       ['Urban'],\n",
       "       ['Suburban'],\n",
       "       ['Urban'],\n",
       "       ['Urban'],\n",
       "       ['Rural'],\n",
       "       ['Urban'],\n",
       "       ['Suburban'],\n",
       "       ['Suburban'],\n",
       "       ['Suburban'],\n",
       "       ['Urban'],\n",
       "       ['Urban'],\n",
       "       ['Urban'],\n",
       "       ['Urban'],\n",
       "       ['Rural'],\n",
       "       ['Urban'],\n",
       "       ['Suburban'],\n",
       "       ['Suburban'],\n",
       "       ['Suburban'],\n",
       "       ['Suburban'],\n",
       "       ['Suburban'],\n",
       "       ['Urban'],\n",
       "       ['Urban'],\n",
       "       ['Urban'],\n",
       "       ['Urban'],\n",
       "       ['Urban'],\n",
       "       ['Urban'],\n",
       "       ['Urban'],\n",
       "       ['Suburban'],\n",
       "       ['Suburban'],\n",
       "       ['Suburban'],\n",
       "       ['Urban'],\n",
       "       ['Urban'],\n",
       "       ['Urban'],\n",
       "       ['Suburban'],\n",
       "       ['NA'],\n",
       "       ['NA'],\n",
       "       ['Urban'],\n",
       "       ['Suburban'],\n",
       "       ['NA'],\n",
       "       ['Urban'],\n",
       "       ['Suburban'],\n",
       "       ['Rural'],\n",
       "       ['Suburban'],\n",
       "       ['Urban'],\n",
       "       ['Urban'],\n",
       "       ['Urban'],\n",
       "       ['Urban'],\n",
       "       ['NA'],\n",
       "       ['Suburban'],\n",
       "       ['Suburban'],\n",
       "       ['Rural'],\n",
       "       ['Urban'],\n",
       "       ['Urban'],\n",
       "       ['Suburban'],\n",
       "       ['Urban'],\n",
       "       ['Suburban'],\n",
       "       ['Urban'],\n",
       "       ['NA'],\n",
       "       ['Urban'],\n",
       "       ['Urban'],\n",
       "       ['Urban'],\n",
       "       ['Urban'],\n",
       "       ['NA'],\n",
       "       ['Suburban'],\n",
       "       ['NA'],\n",
       "       ['Urban'],\n",
       "       ['NA'],\n",
       "       ['Urban'],\n",
       "       ['NA'],\n",
       "       ['Suburban'],\n",
       "       ['Urban'],\n",
       "       ['Urban'],\n",
       "       ['NA'],\n",
       "       ['Urban'],\n",
       "       ['Suburban'],\n",
       "       ['Suburban'],\n",
       "       ['Suburban'],\n",
       "       ['Suburban'],\n",
       "       ['Urban'],\n",
       "       ['Urban'],\n",
       "       ['Suburban'],\n",
       "       ['Rural'],\n",
       "       ['Urban'],\n",
       "       ['Urban'],\n",
       "       ['Rural'],\n",
       "       ['Suburban'],\n",
       "       ['Urban'],\n",
       "       ['Suburban'],\n",
       "       ['Urban'],\n",
       "       ['Suburban'],\n",
       "       ['Urban'],\n",
       "       ['Suburban'],\n",
       "       ['Urban'],\n",
       "       ['Rural'],\n",
       "       ['Urban'],\n",
       "       ['NA'],\n",
       "       ['Urban'],\n",
       "       ['Urban'],\n",
       "       ['NA'],\n",
       "       ['Urban'],\n",
       "       ['Urban'],\n",
       "       ['Rural'],\n",
       "       ['Urban'],\n",
       "       ['Urban'],\n",
       "       ['Suburban'],\n",
       "       ['NA'],\n",
       "       ['Suburban'],\n",
       "       ['Suburban'],\n",
       "       ['Suburban'],\n",
       "       ['Urban'],\n",
       "       ['Urban'],\n",
       "       ['Urban'],\n",
       "       ['NA'],\n",
       "       ['NA'],\n",
       "       ['Urban'],\n",
       "       ['NA'],\n",
       "       ['Urban'],\n",
       "       ['Urban'],\n",
       "       ['Suburban'],\n",
       "       ['Urban'],\n",
       "       ['NA'],\n",
       "       ['Urban'],\n",
       "       ['Urban']], dtype=object)"
      ]
     },
     "execution_count": 37,
     "metadata": {},
     "output_type": "execute_result"
    }
   ],
   "source": [
    "# Импьютация константой\n",
    "imp3 = SimpleImputer(missing_values=np.nan, strategy='constant', fill_value='NA')\n",
    "data_imp3 = imp3.fit_transform(cat_temp_data)\n",
    "data_imp3"
   ]
  },
  {
   "cell_type": "code",
   "execution_count": 38,
   "id": "38dc5f19",
   "metadata": {},
   "outputs": [
    {
     "data": {
      "text/plain": [
       "array(['NA', 'Rural', 'Suburban', 'Urban'], dtype=object)"
      ]
     },
     "execution_count": 38,
     "metadata": {},
     "output_type": "execute_result"
    }
   ],
   "source": [
    "np.unique(data_imp3)"
   ]
  },
  {
   "cell_type": "code",
   "execution_count": 39,
   "id": "842b655a",
   "metadata": {},
   "outputs": [
    {
     "data": {
      "text/plain": [
       "17"
      ]
     },
     "execution_count": 39,
     "metadata": {},
     "output_type": "execute_result"
    }
   ],
   "source": [
    "data_imp3[data_imp3=='NA'].size"
   ]
  },
  {
   "cell_type": "code",
   "execution_count": 40,
   "id": "695a8de6",
   "metadata": {},
   "outputs": [
    {
     "data": {
      "text/html": [
       "<div>\n",
       "<style scoped>\n",
       "    .dataframe tbody tr th:only-of-type {\n",
       "        vertical-align: middle;\n",
       "    }\n",
       "\n",
       "    .dataframe tbody tr th {\n",
       "        vertical-align: top;\n",
       "    }\n",
       "\n",
       "    .dataframe thead th {\n",
       "        text-align: right;\n",
       "    }\n",
       "</style>\n",
       "<table border=\"1\" class=\"dataframe\">\n",
       "  <thead>\n",
       "    <tr style=\"text-align: right;\">\n",
       "      <th></th>\n",
       "      <th>c1</th>\n",
       "    </tr>\n",
       "  </thead>\n",
       "  <tbody>\n",
       "    <tr>\n",
       "      <th>0</th>\n",
       "      <td>Urban</td>\n",
       "    </tr>\n",
       "    <tr>\n",
       "      <th>1</th>\n",
       "      <td>Urban</td>\n",
       "    </tr>\n",
       "    <tr>\n",
       "      <th>2</th>\n",
       "      <td>Suburban</td>\n",
       "    </tr>\n",
       "    <tr>\n",
       "      <th>3</th>\n",
       "      <td>Urban</td>\n",
       "    </tr>\n",
       "    <tr>\n",
       "      <th>4</th>\n",
       "      <td>Suburban</td>\n",
       "    </tr>\n",
       "    <tr>\n",
       "      <th>...</th>\n",
       "      <td>...</td>\n",
       "    </tr>\n",
       "    <tr>\n",
       "      <th>121</th>\n",
       "      <td>Suburban</td>\n",
       "    </tr>\n",
       "    <tr>\n",
       "      <th>122</th>\n",
       "      <td>Urban</td>\n",
       "    </tr>\n",
       "    <tr>\n",
       "      <th>123</th>\n",
       "      <td>Urban</td>\n",
       "    </tr>\n",
       "    <tr>\n",
       "      <th>124</th>\n",
       "      <td>Urban</td>\n",
       "    </tr>\n",
       "    <tr>\n",
       "      <th>125</th>\n",
       "      <td>Urban</td>\n",
       "    </tr>\n",
       "  </tbody>\n",
       "</table>\n",
       "<p>126 rows × 1 columns</p>\n",
       "</div>"
      ],
      "text/plain": [
       "           c1\n",
       "0       Urban\n",
       "1       Urban\n",
       "2    Suburban\n",
       "3       Urban\n",
       "4    Suburban\n",
       "..        ...\n",
       "121  Suburban\n",
       "122     Urban\n",
       "123     Urban\n",
       "124     Urban\n",
       "125     Urban\n",
       "\n",
       "[126 rows x 1 columns]"
      ]
     },
     "execution_count": 40,
     "metadata": {},
     "output_type": "execute_result"
    }
   ],
   "source": [
    "cat_enc = pd.DataFrame({'c1':data_imp2.T[0]})\n",
    "cat_enc"
   ]
  },
  {
   "cell_type": "code",
   "execution_count": 41,
   "id": "8da47213",
   "metadata": {},
   "outputs": [],
   "source": [
    "from sklearn.preprocessing import LabelEncoder"
   ]
  },
  {
   "cell_type": "code",
   "execution_count": 42,
   "id": "04bb13e6",
   "metadata": {},
   "outputs": [
    {
     "data": {
      "text/plain": [
       "array(['Urban', 'Suburban', 'Rural'], dtype=object)"
      ]
     },
     "execution_count": 42,
     "metadata": {},
     "output_type": "execute_result"
    }
   ],
   "source": [
    "cat_enc['c1'].unique()"
   ]
  },
  {
   "cell_type": "code",
   "execution_count": 43,
   "id": "be975b86",
   "metadata": {},
   "outputs": [],
   "source": [
    "le = LabelEncoder()\n",
    "cat_enc_le = le.fit_transform(cat_enc['c1'])"
   ]
  },
  {
   "cell_type": "code",
   "execution_count": 44,
   "id": "a2c3b6f5",
   "metadata": {},
   "outputs": [
    {
     "data": {
      "text/plain": [
       "array(['Rural', 'Suburban', 'Urban'], dtype=object)"
      ]
     },
     "execution_count": 44,
     "metadata": {},
     "output_type": "execute_result"
    }
   ],
   "source": [
    "# Наименования категорий в соответствии с порядковыми номерами\n",
    "\n",
    "# Свойство называется classes, потому что предполагается что мы решаем \n",
    "# задачу классификации и каждое значение категории соответствует \n",
    "# какому-либо классу целевого признака\n",
    "\n",
    "le.classes_"
   ]
  },
  {
   "cell_type": "code",
   "execution_count": 45,
   "id": "b3985afc",
   "metadata": {},
   "outputs": [
    {
     "data": {
      "text/plain": [
       "array([2, 2, 1, 2, 1, 2, 2, 0, 2, 1, 1, 1, 2, 2, 2, 2, 0, 2, 1, 1, 1, 1,\n",
       "       1, 2, 2, 2, 2, 2, 2, 2, 1, 1, 1, 2, 2, 2, 1, 2, 2, 2, 1, 2, 2, 1,\n",
       "       0, 1, 2, 2, 2, 2, 2, 1, 1, 0, 2, 2, 1, 2, 1, 2, 2, 2, 2, 2, 2, 2,\n",
       "       1, 2, 2, 2, 2, 2, 1, 2, 2, 2, 2, 1, 1, 1, 1, 2, 2, 1, 0, 2, 2, 0,\n",
       "       1, 2, 1, 2, 1, 2, 1, 2, 0, 2, 2, 2, 2, 2, 2, 2, 0, 2, 2, 1, 2, 1,\n",
       "       1, 1, 2, 2, 2, 2, 2, 2, 2, 2, 2, 1, 2, 2, 2, 2])"
      ]
     },
     "execution_count": 45,
     "metadata": {},
     "output_type": "execute_result"
    }
   ],
   "source": [
    "cat_enc_le"
   ]
  },
  {
   "cell_type": "code",
   "execution_count": 46,
   "id": "ad58f504",
   "metadata": {},
   "outputs": [
    {
     "data": {
      "text/plain": [
       "array([0, 1, 2])"
      ]
     },
     "execution_count": 46,
     "metadata": {},
     "output_type": "execute_result"
    }
   ],
   "source": [
    "np.unique(cat_enc_le)"
   ]
  },
  {
   "cell_type": "code",
   "execution_count": 48,
   "id": "6e187679",
   "metadata": {},
   "outputs": [
    {
     "data": {
      "text/plain": [
       "array(['Rural', 'Suburban', 'Urban'], dtype=object)"
      ]
     },
     "execution_count": 48,
     "metadata": {},
     "output_type": "execute_result"
    }
   ],
   "source": [
    "# В этом примере видно, что перед кодированием \n",
    "# уникальные значения признака сортируются в лексикографиеском порядке\n",
    "le.inverse_transform([0, 1, 2])"
   ]
  },
  {
   "cell_type": "code",
   "execution_count": 49,
   "id": "b99ea7b2",
   "metadata": {},
   "outputs": [],
   "source": [
    "from sklearn.preprocessing import OrdinalEncoder"
   ]
  },
  {
   "cell_type": "code",
   "execution_count": 50,
   "id": "189b0959",
   "metadata": {},
   "outputs": [
    {
     "data": {
      "text/html": [
       "<div>\n",
       "<style scoped>\n",
       "    .dataframe tbody tr th:only-of-type {\n",
       "        vertical-align: middle;\n",
       "    }\n",
       "\n",
       "    .dataframe tbody tr th {\n",
       "        vertical-align: top;\n",
       "    }\n",
       "\n",
       "    .dataframe thead th {\n",
       "        text-align: right;\n",
       "    }\n",
       "</style>\n",
       "<table border=\"1\" class=\"dataframe\">\n",
       "  <thead>\n",
       "    <tr style=\"text-align: right;\">\n",
       "      <th></th>\n",
       "      <th>Название университета</th>\n",
       "      <th>Национальный ранг</th>\n",
       "      <th>Местоположение кампуса</th>\n",
       "    </tr>\n",
       "  </thead>\n",
       "  <tbody>\n",
       "    <tr>\n",
       "      <th>0</th>\n",
       "      <td>University of Cambridge</td>\n",
       "      <td>1</td>\n",
       "      <td>Urban</td>\n",
       "    </tr>\n",
       "    <tr>\n",
       "      <th>1</th>\n",
       "      <td>University of Oxford</td>\n",
       "      <td>2</td>\n",
       "      <td>Urban</td>\n",
       "    </tr>\n",
       "    <tr>\n",
       "      <th>2</th>\n",
       "      <td>University of St Andrews</td>\n",
       "      <td>3</td>\n",
       "      <td>Suburban</td>\n",
       "    </tr>\n",
       "    <tr>\n",
       "      <th>3</th>\n",
       "      <td>Imperial College London</td>\n",
       "      <td>4</td>\n",
       "      <td>Urban</td>\n",
       "    </tr>\n",
       "    <tr>\n",
       "      <th>4</th>\n",
       "      <td>Loughborough University</td>\n",
       "      <td>5</td>\n",
       "      <td>Suburban</td>\n",
       "    </tr>\n",
       "  </tbody>\n",
       "</table>\n",
       "</div>"
      ],
      "text/plain": [
       "      Название университета  Национальный ранг Местоположение кампуса\n",
       "0   University of Cambridge                  1                  Urban\n",
       "1      University of Oxford                  2                  Urban\n",
       "2  University of St Andrews                  3               Suburban\n",
       "3   Imperial College London                  4                  Urban\n",
       "4   Loughborough University                  5               Suburban"
      ]
     },
     "execution_count": 50,
     "metadata": {},
     "output_type": "execute_result"
    }
   ],
   "source": [
    "data_oe = data[['Название университета', 'Национальный ранг', 'Местоположение кампуса']]\n",
    "data_oe.head()"
   ]
  },
  {
   "cell_type": "code",
   "execution_count": 51,
   "id": "859590ad",
   "metadata": {},
   "outputs": [
    {
     "data": {
      "text/plain": [
       "array([['University of Cambridge', 1, 'Urban'],\n",
       "       ['University of Oxford', 2, 'Urban'],\n",
       "       ['University of St Andrews', 3, 'Suburban'],\n",
       "       ['Imperial College London', 4, 'Urban'],\n",
       "       ['Loughborough University', 5, 'Suburban'],\n",
       "       ['London School of Economics and Political Science', 6, 'Urban'],\n",
       "       ['Durham University', 7, 'Urban'],\n",
       "       ['Lancaster University', 8, 'Rural'],\n",
       "       ['University College London', 9, 'Urban'],\n",
       "       ['University of Warwick', 10, 'Suburban'],\n",
       "       ['University of Bath', 11, 'Suburban'],\n",
       "       ['University of Exeter', 12, 'Suburban'],\n",
       "       ['University of Leeds', 13, 'Urban'],\n",
       "       ['University of Birmingham', 14, 'Urban'],\n",
       "       ['University of Bristol', 15, 'Urban'],\n",
       "       ['University of Glasgow', 16, 'Urban'],\n",
       "       ['Harper Adams University', 17, 'Rural'],\n",
       "       ['University of Manchester', 18, 'Urban'],\n",
       "       ['Royal Holloway  University of London', 19, 'Suburban'],\n",
       "       ['University of Southampton', 20, 'Suburban'],\n",
       "       ['University of Nottingham', 21, 'Suburban'],\n",
       "       ['University of York', 22, 'Suburban'],\n",
       "       ['University of East Anglia UEA', 23, 'Suburban'],\n",
       "       ['University of Dundee', 24, 'Urban'],\n",
       "       ['University of Edinburgh', 25, 'Urban'],\n",
       "       ['University of Sheffield', 26, 'Urban'],\n",
       "       ['University of Aberdeen', 27, 'Urban'],\n",
       "       ['Newcastle University', 28, 'Urban'],\n",
       "       ['University of Liverpool', 29, 'Urban'],\n",
       "       [\"King's College London\", 30, 'Urban'],\n",
       "       ['Swansea University', 31, 'Suburban'],\n",
       "       ['University of Surrey', 32, 'Suburban'],\n",
       "       ['Heriot-Watt University', 33, 'Suburban'],\n",
       "       ['Cardiff University', 34, 'Urban'],\n",
       "       [\"Queen's University Belfast\", 35, 'Urban'],\n",
       "       ['University of Strathclyde', 36, 'Urban'],\n",
       "       ['University of Essex', 37, 'Suburban'],\n",
       "       ['University of Sussex', 38, 'NA'],\n",
       "       ['University of Reading', 38, 'NA'],\n",
       "       ['Nottingham Trent University', 40, 'Urban'],\n",
       "       ['University of Leicester', 41, 'Suburban'],\n",
       "       ['University for the Creative Arts', 42, 'NA'],\n",
       "       ['SOAS  University of London', 44, 'Urban'],\n",
       "       ['Aberystwyth University', 45, 'Suburban'],\n",
       "       ['Keele University', 46, 'Rural'],\n",
       "       ['University of Stirling', 47, 'Suburban'],\n",
       "       ['Aston University', 48, 'Urban'],\n",
       "       ['Queen Mary University of London', 49, 'Urban'],\n",
       "       ['Coventry University', 50, 'Urban'],\n",
       "       ['University of Lincoln', 51, 'Urban'],\n",
       "       ['University of West London', 52, 'NA'],\n",
       "       ['Staffordshire University', 53, 'Suburban'],\n",
       "       ['University of Kent', 54, 'Suburban'],\n",
       "       ['Edge Hill University', 55, 'Rural'],\n",
       "       ['Leeds Arts University', 56, 'Urban'],\n",
       "       ['University of Portsmouth', 56, 'Urban'],\n",
       "       ['University of the West of England', 58, 'Suburban'],\n",
       "       ['University of Ulster', 58, 'Urban'],\n",
       "       ['Liverpool Hope University', 60, 'Suburban'],\n",
       "       ['University of Huddersfield', 61, 'Urban'],\n",
       "       ['Manchester Metropolitan University', 62, 'NA'],\n",
       "       ['Oxford Brookes University', 64, 'Urban'],\n",
       "       ['Northumbria University', 65, 'Urban'],\n",
       "       ['Sheffield Hallam University', 65, 'Urban'],\n",
       "       ['Goldsmiths  University of London', 68, 'Urban'],\n",
       "       ['Bangor University', 70, 'NA'],\n",
       "       ['University of Chichester', 71, 'Suburban'],\n",
       "       ['Falmouth University', 72, 'NA'],\n",
       "       [' City University of London', 73, 'Urban'],\n",
       "       ['De Montfort University', 74, 'NA'],\n",
       "       ['University of Central Lancashire', 75, 'Urban'],\n",
       "       ['Plymouth University', 76, 'NA'],\n",
       "       ['University of Hull', 77, 'Suburban'],\n",
       "       ['Liverpool John Moores University', 78, 'Urban'],\n",
       "       ['University of Chester', 79, 'Urban'],\n",
       "       ['University of the Arts London', 79, 'NA'],\n",
       "       ['York St John University', 81, 'Urban'],\n",
       "       ['Queen Margaret University', 82, 'Suburban'],\n",
       "       ['Robert Gordon University', 83, 'Suburban'],\n",
       "       ['University of Greenwich', 84, 'Suburban'],\n",
       "       [\"St Mary's University\", 85, 'Suburban'],\n",
       "       ['London South Bank University', 86, 'Urban'],\n",
       "       ['Teesside University', 87, 'Urban'],\n",
       "       ['University of Hertfordshire', 88, 'Suburban'],\n",
       "       ['Royal Agricultural University', 89, 'Rural'],\n",
       "       ['Solent University', 89, 'Urban'],\n",
       "       ['University of Derby', 91, 'Urban'],\n",
       "       ['University of Buckingham', 92, 'Rural'],\n",
       "       ['University of Worcester', 92, 'Suburban'],\n",
       "       ['Bournemouth University', 94, 'Urban'],\n",
       "       ['University of Gloucestershire', 95, 'Suburban'],\n",
       "       ['Glasgow Caledonian University', 96, 'Urban'],\n",
       "       ['University of Winchester', 98, 'Suburban'],\n",
       "       ['Abertay University', 98, 'Urban'],\n",
       "       ['Brunel University London', 100, 'Suburban'],\n",
       "       ['Edinburgh Napier University', 101, 'Urban'],\n",
       "       ['University of Wales Trinity Saint David', 102, 'Rural'],\n",
       "       ['Bishop Grosseteste University', 102, 'Urban'],\n",
       "       ['Plymouth Marjon University', 102, 'NA'],\n",
       "       ['University of Bradford', 105, 'Urban'],\n",
       "       ['Kingston University', 106, 'Urban'],\n",
       "       ['Middlesex University', 107, 'NA'],\n",
       "       ['University of the West of Scotland', 108, 'Urban'],\n",
       "       ['University of Sunderland', 109, 'Urban'],\n",
       "       ['Bath Spa University', 110, 'Rural'],\n",
       "       ['University of Salford', 111, 'Urban'],\n",
       "       ['Cardiff Metropolitan University', 112, 'Urban'],\n",
       "       ['Buckinghamshire New University', 113, 'Suburban'],\n",
       "       ['University of South Wales', 114, 'NA'],\n",
       "       ['Newman University', 115, 'Suburban'],\n",
       "       ['University of Northampton', 116, 'Suburban'],\n",
       "       ['Leeds Trinity University', 117, 'Suburban'],\n",
       "       ['Canterbury Christ Church University', 118, 'Urban'],\n",
       "       ['University of Westminster', 119, 'Urban'],\n",
       "       ['Anglia Ruskin University', 120, 'Urban'],\n",
       "       ['University of Cumbria', 121, 'NA'],\n",
       "       ['University of Brighton', 122, 'NA'],\n",
       "       ['Leeds Beckett University', 123, 'Urban'],\n",
       "       ['University of Wolverhampton', 124, 'NA'],\n",
       "       ['University of Bolton', 125, 'Urban'],\n",
       "       ['London Metropolitan University', 126, 'Urban'],\n",
       "       ['University of East London', 127, 'Suburban'],\n",
       "       ['University of Bedfordshire', 128, 'Urban'],\n",
       "       ['University of Suffolk', 129, 'NA'],\n",
       "       ['Wrexham Glyndwr University', 130, 'Urban'],\n",
       "       ['Ravensbourne University London', 131, 'Urban']], dtype=object)"
      ]
     },
     "execution_count": 51,
     "metadata": {},
     "output_type": "execute_result"
    }
   ],
   "source": [
    "imp4 = SimpleImputer(missing_values=np.nan, strategy='constant', fill_value='NA')\n",
    "data_oe_filled = imp4.fit_transform(data_oe)\n",
    "data_oe_filled"
   ]
  },
  {
   "cell_type": "code",
   "execution_count": 52,
   "id": "ce8a2eb6",
   "metadata": {},
   "outputs": [
    {
     "data": {
      "text/plain": [
       "array([[ 72.,   0.,   3.],\n",
       "       [ 98.,   1.,   3.],\n",
       "       [105.,   2.,   2.],\n",
       "       [ 24.,   3.,   3.],\n",
       "       [ 37.,   4.,   2.],\n",
       "       [ 35.,   5.,   3.],\n",
       "       [ 16.,   6.,   3.],\n",
       "       [ 28.,   7.,   1.],\n",
       "       [ 61.,   8.,   3.],\n",
       "       [114.,   9.,   2.],\n",
       "       [ 64.,  10.,   2.],\n",
       "       [ 83.,  11.,   2.],\n",
       "       [ 91.,  12.,   3.],\n",
       "       [ 66.,  13.,   3.],\n",
       "       [ 70.,  14.,   3.],\n",
       "       [ 84.,  15.,   3.],\n",
       "       [ 22.,  16.,   1.],\n",
       "       [ 95.,  17.,   3.],\n",
       "       [ 53.,  18.,   2.],\n",
       "       [104.,  19.,   2.],\n",
       "       [ 97.,  20.,   2.],\n",
       "       [120.,  21.,   2.],\n",
       "       [ 79.,  22.,   2.],\n",
       "       [ 78.,  23.,   3.],\n",
       "       [ 81.,  24.,   3.],\n",
       "       [102.,  25.,   3.],\n",
       "       [ 63.,  26.,   3.],\n",
       "       [ 40.,  27.,   3.],\n",
       "       [ 94.,  28.,   3.],\n",
       "       [ 26.,  29.,   3.],\n",
       "       [ 59.,  30.,   2.],\n",
       "       [110.,  31.,   2.],\n",
       "       [ 23.,  32.,   2.],\n",
       "       [ 13.,  33.,   3.],\n",
       "       [ 49.,  34.,   3.],\n",
       "       [107.,  35.,   3.],\n",
       "       [ 82.,  36.,   2.],\n",
       "       [111.,  37.,   0.],\n",
       "       [100.,  37.,   0.],\n",
       "       [ 43.,  38.,   3.],\n",
       "       [ 92.,  39.,   2.],\n",
       "       [ 62.,  40.,   0.],\n",
       "       [ 54.,  41.,   3.],\n",
       "       [  2.,  42.,   2.],\n",
       "       [ 25.,  43.,   1.],\n",
       "       [106.,  44.,   2.],\n",
       "       [  4.,  45.,   3.],\n",
       "       [ 48.,  46.,   3.],\n",
       "       [ 14.,  47.,   3.],\n",
       "       [ 93.,  48.,   3.],\n",
       "       [115.,  49.,   0.],\n",
       "       [ 58.,  50.,   2.],\n",
       "       [ 90.,  51.,   2.],\n",
       "       [ 17.,  52.,   1.],\n",
       "       [ 29.,  53.,   3.],\n",
       "       [ 99.,  53.,   3.],\n",
       "       [122.,  54.,   2.],\n",
       "       [112.,  54.,   3.],\n",
       "       [ 32.,  55.,   2.],\n",
       "       [ 88.,  56.,   3.],\n",
       "       [ 38.,  57.,   0.],\n",
       "       [ 44.,  58.,   3.],\n",
       "       [ 42.,  59.,   3.],\n",
       "       [ 55.,  59.,   3.],\n",
       "       [ 21.,  60.,   3.],\n",
       "       [  5.,  61.,   0.],\n",
       "       [ 75.,  62.,   2.],\n",
       "       [ 19.,  63.,   0.],\n",
       "       [  0.,  64.,   3.],\n",
       "       [ 15.,  65.,   0.],\n",
       "       [ 73.,  66.,   3.],\n",
       "       [ 46.,  67.,   0.],\n",
       "       [ 89.,  68.,   2.],\n",
       "       [ 33.,  69.,   3.],\n",
       "       [ 74.,  70.,   3.],\n",
       "       [121.,  70.,   0.],\n",
       "       [125.,  71.,   3.],\n",
       "       [ 47.,  72.,   2.],\n",
       "       [ 51.,  73.,   2.],\n",
       "       [ 86.,  74.,   2.],\n",
       "       [ 57.,  75.,   2.],\n",
       "       [ 36.,  76.,   3.],\n",
       "       [ 60.,  77.,   3.],\n",
       "       [ 87.,  78.,   2.],\n",
       "       [ 52.,  79.,   1.],\n",
       "       [ 56.,  79.,   3.],\n",
       "       [ 77.,  80.,   3.],\n",
       "       [ 71.,  81.,   1.],\n",
       "       [119.,  81.,   2.],\n",
       "       [  8.,  82.,   3.],\n",
       "       [ 85.,  83.,   2.],\n",
       "       [ 20.,  84.,   3.],\n",
       "       [117.,  85.,   2.],\n",
       "       [  1.,  85.,   3.],\n",
       "       [  9.,  86.,   2.],\n",
       "       [ 18.,  87.,   3.],\n",
       "       [113.,  88.,   1.],\n",
       "       [  7.,  88.,   3.],\n",
       "       [ 45.,  88.,   0.],\n",
       "       [ 68.,  89.,   3.],\n",
       "       [ 27.,  90.,   3.],\n",
       "       [ 39.,  91.,   0.],\n",
       "       [123.,  92.,   3.],\n",
       "       [109.,  93.,   3.],\n",
       "       [  6.,  94.,   1.],\n",
       "       [101.,  95.,   3.],\n",
       "       [ 12.,  96.,   3.],\n",
       "       [ 10.,  97.,   2.],\n",
       "       [103.,  98.,   0.],\n",
       "       [ 41.,  99.,   2.],\n",
       "       [ 96., 100.,   2.],\n",
       "       [ 31., 101.,   2.],\n",
       "       [ 11., 102.,   3.],\n",
       "       [116., 103.,   3.],\n",
       "       [  3., 104.,   3.],\n",
       "       [ 76., 105.,   0.],\n",
       "       [ 69., 106.,   0.],\n",
       "       [ 30., 107.,   3.],\n",
       "       [118., 108.,   0.],\n",
       "       [ 67., 109.,   3.],\n",
       "       [ 34., 110.,   3.],\n",
       "       [ 80., 111.,   2.],\n",
       "       [ 65., 112.,   3.],\n",
       "       [108., 113.,   0.],\n",
       "       [124., 114.,   3.],\n",
       "       [ 50., 115.,   3.]])"
      ]
     },
     "execution_count": 52,
     "metadata": {},
     "output_type": "execute_result"
    }
   ],
   "source": [
    "oe = OrdinalEncoder()\n",
    "cat_enc_oe = oe.fit_transform(data_oe_filled)\n",
    "cat_enc_oe"
   ]
  },
  {
   "cell_type": "code",
   "execution_count": 53,
   "id": "6c0a3dbb",
   "metadata": {},
   "outputs": [
    {
     "data": {
      "text/plain": [
       "array([  0.,   1.,   2.,   3.,   4.,   5.,   6.,   7.,   8.,   9.,  10.,\n",
       "        11.,  12.,  13.,  14.,  15.,  16.,  17.,  18.,  19.,  20.,  21.,\n",
       "        22.,  23.,  24.,  25.,  26.,  27.,  28.,  29.,  30.,  31.,  32.,\n",
       "        33.,  34.,  35.,  36.,  37.,  38.,  39.,  40.,  41.,  42.,  43.,\n",
       "        44.,  45.,  46.,  47.,  48.,  49.,  50.,  51.,  52.,  53.,  54.,\n",
       "        55.,  56.,  57.,  58.,  59.,  60.,  61.,  62.,  63.,  64.,  65.,\n",
       "        66.,  67.,  68.,  69.,  70.,  71.,  72.,  73.,  74.,  75.,  76.,\n",
       "        77.,  78.,  79.,  80.,  81.,  82.,  83.,  84.,  85.,  86.,  87.,\n",
       "        88.,  89.,  90.,  91.,  92.,  93.,  94.,  95.,  96.,  97.,  98.,\n",
       "        99., 100., 101., 102., 103., 104., 105., 106., 107., 108., 109.,\n",
       "       110., 111., 112., 113., 114., 115., 116., 117., 118., 119., 120.,\n",
       "       121., 122., 123., 124., 125.])"
      ]
     },
     "execution_count": 53,
     "metadata": {},
     "output_type": "execute_result"
    }
   ],
   "source": [
    "# Уникальные значения 1 признака\n",
    "np.unique(cat_enc_oe[:, 0])"
   ]
  },
  {
   "cell_type": "code",
   "execution_count": 54,
   "id": "1120e919",
   "metadata": {},
   "outputs": [
    {
     "data": {
      "text/plain": [
       "array([  0.,   1.,   2.,   3.,   4.,   5.,   6.,   7.,   8.,   9.,  10.,\n",
       "        11.,  12.,  13.,  14.,  15.,  16.,  17.,  18.,  19.,  20.,  21.,\n",
       "        22.,  23.,  24.,  25.,  26.,  27.,  28.,  29.,  30.,  31.,  32.,\n",
       "        33.,  34.,  35.,  36.,  37.,  38.,  39.,  40.,  41.,  42.,  43.,\n",
       "        44.,  45.,  46.,  47.,  48.,  49.,  50.,  51.,  52.,  53.,  54.,\n",
       "        55.,  56.,  57.,  58.,  59.,  60.,  61.,  62.,  63.,  64.,  65.,\n",
       "        66.,  67.,  68.,  69.,  70.,  71.,  72.,  73.,  74.,  75.,  76.,\n",
       "        77.,  78.,  79.,  80.,  81.,  82.,  83.,  84.,  85.,  86.,  87.,\n",
       "        88.,  89.,  90.,  91.,  92.,  93.,  94.,  95.,  96.,  97.,  98.,\n",
       "        99., 100., 101., 102., 103., 104., 105., 106., 107., 108., 109.,\n",
       "       110., 111., 112., 113., 114., 115.])"
      ]
     },
     "execution_count": 54,
     "metadata": {},
     "output_type": "execute_result"
    }
   ],
   "source": [
    "# Уникальные значения 2 признака\n",
    "np.unique(cat_enc_oe[:, 1])"
   ]
  },
  {
   "cell_type": "code",
   "execution_count": 55,
   "id": "e5761aa6",
   "metadata": {},
   "outputs": [
    {
     "data": {
      "text/plain": [
       "array([0., 1., 2., 3.])"
      ]
     },
     "execution_count": 55,
     "metadata": {},
     "output_type": "execute_result"
    }
   ],
   "source": [
    "# Уникальные значения 3 признака\n",
    "np.unique(cat_enc_oe[:, 2])"
   ]
  },
  {
   "cell_type": "code",
   "execution_count": 56,
   "id": "26a7a0fe",
   "metadata": {},
   "outputs": [
    {
     "data": {
      "text/plain": [
       "[array([' City University of London', 'Abertay University',\n",
       "        'Aberystwyth University', 'Anglia Ruskin University',\n",
       "        'Aston University', 'Bangor University', 'Bath Spa University',\n",
       "        'Bishop Grosseteste University', 'Bournemouth University',\n",
       "        'Brunel University London', 'Buckinghamshire New University',\n",
       "        'Canterbury Christ Church University',\n",
       "        'Cardiff Metropolitan University', 'Cardiff University',\n",
       "        'Coventry University', 'De Montfort University',\n",
       "        'Durham University', 'Edge Hill University',\n",
       "        'Edinburgh Napier University', 'Falmouth University',\n",
       "        'Glasgow Caledonian University',\n",
       "        'Goldsmiths  University of London', 'Harper Adams University',\n",
       "        'Heriot-Watt University', 'Imperial College London',\n",
       "        'Keele University', \"King's College London\", 'Kingston University',\n",
       "        'Lancaster University', 'Leeds Arts University',\n",
       "        'Leeds Beckett University', 'Leeds Trinity University',\n",
       "        'Liverpool Hope University', 'Liverpool John Moores University',\n",
       "        'London Metropolitan University',\n",
       "        'London School of Economics and Political Science',\n",
       "        'London South Bank University', 'Loughborough University',\n",
       "        'Manchester Metropolitan University', 'Middlesex University',\n",
       "        'Newcastle University', 'Newman University',\n",
       "        'Northumbria University', 'Nottingham Trent University',\n",
       "        'Oxford Brookes University', 'Plymouth Marjon University',\n",
       "        'Plymouth University', 'Queen Margaret University',\n",
       "        'Queen Mary University of London', \"Queen's University Belfast\",\n",
       "        'Ravensbourne University London', 'Robert Gordon University',\n",
       "        'Royal Agricultural University',\n",
       "        'Royal Holloway  University of London',\n",
       "        'SOAS  University of London', 'Sheffield Hallam University',\n",
       "        'Solent University', \"St Mary's University\",\n",
       "        'Staffordshire University', 'Swansea University',\n",
       "        'Teesside University', 'University College London',\n",
       "        'University for the Creative Arts', 'University of Aberdeen',\n",
       "        'University of Bath', 'University of Bedfordshire',\n",
       "        'University of Birmingham', 'University of Bolton',\n",
       "        'University of Bradford', 'University of Brighton',\n",
       "        'University of Bristol', 'University of Buckingham',\n",
       "        'University of Cambridge', 'University of Central Lancashire',\n",
       "        'University of Chester', 'University of Chichester',\n",
       "        'University of Cumbria', 'University of Derby',\n",
       "        'University of Dundee', 'University of East Anglia UEA',\n",
       "        'University of East London', 'University of Edinburgh',\n",
       "        'University of Essex', 'University of Exeter',\n",
       "        'University of Glasgow', 'University of Gloucestershire',\n",
       "        'University of Greenwich', 'University of Hertfordshire',\n",
       "        'University of Huddersfield', 'University of Hull',\n",
       "        'University of Kent', 'University of Leeds',\n",
       "        'University of Leicester', 'University of Lincoln',\n",
       "        'University of Liverpool', 'University of Manchester',\n",
       "        'University of Northampton', 'University of Nottingham',\n",
       "        'University of Oxford', 'University of Portsmouth',\n",
       "        'University of Reading', 'University of Salford',\n",
       "        'University of Sheffield', 'University of South Wales',\n",
       "        'University of Southampton', 'University of St Andrews',\n",
       "        'University of Stirling', 'University of Strathclyde',\n",
       "        'University of Suffolk', 'University of Sunderland',\n",
       "        'University of Surrey', 'University of Sussex',\n",
       "        'University of Ulster', 'University of Wales Trinity Saint David',\n",
       "        'University of Warwick', 'University of West London',\n",
       "        'University of Westminster', 'University of Winchester',\n",
       "        'University of Wolverhampton', 'University of Worcester',\n",
       "        'University of York', 'University of the Arts London',\n",
       "        'University of the West of England',\n",
       "        'University of the West of Scotland', 'Wrexham Glyndwr University',\n",
       "        'York St John University'], dtype=object),\n",
       " array([1, 2, 3, 4, 5, 6, 7, 8, 9, 10, 11, 12, 13, 14, 15, 16, 17, 18, 19,\n",
       "        20, 21, 22, 23, 24, 25, 26, 27, 28, 29, 30, 31, 32, 33, 34, 35, 36,\n",
       "        37, 38, 40, 41, 42, 44, 45, 46, 47, 48, 49, 50, 51, 52, 53, 54, 55,\n",
       "        56, 58, 60, 61, 62, 64, 65, 68, 70, 71, 72, 73, 74, 75, 76, 77, 78,\n",
       "        79, 81, 82, 83, 84, 85, 86, 87, 88, 89, 91, 92, 94, 95, 96, 98,\n",
       "        100, 101, 102, 105, 106, 107, 108, 109, 110, 111, 112, 113, 114,\n",
       "        115, 116, 117, 118, 119, 120, 121, 122, 123, 124, 125, 126, 127,\n",
       "        128, 129, 130, 131], dtype=object),\n",
       " array(['NA', 'Rural', 'Suburban', 'Urban'], dtype=object)]"
      ]
     },
     "execution_count": 56,
     "metadata": {},
     "output_type": "execute_result"
    }
   ],
   "source": [
    "# Наименования категорий в соответствии с порядковыми номерами\n",
    "oe.categories_"
   ]
  },
  {
   "cell_type": "code",
   "execution_count": 57,
   "id": "081de436",
   "metadata": {},
   "outputs": [
    {
     "data": {
      "text/plain": [
       "array([['University of Cambridge', 1, 'Urban'],\n",
       "       ['University of Oxford', 2, 'Urban'],\n",
       "       ['University of St Andrews', 3, 'Suburban'],\n",
       "       ['Imperial College London', 4, 'Urban'],\n",
       "       ['Loughborough University', 5, 'Suburban'],\n",
       "       ['London School of Economics and Political Science', 6, 'Urban'],\n",
       "       ['Durham University', 7, 'Urban'],\n",
       "       ['Lancaster University', 8, 'Rural'],\n",
       "       ['University College London', 9, 'Urban'],\n",
       "       ['University of Warwick', 10, 'Suburban'],\n",
       "       ['University of Bath', 11, 'Suburban'],\n",
       "       ['University of Exeter', 12, 'Suburban'],\n",
       "       ['University of Leeds', 13, 'Urban'],\n",
       "       ['University of Birmingham', 14, 'Urban'],\n",
       "       ['University of Bristol', 15, 'Urban'],\n",
       "       ['University of Glasgow', 16, 'Urban'],\n",
       "       ['Harper Adams University', 17, 'Rural'],\n",
       "       ['University of Manchester', 18, 'Urban'],\n",
       "       ['Royal Holloway  University of London', 19, 'Suburban'],\n",
       "       ['University of Southampton', 20, 'Suburban'],\n",
       "       ['University of Nottingham', 21, 'Suburban'],\n",
       "       ['University of York', 22, 'Suburban'],\n",
       "       ['University of East Anglia UEA', 23, 'Suburban'],\n",
       "       ['University of Dundee', 24, 'Urban'],\n",
       "       ['University of Edinburgh', 25, 'Urban'],\n",
       "       ['University of Sheffield', 26, 'Urban'],\n",
       "       ['University of Aberdeen', 27, 'Urban'],\n",
       "       ['Newcastle University', 28, 'Urban'],\n",
       "       ['University of Liverpool', 29, 'Urban'],\n",
       "       [\"King's College London\", 30, 'Urban'],\n",
       "       ['Swansea University', 31, 'Suburban'],\n",
       "       ['University of Surrey', 32, 'Suburban'],\n",
       "       ['Heriot-Watt University', 33, 'Suburban'],\n",
       "       ['Cardiff University', 34, 'Urban'],\n",
       "       [\"Queen's University Belfast\", 35, 'Urban'],\n",
       "       ['University of Strathclyde', 36, 'Urban'],\n",
       "       ['University of Essex', 37, 'Suburban'],\n",
       "       ['University of Sussex', 38, 'NA'],\n",
       "       ['University of Reading', 38, 'NA'],\n",
       "       ['Nottingham Trent University', 40, 'Urban'],\n",
       "       ['University of Leicester', 41, 'Suburban'],\n",
       "       ['University for the Creative Arts', 42, 'NA'],\n",
       "       ['SOAS  University of London', 44, 'Urban'],\n",
       "       ['Aberystwyth University', 45, 'Suburban'],\n",
       "       ['Keele University', 46, 'Rural'],\n",
       "       ['University of Stirling', 47, 'Suburban'],\n",
       "       ['Aston University', 48, 'Urban'],\n",
       "       ['Queen Mary University of London', 49, 'Urban'],\n",
       "       ['Coventry University', 50, 'Urban'],\n",
       "       ['University of Lincoln', 51, 'Urban'],\n",
       "       ['University of West London', 52, 'NA'],\n",
       "       ['Staffordshire University', 53, 'Suburban'],\n",
       "       ['University of Kent', 54, 'Suburban'],\n",
       "       ['Edge Hill University', 55, 'Rural'],\n",
       "       ['Leeds Arts University', 56, 'Urban'],\n",
       "       ['University of Portsmouth', 56, 'Urban'],\n",
       "       ['University of the West of England', 58, 'Suburban'],\n",
       "       ['University of Ulster', 58, 'Urban'],\n",
       "       ['Liverpool Hope University', 60, 'Suburban'],\n",
       "       ['University of Huddersfield', 61, 'Urban'],\n",
       "       ['Manchester Metropolitan University', 62, 'NA'],\n",
       "       ['Oxford Brookes University', 64, 'Urban'],\n",
       "       ['Northumbria University', 65, 'Urban'],\n",
       "       ['Sheffield Hallam University', 65, 'Urban'],\n",
       "       ['Goldsmiths  University of London', 68, 'Urban'],\n",
       "       ['Bangor University', 70, 'NA'],\n",
       "       ['University of Chichester', 71, 'Suburban'],\n",
       "       ['Falmouth University', 72, 'NA'],\n",
       "       [' City University of London', 73, 'Urban'],\n",
       "       ['De Montfort University', 74, 'NA'],\n",
       "       ['University of Central Lancashire', 75, 'Urban'],\n",
       "       ['Plymouth University', 76, 'NA'],\n",
       "       ['University of Hull', 77, 'Suburban'],\n",
       "       ['Liverpool John Moores University', 78, 'Urban'],\n",
       "       ['University of Chester', 79, 'Urban'],\n",
       "       ['University of the Arts London', 79, 'NA'],\n",
       "       ['York St John University', 81, 'Urban'],\n",
       "       ['Queen Margaret University', 82, 'Suburban'],\n",
       "       ['Robert Gordon University', 83, 'Suburban'],\n",
       "       ['University of Greenwich', 84, 'Suburban'],\n",
       "       [\"St Mary's University\", 85, 'Suburban'],\n",
       "       ['London South Bank University', 86, 'Urban'],\n",
       "       ['Teesside University', 87, 'Urban'],\n",
       "       ['University of Hertfordshire', 88, 'Suburban'],\n",
       "       ['Royal Agricultural University', 89, 'Rural'],\n",
       "       ['Solent University', 89, 'Urban'],\n",
       "       ['University of Derby', 91, 'Urban'],\n",
       "       ['University of Buckingham', 92, 'Rural'],\n",
       "       ['University of Worcester', 92, 'Suburban'],\n",
       "       ['Bournemouth University', 94, 'Urban'],\n",
       "       ['University of Gloucestershire', 95, 'Suburban'],\n",
       "       ['Glasgow Caledonian University', 96, 'Urban'],\n",
       "       ['University of Winchester', 98, 'Suburban'],\n",
       "       ['Abertay University', 98, 'Urban'],\n",
       "       ['Brunel University London', 100, 'Suburban'],\n",
       "       ['Edinburgh Napier University', 101, 'Urban'],\n",
       "       ['University of Wales Trinity Saint David', 102, 'Rural'],\n",
       "       ['Bishop Grosseteste University', 102, 'Urban'],\n",
       "       ['Plymouth Marjon University', 102, 'NA'],\n",
       "       ['University of Bradford', 105, 'Urban'],\n",
       "       ['Kingston University', 106, 'Urban'],\n",
       "       ['Middlesex University', 107, 'NA'],\n",
       "       ['University of the West of Scotland', 108, 'Urban'],\n",
       "       ['University of Sunderland', 109, 'Urban'],\n",
       "       ['Bath Spa University', 110, 'Rural'],\n",
       "       ['University of Salford', 111, 'Urban'],\n",
       "       ['Cardiff Metropolitan University', 112, 'Urban'],\n",
       "       ['Buckinghamshire New University', 113, 'Suburban'],\n",
       "       ['University of South Wales', 114, 'NA'],\n",
       "       ['Newman University', 115, 'Suburban'],\n",
       "       ['University of Northampton', 116, 'Suburban'],\n",
       "       ['Leeds Trinity University', 117, 'Suburban'],\n",
       "       ['Canterbury Christ Church University', 118, 'Urban'],\n",
       "       ['University of Westminster', 119, 'Urban'],\n",
       "       ['Anglia Ruskin University', 120, 'Urban'],\n",
       "       ['University of Cumbria', 121, 'NA'],\n",
       "       ['University of Brighton', 122, 'NA'],\n",
       "       ['Leeds Beckett University', 123, 'Urban'],\n",
       "       ['University of Wolverhampton', 124, 'NA'],\n",
       "       ['University of Bolton', 125, 'Urban'],\n",
       "       ['London Metropolitan University', 126, 'Urban'],\n",
       "       ['University of East London', 127, 'Suburban'],\n",
       "       ['University of Bedfordshire', 128, 'Urban'],\n",
       "       ['University of Suffolk', 129, 'NA'],\n",
       "       ['Wrexham Glyndwr University', 130, 'Urban'],\n",
       "       ['Ravensbourne University London', 131, 'Urban']], dtype=object)"
      ]
     },
     "execution_count": 57,
     "metadata": {},
     "output_type": "execute_result"
    }
   ],
   "source": [
    "# Обратное преобразование\n",
    "oe.inverse_transform(cat_enc_oe)"
   ]
  },
  {
   "cell_type": "code",
   "execution_count": 58,
   "id": "bfa916eb",
   "metadata": {},
   "outputs": [],
   "source": [
    "# пример шкалы порядка 'small' < 'medium' < 'large'\n",
    "sizes = ['small', 'medium', 'large', 'small', 'medium', 'large', 'small', 'medium', 'large']"
   ]
  },
  {
   "cell_type": "code",
   "execution_count": 59,
   "id": "ec71f8ba",
   "metadata": {},
   "outputs": [
    {
     "data": {
      "text/html": [
       "<div>\n",
       "<style scoped>\n",
       "    .dataframe tbody tr th:only-of-type {\n",
       "        vertical-align: middle;\n",
       "    }\n",
       "\n",
       "    .dataframe tbody tr th {\n",
       "        vertical-align: top;\n",
       "    }\n",
       "\n",
       "    .dataframe thead th {\n",
       "        text-align: right;\n",
       "    }\n",
       "</style>\n",
       "<table border=\"1\" class=\"dataframe\">\n",
       "  <thead>\n",
       "    <tr style=\"text-align: right;\">\n",
       "      <th></th>\n",
       "      <th>sizes</th>\n",
       "    </tr>\n",
       "  </thead>\n",
       "  <tbody>\n",
       "    <tr>\n",
       "      <th>0</th>\n",
       "      <td>small</td>\n",
       "    </tr>\n",
       "    <tr>\n",
       "      <th>1</th>\n",
       "      <td>medium</td>\n",
       "    </tr>\n",
       "    <tr>\n",
       "      <th>2</th>\n",
       "      <td>large</td>\n",
       "    </tr>\n",
       "    <tr>\n",
       "      <th>3</th>\n",
       "      <td>small</td>\n",
       "    </tr>\n",
       "    <tr>\n",
       "      <th>4</th>\n",
       "      <td>medium</td>\n",
       "    </tr>\n",
       "    <tr>\n",
       "      <th>5</th>\n",
       "      <td>large</td>\n",
       "    </tr>\n",
       "    <tr>\n",
       "      <th>6</th>\n",
       "      <td>small</td>\n",
       "    </tr>\n",
       "    <tr>\n",
       "      <th>7</th>\n",
       "      <td>medium</td>\n",
       "    </tr>\n",
       "    <tr>\n",
       "      <th>8</th>\n",
       "      <td>large</td>\n",
       "    </tr>\n",
       "  </tbody>\n",
       "</table>\n",
       "</div>"
      ],
      "text/plain": [
       "    sizes\n",
       "0   small\n",
       "1  medium\n",
       "2   large\n",
       "3   small\n",
       "4  medium\n",
       "5   large\n",
       "6   small\n",
       "7  medium\n",
       "8   large"
      ]
     },
     "execution_count": 59,
     "metadata": {},
     "output_type": "execute_result"
    }
   ],
   "source": [
    "pd_sizes = pd.DataFrame(data={'sizes':sizes})\n",
    "pd_sizes"
   ]
  },
  {
   "cell_type": "code",
   "execution_count": 60,
   "id": "3893d7e8",
   "metadata": {},
   "outputs": [
    {
     "data": {
      "text/html": [
       "<div>\n",
       "<style scoped>\n",
       "    .dataframe tbody tr th:only-of-type {\n",
       "        vertical-align: middle;\n",
       "    }\n",
       "\n",
       "    .dataframe tbody tr th {\n",
       "        vertical-align: top;\n",
       "    }\n",
       "\n",
       "    .dataframe thead th {\n",
       "        text-align: right;\n",
       "    }\n",
       "</style>\n",
       "<table border=\"1\" class=\"dataframe\">\n",
       "  <thead>\n",
       "    <tr style=\"text-align: right;\">\n",
       "      <th></th>\n",
       "      <th>sizes</th>\n",
       "      <th>sizes_codes</th>\n",
       "    </tr>\n",
       "  </thead>\n",
       "  <tbody>\n",
       "    <tr>\n",
       "      <th>0</th>\n",
       "      <td>small</td>\n",
       "      <td>1</td>\n",
       "    </tr>\n",
       "    <tr>\n",
       "      <th>1</th>\n",
       "      <td>medium</td>\n",
       "      <td>2</td>\n",
       "    </tr>\n",
       "    <tr>\n",
       "      <th>2</th>\n",
       "      <td>large</td>\n",
       "      <td>3</td>\n",
       "    </tr>\n",
       "    <tr>\n",
       "      <th>3</th>\n",
       "      <td>small</td>\n",
       "      <td>1</td>\n",
       "    </tr>\n",
       "    <tr>\n",
       "      <th>4</th>\n",
       "      <td>medium</td>\n",
       "      <td>2</td>\n",
       "    </tr>\n",
       "    <tr>\n",
       "      <th>5</th>\n",
       "      <td>large</td>\n",
       "      <td>3</td>\n",
       "    </tr>\n",
       "    <tr>\n",
       "      <th>6</th>\n",
       "      <td>small</td>\n",
       "      <td>1</td>\n",
       "    </tr>\n",
       "    <tr>\n",
       "      <th>7</th>\n",
       "      <td>medium</td>\n",
       "      <td>2</td>\n",
       "    </tr>\n",
       "    <tr>\n",
       "      <th>8</th>\n",
       "      <td>large</td>\n",
       "      <td>3</td>\n",
       "    </tr>\n",
       "  </tbody>\n",
       "</table>\n",
       "</div>"
      ],
      "text/plain": [
       "    sizes  sizes_codes\n",
       "0   small            1\n",
       "1  medium            2\n",
       "2   large            3\n",
       "3   small            1\n",
       "4  medium            2\n",
       "5   large            3\n",
       "6   small            1\n",
       "7  medium            2\n",
       "8   large            3"
      ]
     },
     "execution_count": 60,
     "metadata": {},
     "output_type": "execute_result"
    }
   ],
   "source": [
    "pd_sizes['sizes_codes'] = pd_sizes['sizes'].map({'small':1, 'medium':2, 'large':3})\n",
    "pd_sizes"
   ]
  },
  {
   "cell_type": "code",
   "execution_count": 61,
   "id": "f92ea367",
   "metadata": {},
   "outputs": [
    {
     "data": {
      "text/html": [
       "<div>\n",
       "<style scoped>\n",
       "    .dataframe tbody tr th:only-of-type {\n",
       "        vertical-align: middle;\n",
       "    }\n",
       "\n",
       "    .dataframe tbody tr th {\n",
       "        vertical-align: top;\n",
       "    }\n",
       "\n",
       "    .dataframe thead th {\n",
       "        text-align: right;\n",
       "    }\n",
       "</style>\n",
       "<table border=\"1\" class=\"dataframe\">\n",
       "  <thead>\n",
       "    <tr style=\"text-align: right;\">\n",
       "      <th></th>\n",
       "      <th>sizes</th>\n",
       "      <th>sizes_codes</th>\n",
       "      <th>sizes_decoded</th>\n",
       "    </tr>\n",
       "  </thead>\n",
       "  <tbody>\n",
       "    <tr>\n",
       "      <th>0</th>\n",
       "      <td>small</td>\n",
       "      <td>1</td>\n",
       "      <td>small</td>\n",
       "    </tr>\n",
       "    <tr>\n",
       "      <th>1</th>\n",
       "      <td>medium</td>\n",
       "      <td>2</td>\n",
       "      <td>medium</td>\n",
       "    </tr>\n",
       "    <tr>\n",
       "      <th>2</th>\n",
       "      <td>large</td>\n",
       "      <td>3</td>\n",
       "      <td>large</td>\n",
       "    </tr>\n",
       "    <tr>\n",
       "      <th>3</th>\n",
       "      <td>small</td>\n",
       "      <td>1</td>\n",
       "      <td>small</td>\n",
       "    </tr>\n",
       "    <tr>\n",
       "      <th>4</th>\n",
       "      <td>medium</td>\n",
       "      <td>2</td>\n",
       "      <td>medium</td>\n",
       "    </tr>\n",
       "    <tr>\n",
       "      <th>5</th>\n",
       "      <td>large</td>\n",
       "      <td>3</td>\n",
       "      <td>large</td>\n",
       "    </tr>\n",
       "    <tr>\n",
       "      <th>6</th>\n",
       "      <td>small</td>\n",
       "      <td>1</td>\n",
       "      <td>small</td>\n",
       "    </tr>\n",
       "    <tr>\n",
       "      <th>7</th>\n",
       "      <td>medium</td>\n",
       "      <td>2</td>\n",
       "      <td>medium</td>\n",
       "    </tr>\n",
       "    <tr>\n",
       "      <th>8</th>\n",
       "      <td>large</td>\n",
       "      <td>3</td>\n",
       "      <td>large</td>\n",
       "    </tr>\n",
       "  </tbody>\n",
       "</table>\n",
       "</div>"
      ],
      "text/plain": [
       "    sizes  sizes_codes sizes_decoded\n",
       "0   small            1         small\n",
       "1  medium            2        medium\n",
       "2   large            3         large\n",
       "3   small            1         small\n",
       "4  medium            2        medium\n",
       "5   large            3         large\n",
       "6   small            1         small\n",
       "7  medium            2        medium\n",
       "8   large            3         large"
      ]
     },
     "execution_count": 61,
     "metadata": {},
     "output_type": "execute_result"
    }
   ],
   "source": [
    "pd_sizes['sizes_decoded'] = pd_sizes['sizes_codes'].map({1:'small', 2:'medium', 3:'large'})\n",
    "pd_sizes"
   ]
  },
  {
   "cell_type": "code",
   "execution_count": null,
   "id": "b268aa75",
   "metadata": {},
   "outputs": [],
   "source": []
  },
  {
   "cell_type": "code",
   "execution_count": 62,
   "id": "5c685fae",
   "metadata": {},
   "outputs": [],
   "source": [
    "from sklearn.preprocessing import OneHotEncoder"
   ]
  },
  {
   "cell_type": "code",
   "execution_count": 63,
   "id": "f9e86113",
   "metadata": {},
   "outputs": [],
   "source": [
    "ohe = OneHotEncoder()\n",
    "cat_enc_ohe = ohe.fit_transform(cat_enc[['c1']])"
   ]
  },
  {
   "cell_type": "code",
   "execution_count": 64,
   "id": "4d1ae837",
   "metadata": {},
   "outputs": [
    {
     "data": {
      "text/plain": [
       "(126, 1)"
      ]
     },
     "execution_count": 64,
     "metadata": {},
     "output_type": "execute_result"
    }
   ],
   "source": [
    "cat_enc.shape"
   ]
  },
  {
   "cell_type": "code",
   "execution_count": 65,
   "id": "d971aeb9",
   "metadata": {},
   "outputs": [
    {
     "data": {
      "text/plain": [
       "(126, 3)"
      ]
     },
     "execution_count": 65,
     "metadata": {},
     "output_type": "execute_result"
    }
   ],
   "source": [
    "cat_enc_ohe.shape"
   ]
  },
  {
   "cell_type": "code",
   "execution_count": 66,
   "id": "9f62a468",
   "metadata": {},
   "outputs": [
    {
     "data": {
      "text/plain": [
       "<126x3 sparse matrix of type '<class 'numpy.float64'>'\n",
       "\twith 126 stored elements in Compressed Sparse Row format>"
      ]
     },
     "execution_count": 66,
     "metadata": {},
     "output_type": "execute_result"
    }
   ],
   "source": [
    "cat_enc_ohe"
   ]
  },
  {
   "cell_type": "code",
   "execution_count": 67,
   "id": "c6676dc4",
   "metadata": {},
   "outputs": [
    {
     "data": {
      "text/plain": [
       "matrix([[0., 0., 1.],\n",
       "        [0., 0., 1.],\n",
       "        [0., 1., 0.],\n",
       "        [0., 0., 1.],\n",
       "        [0., 1., 0.],\n",
       "        [0., 0., 1.],\n",
       "        [0., 0., 1.],\n",
       "        [1., 0., 0.],\n",
       "        [0., 0., 1.],\n",
       "        [0., 1., 0.]])"
      ]
     },
     "execution_count": 67,
     "metadata": {},
     "output_type": "execute_result"
    }
   ],
   "source": [
    "cat_enc_ohe.todense()[0:10]"
   ]
  },
  {
   "cell_type": "code",
   "execution_count": 68,
   "id": "c734f2eb",
   "metadata": {},
   "outputs": [
    {
     "data": {
      "text/html": [
       "<div>\n",
       "<style scoped>\n",
       "    .dataframe tbody tr th:only-of-type {\n",
       "        vertical-align: middle;\n",
       "    }\n",
       "\n",
       "    .dataframe tbody tr th {\n",
       "        vertical-align: top;\n",
       "    }\n",
       "\n",
       "    .dataframe thead th {\n",
       "        text-align: right;\n",
       "    }\n",
       "</style>\n",
       "<table border=\"1\" class=\"dataframe\">\n",
       "  <thead>\n",
       "    <tr style=\"text-align: right;\">\n",
       "      <th></th>\n",
       "      <th>c1</th>\n",
       "    </tr>\n",
       "  </thead>\n",
       "  <tbody>\n",
       "    <tr>\n",
       "      <th>0</th>\n",
       "      <td>Urban</td>\n",
       "    </tr>\n",
       "    <tr>\n",
       "      <th>1</th>\n",
       "      <td>Urban</td>\n",
       "    </tr>\n",
       "    <tr>\n",
       "      <th>2</th>\n",
       "      <td>Suburban</td>\n",
       "    </tr>\n",
       "    <tr>\n",
       "      <th>3</th>\n",
       "      <td>Urban</td>\n",
       "    </tr>\n",
       "    <tr>\n",
       "      <th>4</th>\n",
       "      <td>Suburban</td>\n",
       "    </tr>\n",
       "    <tr>\n",
       "      <th>5</th>\n",
       "      <td>Urban</td>\n",
       "    </tr>\n",
       "    <tr>\n",
       "      <th>6</th>\n",
       "      <td>Urban</td>\n",
       "    </tr>\n",
       "    <tr>\n",
       "      <th>7</th>\n",
       "      <td>Rural</td>\n",
       "    </tr>\n",
       "    <tr>\n",
       "      <th>8</th>\n",
       "      <td>Urban</td>\n",
       "    </tr>\n",
       "    <tr>\n",
       "      <th>9</th>\n",
       "      <td>Suburban</td>\n",
       "    </tr>\n",
       "  </tbody>\n",
       "</table>\n",
       "</div>"
      ],
      "text/plain": [
       "         c1\n",
       "0     Urban\n",
       "1     Urban\n",
       "2  Suburban\n",
       "3     Urban\n",
       "4  Suburban\n",
       "5     Urban\n",
       "6     Urban\n",
       "7     Rural\n",
       "8     Urban\n",
       "9  Suburban"
      ]
     },
     "execution_count": 68,
     "metadata": {},
     "output_type": "execute_result"
    }
   ],
   "source": [
    "cat_enc.head(10)"
   ]
  },
  {
   "cell_type": "code",
   "execution_count": 69,
   "id": "9bc2b043",
   "metadata": {},
   "outputs": [
    {
     "data": {
      "text/html": [
       "<div>\n",
       "<style scoped>\n",
       "    .dataframe tbody tr th:only-of-type {\n",
       "        vertical-align: middle;\n",
       "    }\n",
       "\n",
       "    .dataframe tbody tr th {\n",
       "        vertical-align: top;\n",
       "    }\n",
       "\n",
       "    .dataframe thead th {\n",
       "        text-align: right;\n",
       "    }\n",
       "</style>\n",
       "<table border=\"1\" class=\"dataframe\">\n",
       "  <thead>\n",
       "    <tr style=\"text-align: right;\">\n",
       "      <th></th>\n",
       "      <th>c1_Rural</th>\n",
       "      <th>c1_Suburban</th>\n",
       "      <th>c1_Urban</th>\n",
       "    </tr>\n",
       "  </thead>\n",
       "  <tbody>\n",
       "    <tr>\n",
       "      <th>0</th>\n",
       "      <td>0</td>\n",
       "      <td>0</td>\n",
       "      <td>1</td>\n",
       "    </tr>\n",
       "    <tr>\n",
       "      <th>1</th>\n",
       "      <td>0</td>\n",
       "      <td>0</td>\n",
       "      <td>1</td>\n",
       "    </tr>\n",
       "    <tr>\n",
       "      <th>2</th>\n",
       "      <td>0</td>\n",
       "      <td>1</td>\n",
       "      <td>0</td>\n",
       "    </tr>\n",
       "    <tr>\n",
       "      <th>3</th>\n",
       "      <td>0</td>\n",
       "      <td>0</td>\n",
       "      <td>1</td>\n",
       "    </tr>\n",
       "    <tr>\n",
       "      <th>4</th>\n",
       "      <td>0</td>\n",
       "      <td>1</td>\n",
       "      <td>0</td>\n",
       "    </tr>\n",
       "  </tbody>\n",
       "</table>\n",
       "</div>"
      ],
      "text/plain": [
       "   c1_Rural  c1_Suburban  c1_Urban\n",
       "0         0            0         1\n",
       "1         0            0         1\n",
       "2         0            1         0\n",
       "3         0            0         1\n",
       "4         0            1         0"
      ]
     },
     "execution_count": 69,
     "metadata": {},
     "output_type": "execute_result"
    }
   ],
   "source": [
    "# быстрый вариант one-hot кодирования\n",
    "pd.get_dummies(cat_enc).head()"
   ]
  },
  {
   "cell_type": "code",
   "execution_count": 70,
   "id": "ab8d9154",
   "metadata": {},
   "outputs": [
    {
     "data": {
      "text/html": [
       "<div>\n",
       "<style scoped>\n",
       "    .dataframe tbody tr th:only-of-type {\n",
       "        vertical-align: middle;\n",
       "    }\n",
       "\n",
       "    .dataframe tbody tr th {\n",
       "        vertical-align: top;\n",
       "    }\n",
       "\n",
       "    .dataframe thead th {\n",
       "        text-align: right;\n",
       "    }\n",
       "</style>\n",
       "<table border=\"1\" class=\"dataframe\">\n",
       "  <thead>\n",
       "    <tr style=\"text-align: right;\">\n",
       "      <th></th>\n",
       "      <th>Местоположение кампуса_Rural</th>\n",
       "      <th>Местоположение кампуса_Suburban</th>\n",
       "      <th>Местоположение кампуса_Urban</th>\n",
       "      <th>Местоположение кампуса_nan</th>\n",
       "    </tr>\n",
       "  </thead>\n",
       "  <tbody>\n",
       "    <tr>\n",
       "      <th>0</th>\n",
       "      <td>0</td>\n",
       "      <td>0</td>\n",
       "      <td>1</td>\n",
       "      <td>0</td>\n",
       "    </tr>\n",
       "    <tr>\n",
       "      <th>1</th>\n",
       "      <td>0</td>\n",
       "      <td>0</td>\n",
       "      <td>1</td>\n",
       "      <td>0</td>\n",
       "    </tr>\n",
       "    <tr>\n",
       "      <th>2</th>\n",
       "      <td>0</td>\n",
       "      <td>1</td>\n",
       "      <td>0</td>\n",
       "      <td>0</td>\n",
       "    </tr>\n",
       "    <tr>\n",
       "      <th>3</th>\n",
       "      <td>0</td>\n",
       "      <td>0</td>\n",
       "      <td>1</td>\n",
       "      <td>0</td>\n",
       "    </tr>\n",
       "    <tr>\n",
       "      <th>4</th>\n",
       "      <td>0</td>\n",
       "      <td>1</td>\n",
       "      <td>0</td>\n",
       "      <td>0</td>\n",
       "    </tr>\n",
       "  </tbody>\n",
       "</table>\n",
       "</div>"
      ],
      "text/plain": [
       "   Местоположение кампуса_Rural  Местоположение кампуса_Suburban  \\\n",
       "0                             0                                0   \n",
       "1                             0                                0   \n",
       "2                             0                                1   \n",
       "3                             0                                0   \n",
       "4                             0                                1   \n",
       "\n",
       "   Местоположение кампуса_Urban  Местоположение кампуса_nan  \n",
       "0                             1                           0  \n",
       "1                             1                           0  \n",
       "2                             0                           0  \n",
       "3                             1                           0  \n",
       "4                             0                           0  "
      ]
     },
     "execution_count": 70,
     "metadata": {},
     "output_type": "execute_result"
    }
   ],
   "source": [
    "pd.get_dummies(cat_temp_data, dummy_na=True).head()"
   ]
  },
  {
   "cell_type": "code",
   "execution_count": 71,
   "id": "1fa90178",
   "metadata": {},
   "outputs": [],
   "source": [
    "#Масштабирование данных"
   ]
  },
  {
   "cell_type": "code",
   "execution_count": 72,
   "id": "33b775d8",
   "metadata": {},
   "outputs": [],
   "source": [
    "from sklearn.preprocessing import MinMaxScaler, StandardScaler, Normalizer"
   ]
  },
  {
   "cell_type": "code",
   "execution_count": 74,
   "id": "acb56ca1",
   "metadata": {},
   "outputs": [],
   "source": [
    "#MinMax масштабирование\n",
    "sc1 = MinMaxScaler()\n",
    "sc1_data = sc1.fit_transform(data[['Мировой рейтинг']])"
   ]
  },
  {
   "cell_type": "code",
   "execution_count": 75,
   "id": "28898e5b",
   "metadata": {},
   "outputs": [
    {
     "data": {
      "image/png": "[encoded data removed]",
      "text/plain": [
       "<Figure size 640x480 with 1 Axes>"
      ]
     },
     "metadata": {},
     "output_type": "display_data"
    }
   ],
   "source": [
    "plt.hist(data['Мировой рейтинг'], 50)\n",
    "plt.show()"
   ]
  },
  {
   "cell_type": "code",
   "execution_count": 76,
   "id": "c7094d8e",
   "metadata": {},
   "outputs": [
    {
     "data": {
      "image/png": "[encoded data removed]",
      "text/plain": [
       "<Figure size 640x480 with 1 Axes>"
      ]
     },
     "metadata": {},
     "output_type": "display_data"
    }
   ],
   "source": [
    "plt.hist(sc1_data, 50)\n",
    "plt.show()"
   ]
  },
  {
   "cell_type": "code",
   "execution_count": 77,
   "id": "1c3a93fb",
   "metadata": {},
   "outputs": [],
   "source": [
    "#Масштабирование данных на основе Z-оценки - StandardScaler\n",
    "sc2 = StandardScaler()\n",
    "sc2_data = sc2.fit_transform(data[['Мировой рейтинг']])"
   ]
  },
  {
   "cell_type": "code",
   "execution_count": 78,
   "id": "6f96ff70",
   "metadata": {},
   "outputs": [
    {
     "data": {
      "image/png": "[encoded data removed]",
      "text/plain": [
       "<Figure size 640x480 with 1 Axes>"
      ]
     },
     "metadata": {},
     "output_type": "display_data"
    }
   ],
   "source": [
    "plt.hist(sc2_data, 50)\n",
    "plt.show()"
   ]
  },
  {
   "cell_type": "code",
   "execution_count": null,
   "id": "64d13272",
   "metadata": {},
   "outputs": [],
   "source": []
  }
 ],
 "metadata": {
  "kernelspec": {
   "display_name": "Python 3 (ipykernel)",
   "language": "python",
   "name": "python3"
  },
  "language_info": {
   "codemirror_mode": {
    "name": "ipython",
    "version": 3
   },
   "file_extension": ".py",
   "mimetype": "text/x-python",
   "name": "python",
   "nbconvert_exporter": "python",
   "pygments_lexer": "ipython3",
   "version": "3.10.7"
  }
 },
 "nbformat": 4,
 "nbformat_minor": 5
}
