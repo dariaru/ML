{
  "cells": [
    {
      "cell_type": "code",
      "execution_count": null,
      "id": "3ca253bf",
      "metadata": {
        "id": "3ca253bf"
      },
      "outputs": [],
      "source": [
        "import pandas as pd\n",
        "import matplotlib.pyplot as plt\n",
        "import matplotlib.ticker as ticker\n",
        "import numpy as np\n",
        "from sklearn.model_selection import train_test_split, GridSearchCV, RandomizedSearchCV\n",
        "from sklearn.neighbors import KNeighborsRegressor, KNeighborsClassifier"
      ]
    },
    {
      "cell_type": "code",
      "execution_count": null,
      "id": "696d1fa4",
      "metadata": {
        "id": "696d1fa4"
      },
      "outputs": [],
      "source": [
        "data = pd.read_csv(r'gero_01.csv')"
      ]
    },
    {
      "cell_type": "code",
      "execution_count": null,
      "id": "2a86ed11",
      "metadata": {
        "colab": {
          "base_uri": "https://localhost:8080/",
          "height": 386
        },
        "id": "2a86ed11",
        "outputId": "facadaa3-357d-487f-eebe-1646050cfdde"
      },
      "outputs": [
        {
          "output_type": "execute_result",
          "data": {
            "text/plain": [
              "   RIAGENDR  RIDAGEMN  INDFMINC  INDHHINC  DMDMARTL  RIDRETH1  INDFMPIR  \\\n",
              "0       2.0 -1.651695 -1.593689 -1.994973  0.221957  0.916553 -0.928971   \n",
              "1       1.0  1.952942  2.062087  0.292809  0.221957  0.097000  1.528525   \n",
              "2       2.0 -0.865647 -0.873707 -0.419760  0.221957  0.097000 -0.364566   \n",
              "3       1.0 -1.741556 -1.674348 -1.994973  0.221957  0.916553 -1.257352   \n",
              "4       1.0  1.052884  1.064450  1.112452 -1.382532  0.097000  1.528525   \n",
              "\n",
              "        LBDBANO   LBDEONO  LBDLYMNO  ...   LBXSKSI    LBXSLDSI    LBXSNASI  \\\n",
              "0  4.190353e-02  0.217859  2.399367  ...  3.999445  133.626978  139.115918   \n",
              "1  5.397605e-79  0.300000  1.600000  ...  4.060000  140.000000  144.100000   \n",
              "2  5.397605e-79  1.100000  2.800000  ...  3.999445  133.626978  139.115918   \n",
              "3  1.000000e-01  1.000000  5.100000  ...  3.999445  133.626978  139.115918   \n",
              "4  5.397605e-79  0.200000  2.200000  ...  4.630000  133.000000  137.500000   \n",
              "\n",
              "     LBXSOSSI    LBXSPH    LBXSTB   LBXSTP      LBXSTR    LBXSUA  MCQ160B  \n",
              "0  277.713014  3.862182  0.685092  7.24525  137.980962  5.315611      0.0  \n",
              "1  288.000000  3.300000  0.700000  7.20000  115.000000  6.100000      2.0  \n",
              "2  277.713014  3.862182  0.685092  7.24525  137.980962  5.315611      0.0  \n",
              "3  277.713014  3.862182  0.685092  7.24525  137.980962  5.315611      0.0  \n",
              "4  276.000000  3.200000  0.500000  7.30000  341.000000  6.800000      2.0  \n",
              "\n",
              "[5 rows x 64 columns]"
            ],
            "text/html": [
              "\n",
              "  <div id=\"df-c7e3f70e-14d5-48ce-89d3-b3447da54c4b\">\n",
              "    <div class=\"colab-df-container\">\n",
              "      <div>\n",
              "<style scoped>\n",
              "    .dataframe tbody tr th:only-of-type {\n",
              "        vertical-align: middle;\n",
              "    }\n",
              "\n",
              "    .dataframe tbody tr th {\n",
              "        vertical-align: top;\n",
              "    }\n",
              "\n",
              "    .dataframe thead th {\n",
              "        text-align: right;\n",
              "    }\n",
              "</style>\n",
              "<table border=\"1\" class=\"dataframe\">\n",
              "  <thead>\n",
              "    <tr style=\"text-align: right;\">\n",
              "      <th></th>\n",
              "      <th>RIAGENDR</th>\n",
              "      <th>RIDAGEMN</th>\n",
              "      <th>INDFMINC</th>\n",
              "      <th>INDHHINC</th>\n",
              "      <th>DMDMARTL</th>\n",
              "      <th>RIDRETH1</th>\n",
              "      <th>INDFMPIR</th>\n",
              "      <th>LBDBANO</th>\n",
              "      <th>LBDEONO</th>\n",
              "      <th>LBDLYMNO</th>\n",
              "      <th>...</th>\n",
              "      <th>LBXSKSI</th>\n",
              "      <th>LBXSLDSI</th>\n",
              "      <th>LBXSNASI</th>\n",
              "      <th>LBXSOSSI</th>\n",
              "      <th>LBXSPH</th>\n",
              "      <th>LBXSTB</th>\n",
              "      <th>LBXSTP</th>\n",
              "      <th>LBXSTR</th>\n",
              "      <th>LBXSUA</th>\n",
              "      <th>MCQ160B</th>\n",
              "    </tr>\n",
              "  </thead>\n",
              "  <tbody>\n",
              "    <tr>\n",
              "      <th>0</th>\n",
              "      <td>2.0</td>\n",
              "      <td>-1.651695</td>\n",
              "      <td>-1.593689</td>\n",
              "      <td>-1.994973</td>\n",
              "      <td>0.221957</td>\n",
              "      <td>0.916553</td>\n",
              "      <td>-0.928971</td>\n",
              "      <td>4.190353e-02</td>\n",
              "      <td>0.217859</td>\n",
              "      <td>2.399367</td>\n",
              "      <td>...</td>\n",
              "      <td>3.999445</td>\n",
              "      <td>133.626978</td>\n",
              "      <td>139.115918</td>\n",
              "      <td>277.713014</td>\n",
              "      <td>3.862182</td>\n",
              "      <td>0.685092</td>\n",
              "      <td>7.24525</td>\n",
              "      <td>137.980962</td>\n",
              "      <td>5.315611</td>\n",
              "      <td>0.0</td>\n",
              "    </tr>\n",
              "    <tr>\n",
              "      <th>1</th>\n",
              "      <td>1.0</td>\n",
              "      <td>1.952942</td>\n",
              "      <td>2.062087</td>\n",
              "      <td>0.292809</td>\n",
              "      <td>0.221957</td>\n",
              "      <td>0.097000</td>\n",
              "      <td>1.528525</td>\n",
              "      <td>5.397605e-79</td>\n",
              "      <td>0.300000</td>\n",
              "      <td>1.600000</td>\n",
              "      <td>...</td>\n",
              "      <td>4.060000</td>\n",
              "      <td>140.000000</td>\n",
              "      <td>144.100000</td>\n",
              "      <td>288.000000</td>\n",
              "      <td>3.300000</td>\n",
              "      <td>0.700000</td>\n",
              "      <td>7.20000</td>\n",
              "      <td>115.000000</td>\n",
              "      <td>6.100000</td>\n",
              "      <td>2.0</td>\n",
              "    </tr>\n",
              "    <tr>\n",
              "      <th>2</th>\n",
              "      <td>2.0</td>\n",
              "      <td>-0.865647</td>\n",
              "      <td>-0.873707</td>\n",
              "      <td>-0.419760</td>\n",
              "      <td>0.221957</td>\n",
              "      <td>0.097000</td>\n",
              "      <td>-0.364566</td>\n",
              "      <td>5.397605e-79</td>\n",
              "      <td>1.100000</td>\n",
              "      <td>2.800000</td>\n",
              "      <td>...</td>\n",
              "      <td>3.999445</td>\n",
              "      <td>133.626978</td>\n",
              "      <td>139.115918</td>\n",
              "      <td>277.713014</td>\n",
              "      <td>3.862182</td>\n",
              "      <td>0.685092</td>\n",
              "      <td>7.24525</td>\n",
              "      <td>137.980962</td>\n",
              "      <td>5.315611</td>\n",
              "      <td>0.0</td>\n",
              "    </tr>\n",
              "    <tr>\n",
              "      <th>3</th>\n",
              "      <td>1.0</td>\n",
              "      <td>-1.741556</td>\n",
              "      <td>-1.674348</td>\n",
              "      <td>-1.994973</td>\n",
              "      <td>0.221957</td>\n",
              "      <td>0.916553</td>\n",
              "      <td>-1.257352</td>\n",
              "      <td>1.000000e-01</td>\n",
              "      <td>1.000000</td>\n",
              "      <td>5.100000</td>\n",
              "      <td>...</td>\n",
              "      <td>3.999445</td>\n",
              "      <td>133.626978</td>\n",
              "      <td>139.115918</td>\n",
              "      <td>277.713014</td>\n",
              "      <td>3.862182</td>\n",
              "      <td>0.685092</td>\n",
              "      <td>7.24525</td>\n",
              "      <td>137.980962</td>\n",
              "      <td>5.315611</td>\n",
              "      <td>0.0</td>\n",
              "    </tr>\n",
              "    <tr>\n",
              "      <th>4</th>\n",
              "      <td>1.0</td>\n",
              "      <td>1.052884</td>\n",
              "      <td>1.064450</td>\n",
              "      <td>1.112452</td>\n",
              "      <td>-1.382532</td>\n",
              "      <td>0.097000</td>\n",
              "      <td>1.528525</td>\n",
              "      <td>5.397605e-79</td>\n",
              "      <td>0.200000</td>\n",
              "      <td>2.200000</td>\n",
              "      <td>...</td>\n",
              "      <td>4.630000</td>\n",
              "      <td>133.000000</td>\n",
              "      <td>137.500000</td>\n",
              "      <td>276.000000</td>\n",
              "      <td>3.200000</td>\n",
              "      <td>0.500000</td>\n",
              "      <td>7.30000</td>\n",
              "      <td>341.000000</td>\n",
              "      <td>6.800000</td>\n",
              "      <td>2.0</td>\n",
              "    </tr>\n",
              "  </tbody>\n",
              "</table>\n",
              "<p>5 rows × 64 columns</p>\n",
              "</div>\n",
              "      <button class=\"colab-df-convert\" onclick=\"convertToInteractive('df-c7e3f70e-14d5-48ce-89d3-b3447da54c4b')\"\n",
              "              title=\"Convert this dataframe to an interactive table.\"\n",
              "              style=\"display:none;\">\n",
              "        \n",
              "  <svg xmlns=\"http://www.w3.org/2000/svg\" height=\"24px\"viewBox=\"0 0 24 24\"\n",
              "       width=\"24px\">\n",
              "    <path d=\"M0 0h24v24H0V0z\" fill=\"none\"/>\n",
              "    <path d=\"M18.56 5.44l.94 2.06.94-2.06 2.06-.94-2.06-.94-.94-2.06-.94 2.06-2.06.94zm-11 1L8.5 8.5l.94-2.06 2.06-.94-2.06-.94L8.5 2.5l-.94 2.06-2.06.94zm10 10l.94 2.06.94-2.06 2.06-.94-2.06-.94-.94-2.06-.94 2.06-2.06.94z\"/><path d=\"M17.41 7.96l-1.37-1.37c-.4-.4-.92-.59-1.43-.59-.52 0-1.04.2-1.43.59L10.3 9.45l-7.72 7.72c-.78.78-.78 2.05 0 2.83L4 21.41c.39.39.9.59 1.41.59.51 0 1.02-.2 1.41-.59l7.78-7.78 2.81-2.81c.8-.78.8-2.07 0-2.86zM5.41 20L4 18.59l7.72-7.72 1.47 1.35L5.41 20z\"/>\n",
              "  </svg>\n",
              "      </button>\n",
              "      \n",
              "  <style>\n",
              "    .colab-df-container {\n",
              "      display:flex;\n",
              "      flex-wrap:wrap;\n",
              "      gap: 12px;\n",
              "    }\n",
              "\n",
              "    .colab-df-convert {\n",
              "      background-color: #E8F0FE;\n",
              "      border: none;\n",
              "      border-radius: 50%;\n",
              "      cursor: pointer;\n",
              "      display: none;\n",
              "      fill: #1967D2;\n",
              "      height: 32px;\n",
              "      padding: 0 0 0 0;\n",
              "      width: 32px;\n",
              "    }\n",
              "\n",
              "    .colab-df-convert:hover {\n",
              "      background-color: #E2EBFA;\n",
              "      box-shadow: 0px 1px 2px rgba(60, 64, 67, 0.3), 0px 1px 3px 1px rgba(60, 64, 67, 0.15);\n",
              "      fill: #174EA6;\n",
              "    }\n",
              "\n",
              "    [theme=dark] .colab-df-convert {\n",
              "      background-color: #3B4455;\n",
              "      fill: #D2E3FC;\n",
              "    }\n",
              "\n",
              "    [theme=dark] .colab-df-convert:hover {\n",
              "      background-color: #434B5C;\n",
              "      box-shadow: 0px 1px 3px 1px rgba(0, 0, 0, 0.15);\n",
              "      filter: drop-shadow(0px 1px 2px rgba(0, 0, 0, 0.3));\n",
              "      fill: #FFFFFF;\n",
              "    }\n",
              "  </style>\n",
              "\n",
              "      <script>\n",
              "        const buttonEl =\n",
              "          document.querySelector('#df-c7e3f70e-14d5-48ce-89d3-b3447da54c4b button.colab-df-convert');\n",
              "        buttonEl.style.display =\n",
              "          google.colab.kernel.accessAllowed ? 'block' : 'none';\n",
              "\n",
              "        async function convertToInteractive(key) {\n",
              "          const element = document.querySelector('#df-c7e3f70e-14d5-48ce-89d3-b3447da54c4b');\n",
              "          const dataTable =\n",
              "            await google.colab.kernel.invokeFunction('convertToInteractive',\n",
              "                                                     [key], {});\n",
              "          if (!dataTable) return;\n",
              "\n",
              "          const docLinkHtml = 'Like what you see? Visit the ' +\n",
              "            '<a target=\"_blank\" href=https://colab.research.google.com/notebooks/data_table.ipynb>data table notebook</a>'\n",
              "            + ' to learn more about interactive tables.';\n",
              "          element.innerHTML = '';\n",
              "          dataTable['output_type'] = 'display_data';\n",
              "          await google.colab.output.renderOutput(dataTable, element);\n",
              "          const docLink = document.createElement('div');\n",
              "          docLink.innerHTML = docLinkHtml;\n",
              "          element.appendChild(docLink);\n",
              "        }\n",
              "      </script>\n",
              "    </div>\n",
              "  </div>\n",
              "  "
            ]
          },
          "metadata": {},
          "execution_count": 101
        }
      ],
      "source": [
        "data.head()"
      ]
    },
    {
      "cell_type": "code",
      "execution_count": null,
      "id": "a6f62642",
      "metadata": {
        "colab": {
          "base_uri": "https://localhost:8080/"
        },
        "id": "a6f62642",
        "outputId": "089ef3b6-9a6b-41aa-972b-540f2b963954"
      },
      "outputs": [
        {
          "output_type": "execute_result",
          "data": {
            "text/plain": [
              "RIAGENDR    float64\n",
              "RIDAGEMN    float64\n",
              "INDFMINC    float64\n",
              "INDHHINC    float64\n",
              "DMDMARTL    float64\n",
              "             ...   \n",
              "LBXSTB      float64\n",
              "LBXSTP      float64\n",
              "LBXSTR      float64\n",
              "LBXSUA      float64\n",
              "MCQ160B     float64\n",
              "Length: 64, dtype: object"
            ]
          },
          "metadata": {},
          "execution_count": 102
        }
      ],
      "source": [
        "data.dtypes"
      ]
    },
    {
      "cell_type": "code",
      "execution_count": null,
      "id": "0edb7636",
      "metadata": {
        "colab": {
          "base_uri": "https://localhost:8080/"
        },
        "id": "0edb7636",
        "outputId": "0257204e-2849-4117-83d3-be5ab3f54200"
      },
      "outputs": [
        {
          "output_type": "execute_result",
          "data": {
            "text/plain": [
              "RIAGENDR    0\n",
              "RIDAGEMN    0\n",
              "INDFMINC    0\n",
              "INDHHINC    0\n",
              "DMDMARTL    0\n",
              "           ..\n",
              "LBXSTB      1\n",
              "LBXSTP      1\n",
              "LBXSTR      1\n",
              "LBXSUA      1\n",
              "MCQ160B     1\n",
              "Length: 64, dtype: int64"
            ]
          },
          "metadata": {},
          "execution_count": 120
        }
      ],
      "source": [
        "data.isnull().sum()"
      ]
    },
    {
      "cell_type": "code",
      "execution_count": null,
      "id": "37a2484e",
      "metadata": {
        "id": "37a2484e"
      },
      "outputs": [],
      "source": [
        "data=data.dropna()"
      ]
    },
    {
      "cell_type": "code",
      "execution_count": null,
      "id": "5588c4e7",
      "metadata": {
        "id": "5588c4e7"
      },
      "outputs": [],
      "source": [
        "X = data.drop('RIAGENDR', axis=1)\n",
        "# Теперь выделим нужный столбец\n",
        "y = data['RIAGENDR']"
      ]
    },
    {
      "cell_type": "code",
      "execution_count": null,
      "id": "718d1114",
      "metadata": {
        "id": "718d1114"
      },
      "outputs": [],
      "source": [
        "# test_size показывает, какой объем данных нужно выделить для тестового набора\n",
        "# Этот параметр можно использовать для воссоздания определённого результата:\n",
        "X_train, X_test, y_train, y_test = train_test_split(X, y, test_size=0.20)"
      ]
    },
    {
      "cell_type": "code",
      "execution_count": null,
      "id": "0b5e1eae",
      "metadata": {
        "colab": {
          "base_uri": "https://localhost:8080/"
        },
        "id": "0b5e1eae",
        "outputId": "d7128918-8048-4b4c-89bf-15b04af5020c"
      },
      "outputs": [
        {
          "output_type": "stream",
          "name": "stdout",
          "text": [
            "       RIDAGEMN  INDFMINC  INDHHINC  DMDMARTL  RIDRETH1  INDFMPIR  \\\n",
            "47267  1.718653  1.798647  0.203491  0.869504  0.916553 -1.036755   \n",
            "44087  1.006957  1.014686  0.203491 -1.382532  0.097000  1.020054   \n",
            "21466 -0.473279 -0.502205 -0.855246  1.305783  0.916553 -1.003865   \n",
            "39969 -0.311295 -0.345754  0.203491  0.221957 -0.704665  0.854170   \n",
            "5480   0.907121  0.906945  0.203491  1.671651  0.916553  0.207679   \n",
            "...         ...       ...       ...       ...       ...       ...   \n",
            "522   -0.344705 -0.378190 -0.419760  1.305783 -1.482895 -0.260470   \n",
            "33682 -1.896067 -1.812358  7.285741  0.221957  0.916553  0.207679   \n",
            "45333 -0.524809 -0.551566  0.203491  0.221957 -0.704665 -1.185257   \n",
            "51889 -0.556341 -0.581680  0.203491  0.221957  0.916553 -1.544360   \n",
            "57039 -0.530031 -0.556559  0.203491  0.221957 -1.482895  0.207679   \n",
            "\n",
            "            LBDBANO       LBDEONO  LBDLYMNO  LBDMONO  ...   LBXSKSI  \\\n",
            "47267  5.397605e-79  1.000000e-01       1.7      0.6  ...  3.900000   \n",
            "44087  1.000000e-01  2.000000e-01       2.0      0.4  ...  4.000000   \n",
            "21466  5.397605e-79  2.000000e-01       1.4      0.3  ...  4.400000   \n",
            "39969  5.397605e-79  5.000000e-01       2.1      0.4  ...  4.000000   \n",
            "5480   5.397605e-79  3.000000e-01       2.1      0.6  ...  3.570000   \n",
            "...             ...           ...       ...      ...  ...       ...   \n",
            "522    1.000000e-01  1.000000e-01       1.5      0.6  ...  3.960000   \n",
            "33682  5.397605e-79  3.000000e-01       2.2      0.7  ...  3.999445   \n",
            "45333  5.397605e-79  3.000000e-01       2.9      0.6  ...  4.100000   \n",
            "51889  5.397605e-79  1.000000e-01       1.9      0.6  ...  3.800000   \n",
            "57039  5.397605e-79  5.397605e-79       2.3      0.5  ...  4.300000   \n",
            "\n",
            "         LBXSLDSI    LBXSNASI    LBXSOSSI    LBXSPH    LBXSTB   LBXSTP  \\\n",
            "47267  134.000000  140.000000  283.000000  4.000000  0.800000  8.50000   \n",
            "44087  109.000000  134.000000  267.000000  2.900000  0.400000  7.00000   \n",
            "21466  210.000000  139.000000  277.000000  4.200000  0.600000  7.20000   \n",
            "39969  116.000000  147.000000  291.000000  4.400000  0.600000  8.10000   \n",
            "5480   157.000000  137.400000  274.000000  3.600000  0.300000  7.90000   \n",
            "...           ...         ...         ...       ...       ...      ...   \n",
            "522    132.000000  138.400000  276.000000  3.100000  0.800000  6.90000   \n",
            "33682  133.626978  139.115918  277.713014  3.862182  0.685092  7.24525   \n",
            "45333  145.000000  137.000000  273.000000  4.800000  0.500000  7.40000   \n",
            "51889  105.000000  141.000000  279.000000  3.000000  0.800000  7.30000   \n",
            "57039  144.000000  140.000000  280.000000  4.100000  0.600000  7.20000   \n",
            "\n",
            "           LBXSTR     LBXSUA  MCQ160B  \n",
            "47267   92.000000  10.500000      2.0  \n",
            "44087  194.000000   5.300000      2.0  \n",
            "21466   28.000000   5.900000      0.0  \n",
            "39969   59.000000   5.400000      0.0  \n",
            "5480   153.000000   4.700000      2.0  \n",
            "...           ...        ...      ...  \n",
            "522     62.000000   5.200000      0.0  \n",
            "33682  137.980962   5.315611      0.0  \n",
            "45333  107.000000   6.700000      0.0  \n",
            "51889  106.000000   5.000000      0.0  \n",
            "57039   73.000000   4.800000      0.0  \n",
            "\n",
            "[49515 rows x 63 columns]\n",
            "47267    1.0\n",
            "44087    2.0\n",
            "21466    1.0\n",
            "39969    1.0\n",
            "5480     1.0\n",
            "        ... \n",
            "522      1.0\n",
            "33682    1.0\n",
            "45333    2.0\n",
            "51889    2.0\n",
            "57039    2.0\n",
            "Name: RIAGENDR, Length: 49515, dtype: float64\n"
          ]
        }
      ],
      "source": [
        "print(X_train)\n",
        "print(y_train)"
      ]
    },
    {
      "cell_type": "code",
      "execution_count": null,
      "id": "840cdc76",
      "metadata": {
        "id": "840cdc76"
      },
      "outputs": [],
      "source": [
        "# В KNN-модели нужно указать параметр n_neighbors\n",
        "# Это число точек, на которое будет смотреть\n",
        "# классификатор, чтобы определить, к какому классу принадлежит новая точка\n",
        "KNN_model = KNeighborsClassifier(n_neighbors=5)"
      ]
    },
    {
      "cell_type": "code",
      "execution_count": null,
      "id": "12b7901d",
      "metadata": {
        "colab": {
          "base_uri": "https://localhost:8080/",
          "height": 75
        },
        "id": "12b7901d",
        "outputId": "8b8700aa-7356-4c6d-dc18-bb80e431dd8f"
      },
      "outputs": [
        {
          "output_type": "execute_result",
          "data": {
            "text/plain": [
              "KNeighborsClassifier()"
            ],
            "text/html": [
              "<style>#sk-container-id-22 {color: black;background-color: white;}#sk-container-id-22 pre{padding: 0;}#sk-container-id-22 div.sk-toggleable {background-color: white;}#sk-container-id-22 label.sk-toggleable__label {cursor: pointer;display: block;width: 100%;margin-bottom: 0;padding: 0.3em;box-sizing: border-box;text-align: center;}#sk-container-id-22 label.sk-toggleable__label-arrow:before {content: \"▸\";float: left;margin-right: 0.25em;color: #696969;}#sk-container-id-22 label.sk-toggleable__label-arrow:hover:before {color: black;}#sk-container-id-22 div.sk-estimator:hover label.sk-toggleable__label-arrow:before {color: black;}#sk-container-id-22 div.sk-toggleable__content {max-height: 0;max-width: 0;overflow: hidden;text-align: left;background-color: #f0f8ff;}#sk-container-id-22 div.sk-toggleable__content pre {margin: 0.2em;color: black;border-radius: 0.25em;background-color: #f0f8ff;}#sk-container-id-22 input.sk-toggleable__control:checked~div.sk-toggleable__content {max-height: 200px;max-width: 100%;overflow: auto;}#sk-container-id-22 input.sk-toggleable__control:checked~label.sk-toggleable__label-arrow:before {content: \"▾\";}#sk-container-id-22 div.sk-estimator input.sk-toggleable__control:checked~label.sk-toggleable__label {background-color: #d4ebff;}#sk-container-id-22 div.sk-label input.sk-toggleable__control:checked~label.sk-toggleable__label {background-color: #d4ebff;}#sk-container-id-22 input.sk-hidden--visually {border: 0;clip: rect(1px 1px 1px 1px);clip: rect(1px, 1px, 1px, 1px);height: 1px;margin: -1px;overflow: hidden;padding: 0;position: absolute;width: 1px;}#sk-container-id-22 div.sk-estimator {font-family: monospace;background-color: #f0f8ff;border: 1px dotted black;border-radius: 0.25em;box-sizing: border-box;margin-bottom: 0.5em;}#sk-container-id-22 div.sk-estimator:hover {background-color: #d4ebff;}#sk-container-id-22 div.sk-parallel-item::after {content: \"\";width: 100%;border-bottom: 1px solid gray;flex-grow: 1;}#sk-container-id-22 div.sk-label:hover label.sk-toggleable__label {background-color: #d4ebff;}#sk-container-id-22 div.sk-serial::before {content: \"\";position: absolute;border-left: 1px solid gray;box-sizing: border-box;top: 0;bottom: 0;left: 50%;z-index: 0;}#sk-container-id-22 div.sk-serial {display: flex;flex-direction: column;align-items: center;background-color: white;padding-right: 0.2em;padding-left: 0.2em;position: relative;}#sk-container-id-22 div.sk-item {position: relative;z-index: 1;}#sk-container-id-22 div.sk-parallel {display: flex;align-items: stretch;justify-content: center;background-color: white;position: relative;}#sk-container-id-22 div.sk-item::before, #sk-container-id-22 div.sk-parallel-item::before {content: \"\";position: absolute;border-left: 1px solid gray;box-sizing: border-box;top: 0;bottom: 0;left: 50%;z-index: -1;}#sk-container-id-22 div.sk-parallel-item {display: flex;flex-direction: column;z-index: 1;position: relative;background-color: white;}#sk-container-id-22 div.sk-parallel-item:first-child::after {align-self: flex-end;width: 50%;}#sk-container-id-22 div.sk-parallel-item:last-child::after {align-self: flex-start;width: 50%;}#sk-container-id-22 div.sk-parallel-item:only-child::after {width: 0;}#sk-container-id-22 div.sk-dashed-wrapped {border: 1px dashed gray;margin: 0 0.4em 0.5em 0.4em;box-sizing: border-box;padding-bottom: 0.4em;background-color: white;}#sk-container-id-22 div.sk-label label {font-family: monospace;font-weight: bold;display: inline-block;line-height: 1.2em;}#sk-container-id-22 div.sk-label-container {text-align: center;}#sk-container-id-22 div.sk-container {/* jupyter's `normalize.less` sets `[hidden] { display: none; }` but bootstrap.min.css set `[hidden] { display: none !important; }` so we also need the `!important` here to be able to override the default hidden behavior on the sphinx rendered scikit-learn.org. See: https://github.com/scikit-learn/scikit-learn/issues/21755 */display: inline-block !important;position: relative;}#sk-container-id-22 div.sk-text-repr-fallback {display: none;}</style><div id=\"sk-container-id-22\" class=\"sk-top-container\"><div class=\"sk-text-repr-fallback\"><pre>KNeighborsClassifier()</pre><b>In a Jupyter environment, please rerun this cell to show the HTML representation or trust the notebook. <br />On GitHub, the HTML representation is unable to render, please try loading this page with nbviewer.org.</b></div><div class=\"sk-container\" hidden><div class=\"sk-item\"><div class=\"sk-estimator sk-toggleable\"><input class=\"sk-toggleable__control sk-hidden--visually\" id=\"sk-estimator-id-38\" type=\"checkbox\" checked><label for=\"sk-estimator-id-38\" class=\"sk-toggleable__label sk-toggleable__label-arrow\">KNeighborsClassifier</label><div class=\"sk-toggleable__content\"><pre>KNeighborsClassifier()</pre></div></div></div></div></div>"
            ]
          },
          "metadata": {},
          "execution_count": 126
        }
      ],
      "source": [
        "KNN_model.fit(X_train, y_train)\n",
        "# KNN_model.fit(data_train[['x1','x2']], data_train['y_clas'])"
      ]
    },
    {
      "cell_type": "code",
      "execution_count": null,
      "id": "8a187829",
      "metadata": {
        "id": "8a187829"
      },
      "outputs": [],
      "source": [
        "KNN_prediction = KNN_model.predict(X_test)\n",
        "# KNN_model.predict(data_test[['x1','x2']])"
      ]
    },
    {
      "cell_type": "code",
      "source": [
        "from sklearn.metrics import accuracy_score\n",
        "print(accuracy_score(KNN_prediction, y_test))"
      ],
      "metadata": {
        "colab": {
          "base_uri": "https://localhost:8080/"
        },
        "id": "01us2xh_JlzJ",
        "outputId": "0746fcf5-4627-4a53-dae7-dbd82c76235e"
      },
      "id": "01us2xh_JlzJ",
      "execution_count": null,
      "outputs": [
        {
          "output_type": "stream",
          "name": "stdout",
          "text": [
            "0.6925438242184344\n"
          ]
        }
      ]
    },
    {
      "cell_type": "code",
      "execution_count": null,
      "id": "3e033764",
      "metadata": {
        "colab": {
          "base_uri": "https://localhost:8080/"
        },
        "id": "3e033764",
        "outputId": "07184367-175d-4585-da23-ca6adde633f0"
      },
      "outputs": [
        {
          "output_type": "execute_result",
          "data": {
            "text/plain": [
              "{'n_neighbors': range(10, 50)}"
            ]
          },
          "metadata": {},
          "execution_count": 130
        }
      ],
      "source": [
        "# Grid Search (решетчатый поиск)\n",
        "params = {'n_neighbors': range(10, 35)}\n",
        "params"
      ]
    },
    {
      "cell_type": "code",
      "execution_count": 131,
      "id": "5d507091",
      "metadata": {
        "id": "5d507091",
        "colab": {
          "base_uri": "https://localhost:8080/",
          "height": 152
        },
        "outputId": "2fd129cc-aeba-4bb6-c0eb-3ae3d53cce76"
      },
      "outputs": [
        {
          "output_type": "stream",
          "name": "stdout",
          "text": [
            "CPU times: user 20min 33s, sys: 1.78 s, total: 20min 35s\n",
            "Wall time: 12min 24s\n"
          ]
        },
        {
          "output_type": "execute_result",
          "data": {
            "text/plain": [
              "GridSearchCV(cv=10, estimator=KNeighborsClassifier(),\n",
              "             param_grid={'n_neighbors': range(10, 50)}, scoring='accuracy')"
            ],
            "text/html": [
              "<style>#sk-container-id-23 {color: black;background-color: white;}#sk-container-id-23 pre{padding: 0;}#sk-container-id-23 div.sk-toggleable {background-color: white;}#sk-container-id-23 label.sk-toggleable__label {cursor: pointer;display: block;width: 100%;margin-bottom: 0;padding: 0.3em;box-sizing: border-box;text-align: center;}#sk-container-id-23 label.sk-toggleable__label-arrow:before {content: \"▸\";float: left;margin-right: 0.25em;color: #696969;}#sk-container-id-23 label.sk-toggleable__label-arrow:hover:before {color: black;}#sk-container-id-23 div.sk-estimator:hover label.sk-toggleable__label-arrow:before {color: black;}#sk-container-id-23 div.sk-toggleable__content {max-height: 0;max-width: 0;overflow: hidden;text-align: left;background-color: #f0f8ff;}#sk-container-id-23 div.sk-toggleable__content pre {margin: 0.2em;color: black;border-radius: 0.25em;background-color: #f0f8ff;}#sk-container-id-23 input.sk-toggleable__control:checked~div.sk-toggleable__content {max-height: 200px;max-width: 100%;overflow: auto;}#sk-container-id-23 input.sk-toggleable__control:checked~label.sk-toggleable__label-arrow:before {content: \"▾\";}#sk-container-id-23 div.sk-estimator input.sk-toggleable__control:checked~label.sk-toggleable__label {background-color: #d4ebff;}#sk-container-id-23 div.sk-label input.sk-toggleable__control:checked~label.sk-toggleable__label {background-color: #d4ebff;}#sk-container-id-23 input.sk-hidden--visually {border: 0;clip: rect(1px 1px 1px 1px);clip: rect(1px, 1px, 1px, 1px);height: 1px;margin: -1px;overflow: hidden;padding: 0;position: absolute;width: 1px;}#sk-container-id-23 div.sk-estimator {font-family: monospace;background-color: #f0f8ff;border: 1px dotted black;border-radius: 0.25em;box-sizing: border-box;margin-bottom: 0.5em;}#sk-container-id-23 div.sk-estimator:hover {background-color: #d4ebff;}#sk-container-id-23 div.sk-parallel-item::after {content: \"\";width: 100%;border-bottom: 1px solid gray;flex-grow: 1;}#sk-container-id-23 div.sk-label:hover label.sk-toggleable__label {background-color: #d4ebff;}#sk-container-id-23 div.sk-serial::before {content: \"\";position: absolute;border-left: 1px solid gray;box-sizing: border-box;top: 0;bottom: 0;left: 50%;z-index: 0;}#sk-container-id-23 div.sk-serial {display: flex;flex-direction: column;align-items: center;background-color: white;padding-right: 0.2em;padding-left: 0.2em;position: relative;}#sk-container-id-23 div.sk-item {position: relative;z-index: 1;}#sk-container-id-23 div.sk-parallel {display: flex;align-items: stretch;justify-content: center;background-color: white;position: relative;}#sk-container-id-23 div.sk-item::before, #sk-container-id-23 div.sk-parallel-item::before {content: \"\";position: absolute;border-left: 1px solid gray;box-sizing: border-box;top: 0;bottom: 0;left: 50%;z-index: -1;}#sk-container-id-23 div.sk-parallel-item {display: flex;flex-direction: column;z-index: 1;position: relative;background-color: white;}#sk-container-id-23 div.sk-parallel-item:first-child::after {align-self: flex-end;width: 50%;}#sk-container-id-23 div.sk-parallel-item:last-child::after {align-self: flex-start;width: 50%;}#sk-container-id-23 div.sk-parallel-item:only-child::after {width: 0;}#sk-container-id-23 div.sk-dashed-wrapped {border: 1px dashed gray;margin: 0 0.4em 0.5em 0.4em;box-sizing: border-box;padding-bottom: 0.4em;background-color: white;}#sk-container-id-23 div.sk-label label {font-family: monospace;font-weight: bold;display: inline-block;line-height: 1.2em;}#sk-container-id-23 div.sk-label-container {text-align: center;}#sk-container-id-23 div.sk-container {/* jupyter's `normalize.less` sets `[hidden] { display: none; }` but bootstrap.min.css set `[hidden] { display: none !important; }` so we also need the `!important` here to be able to override the default hidden behavior on the sphinx rendered scikit-learn.org. See: https://github.com/scikit-learn/scikit-learn/issues/21755 */display: inline-block !important;position: relative;}#sk-container-id-23 div.sk-text-repr-fallback {display: none;}</style><div id=\"sk-container-id-23\" class=\"sk-top-container\"><div class=\"sk-text-repr-fallback\"><pre>GridSearchCV(cv=10, estimator=KNeighborsClassifier(),\n",
              "             param_grid={&#x27;n_neighbors&#x27;: range(10, 50)}, scoring=&#x27;accuracy&#x27;)</pre><b>In a Jupyter environment, please rerun this cell to show the HTML representation or trust the notebook. <br />On GitHub, the HTML representation is unable to render, please try loading this page with nbviewer.org.</b></div><div class=\"sk-container\" hidden><div class=\"sk-item sk-dashed-wrapped\"><div class=\"sk-label-container\"><div class=\"sk-label sk-toggleable\"><input class=\"sk-toggleable__control sk-hidden--visually\" id=\"sk-estimator-id-39\" type=\"checkbox\" ><label for=\"sk-estimator-id-39\" class=\"sk-toggleable__label sk-toggleable__label-arrow\">GridSearchCV</label><div class=\"sk-toggleable__content\"><pre>GridSearchCV(cv=10, estimator=KNeighborsClassifier(),\n",
              "             param_grid={&#x27;n_neighbors&#x27;: range(10, 50)}, scoring=&#x27;accuracy&#x27;)</pre></div></div></div><div class=\"sk-parallel\"><div class=\"sk-parallel-item\"><div class=\"sk-item\"><div class=\"sk-label-container\"><div class=\"sk-label sk-toggleable\"><input class=\"sk-toggleable__control sk-hidden--visually\" id=\"sk-estimator-id-40\" type=\"checkbox\" ><label for=\"sk-estimator-id-40\" class=\"sk-toggleable__label sk-toggleable__label-arrow\">estimator: KNeighborsClassifier</label><div class=\"sk-toggleable__content\"><pre>KNeighborsClassifier()</pre></div></div></div><div class=\"sk-serial\"><div class=\"sk-item\"><div class=\"sk-estimator sk-toggleable\"><input class=\"sk-toggleable__control sk-hidden--visually\" id=\"sk-estimator-id-41\" type=\"checkbox\" ><label for=\"sk-estimator-id-41\" class=\"sk-toggleable__label sk-toggleable__label-arrow\">KNeighborsClassifier</label><div class=\"sk-toggleable__content\"><pre>KNeighborsClassifier()</pre></div></div></div></div></div></div></div></div></div></div>"
            ]
          },
          "metadata": {},
          "execution_count": 131
        }
      ],
      "source": [
        "%%time\n",
        "knn_cv = GridSearchCV(KNeighborsClassifier(), params, cv=10, scoring='accuracy')\n",
        "knn_cv.fit(X_train, y_train)\n",
        "# print_cv_result(knn_cv, X_test, y_test)"
      ]
    },
    {
      "cell_type": "code",
      "source": [
        "knn_cv.cv_results_"
      ],
      "metadata": {
        "colab": {
          "base_uri": "https://localhost:8080/"
        },
        "id": "DPAM3jABE7gs",
        "outputId": "70188393-061e-4b34-9a7e-55c62804e81d"
      },
      "id": "DPAM3jABE7gs",
      "execution_count": 132,
      "outputs": [
        {
          "output_type": "execute_result",
          "data": {
            "text/plain": [
              "{'mean_fit_time': array([0.03129005, 0.02664099, 0.03034885, 0.02726729, 0.02459028,\n",
              "        0.02376406, 0.02358553, 0.02378311, 0.02477462, 0.02419198,\n",
              "        0.02451646, 0.0233706 , 0.02438164, 0.02512305, 0.02376652,\n",
              "        0.02555745, 0.02649949, 0.02725277, 0.02613459, 0.02607017,\n",
              "        0.02494643, 0.0239851 , 0.02451489, 0.02375364, 0.02546234,\n",
              "        0.02347367, 0.02336133, 0.02413559, 0.02381155, 0.02517014,\n",
              "        0.02627583, 0.02649281, 0.02403662, 0.02438006, 0.02443311,\n",
              "        0.02328715, 0.02422462, 0.02346666, 0.0252425 , 0.02275541]),\n",
              " 'std_fit_time': array([0.00528687, 0.00447005, 0.00919312, 0.00454219, 0.00297489,\n",
              "        0.00236356, 0.00256499, 0.00335256, 0.00424838, 0.002594  ,\n",
              "        0.00459743, 0.00224849, 0.003343  , 0.00415022, 0.00340104,\n",
              "        0.00459163, 0.00257591, 0.00408518, 0.00465571, 0.00417579,\n",
              "        0.0046417 , 0.00357222, 0.00405832, 0.00334986, 0.00366924,\n",
              "        0.00245464, 0.00340478, 0.00391564, 0.00389527, 0.00430081,\n",
              "        0.0026113 , 0.0049921 , 0.00216435, 0.00234045, 0.00301382,\n",
              "        0.00323379, 0.00385394, 0.00328112, 0.00440993, 0.00084341]),\n",
              " 'mean_score_time': array([1.95445743, 1.79778402, 1.81466463, 1.90635979, 1.74514673,\n",
              "        1.87896245, 1.74179502, 1.77809975, 1.85140355, 1.74145858,\n",
              "        1.87943883, 1.75225706, 1.78889902, 1.84343157, 1.75076182,\n",
              "        1.89816856, 1.82199631, 1.97059755, 1.81525505, 1.8784946 ,\n",
              "        1.81092272, 1.77925067, 1.9034996 , 1.76500568, 1.91416626,\n",
              "        1.77059853, 1.81828649, 1.85622017, 1.77930222, 1.92811313,\n",
              "        1.82928596, 1.96594915, 1.8066802 , 1.9405935 , 1.79401863,\n",
              "        1.82686496, 1.8674567 , 1.78326404, 1.87695425, 1.74747481]),\n",
              " 'std_score_time': array([0.50472561, 0.394306  , 0.3426189 , 0.4390728 , 0.36539195,\n",
              "        0.48365494, 0.27843312, 0.27452187, 0.43902442, 0.38150904,\n",
              "        0.35957988, 0.26800778, 0.27996843, 0.40662242, 0.36640181,\n",
              "        0.44919251, 0.41145302, 0.42981383, 0.30932729, 0.35634318,\n",
              "        0.29464484, 0.27452316, 0.34977991, 0.28322103, 0.34278476,\n",
              "        0.27741914, 0.30546554, 0.37410313, 0.32207567, 0.4664742 ,\n",
              "        0.29939449, 0.37014477, 0.33498922, 0.54456274, 0.3539438 ,\n",
              "        0.32842388, 0.3353275 , 0.26532879, 0.32622965, 0.30832783]),\n",
              " 'param_n_neighbors': masked_array(data=[10, 11, 12, 13, 14, 15, 16, 17, 18, 19, 20, 21, 22, 23,\n",
              "                    24, 25, 26, 27, 28, 29, 30, 31, 32, 33, 34, 35, 36, 37,\n",
              "                    38, 39, 40, 41, 42, 43, 44, 45, 46, 47, 48, 49],\n",
              "              mask=[False, False, False, False, False, False, False, False,\n",
              "                    False, False, False, False, False, False, False, False,\n",
              "                    False, False, False, False, False, False, False, False,\n",
              "                    False, False, False, False, False, False, False, False,\n",
              "                    False, False, False, False, False, False, False, False],\n",
              "        fill_value='?',\n",
              "             dtype=object),\n",
              " 'params': [{'n_neighbors': 10},\n",
              "  {'n_neighbors': 11},\n",
              "  {'n_neighbors': 12},\n",
              "  {'n_neighbors': 13},\n",
              "  {'n_neighbors': 14},\n",
              "  {'n_neighbors': 15},\n",
              "  {'n_neighbors': 16},\n",
              "  {'n_neighbors': 17},\n",
              "  {'n_neighbors': 18},\n",
              "  {'n_neighbors': 19},\n",
              "  {'n_neighbors': 20},\n",
              "  {'n_neighbors': 21},\n",
              "  {'n_neighbors': 22},\n",
              "  {'n_neighbors': 23},\n",
              "  {'n_neighbors': 24},\n",
              "  {'n_neighbors': 25},\n",
              "  {'n_neighbors': 26},\n",
              "  {'n_neighbors': 27},\n",
              "  {'n_neighbors': 28},\n",
              "  {'n_neighbors': 29},\n",
              "  {'n_neighbors': 30},\n",
              "  {'n_neighbors': 31},\n",
              "  {'n_neighbors': 32},\n",
              "  {'n_neighbors': 33},\n",
              "  {'n_neighbors': 34},\n",
              "  {'n_neighbors': 35},\n",
              "  {'n_neighbors': 36},\n",
              "  {'n_neighbors': 37},\n",
              "  {'n_neighbors': 38},\n",
              "  {'n_neighbors': 39},\n",
              "  {'n_neighbors': 40},\n",
              "  {'n_neighbors': 41},\n",
              "  {'n_neighbors': 42},\n",
              "  {'n_neighbors': 43},\n",
              "  {'n_neighbors': 44},\n",
              "  {'n_neighbors': 45},\n",
              "  {'n_neighbors': 46},\n",
              "  {'n_neighbors': 47},\n",
              "  {'n_neighbors': 48},\n",
              "  {'n_neighbors': 49}],\n",
              " 'split0_test_score': array([0.70153473, 0.71001616, 0.70880452, 0.71324717, 0.70597738,\n",
              "        0.70941034, 0.70840065, 0.70516963, 0.70638126, 0.70718901,\n",
              "        0.71062197, 0.70981422, 0.70840065, 0.70516963, 0.70516963,\n",
              "        0.70678514, 0.70516963, 0.70597738, 0.70941034, 0.70638126,\n",
              "        0.70516963, 0.70739095, 0.70718901, 0.70759289, 0.70981422,\n",
              "        0.70759289, 0.70678514, 0.70496769, 0.70840065, 0.70234249,\n",
              "        0.70617932, 0.70597738, 0.70516963, 0.70476575, 0.70759289,\n",
              "        0.70496769, 0.7065832 , 0.70415994, 0.7065832 , 0.70759289]),\n",
              " 'split1_test_score': array([0.70436187, 0.70698708, 0.70880452, 0.71163166, 0.7092084 ,\n",
              "        0.70981422, 0.71021809, 0.71021809, 0.71062197, 0.70860258,\n",
              "        0.71324717, 0.71203554, 0.7128433 , 0.71425687, 0.71668013,\n",
              "        0.71567044, 0.71950727, 0.71890145, 0.72092084, 0.72294023,\n",
              "        0.7233441 , 0.72112278, 0.7180937 , 0.7180937 , 0.72092084,\n",
              "        0.71890145, 0.71688207, 0.71627625, 0.71587237, 0.71607431,\n",
              "        0.71142973, 0.71425687, 0.71142973, 0.71223748, 0.7118336 ,\n",
              "        0.71466074, 0.71122779, 0.71001616, 0.70840065, 0.71042003]),\n",
              " 'split2_test_score': array([0.71324717, 0.71304523, 0.71203554, 0.71082391, 0.70819871,\n",
              "        0.70819871, 0.70617932, 0.70617932, 0.71062197, 0.70698708,\n",
              "        0.7092084 , 0.7144588 , 0.70840065, 0.70941034, 0.7118336 ,\n",
              "        0.71405493, 0.71021809, 0.71062197, 0.70698708, 0.70880452,\n",
              "        0.70880452, 0.71466074, 0.70981422, 0.7118336 , 0.71082391,\n",
              "        0.71385299, 0.71042003, 0.71042003, 0.70799677, 0.71142973,\n",
              "        0.70759289, 0.71082391, 0.70880452, 0.71001616, 0.7092084 ,\n",
              "        0.71042003, 0.71062197, 0.71324717, 0.71082391, 0.71344911]),\n",
              " 'split3_test_score': array([0.70254443, 0.70860258, 0.70476575, 0.70516963, 0.70557351,\n",
              "        0.70779483, 0.70274637, 0.70557351, 0.70335218, 0.70779483,\n",
              "        0.70799677, 0.70941034, 0.71163166, 0.71405493, 0.71324717,\n",
              "        0.71627625, 0.71405493, 0.71163166, 0.71344911, 0.7092084 ,\n",
              "        0.71203554, 0.70718901, 0.70718901, 0.70678514, 0.70779483,\n",
              "        0.70557351, 0.71122779, 0.70799677, 0.70860258, 0.70941034,\n",
              "        0.71243942, 0.71102585, 0.71163166, 0.71385299, 0.7128433 ,\n",
              "        0.71082391, 0.71264136, 0.71163166, 0.71021809, 0.70819871]),\n",
              " 'split4_test_score': array([0.69931341, 0.69689015, 0.69789984, 0.70274637, 0.70415994,\n",
              "        0.70597738, 0.70718901, 0.70678514, 0.703958  , 0.7065832 ,\n",
              "        0.70092892, 0.70436187, 0.70456381, 0.70597738, 0.70759289,\n",
              "        0.71001616, 0.70698708, 0.70799677, 0.70617932, 0.71062197,\n",
              "        0.70941034, 0.70779483, 0.7092084 , 0.70880452, 0.70900646,\n",
              "        0.70638126, 0.70638126, 0.70759289, 0.70597738, 0.70759289,\n",
              "        0.70537157, 0.70638126, 0.70597738, 0.70840065, 0.70638126,\n",
              "        0.70617932, 0.70234249, 0.70779483, 0.70638126, 0.7092084 ]),\n",
              " 'split5_test_score': array([0.69985861, 0.69985861, 0.70248435, 0.69945466, 0.70248435,\n",
              "        0.69723288, 0.70066653, 0.70208039, 0.7038982 , 0.70086851,\n",
              "        0.70611998, 0.70248435, 0.70369622, 0.70107049, 0.70167643,\n",
              "        0.70228237, 0.70329226, 0.70369622, 0.70470612, 0.70228237,\n",
              "        0.70066653, 0.70147445, 0.69985861, 0.70531206, 0.70288831,\n",
              "        0.70147445, 0.69945466, 0.70086851, 0.6980408 , 0.69945466,\n",
              "        0.69884872, 0.69783882, 0.69824278, 0.6990507 , 0.69884872,\n",
              "        0.69844476, 0.69763684, 0.69561705, 0.69763684, 0.69723288]),\n",
              " 'split6_test_score': array([0.70511008, 0.70955363, 0.70733185, 0.70914967, 0.71096748,\n",
              "        0.71157342, 0.71318925, 0.71359321, 0.71116946, 0.71258332,\n",
              "        0.71419915, 0.70995758, 0.71015956, 0.71096748, 0.71137144,\n",
              "        0.71379519, 0.70935165, 0.71197738, 0.71096748, 0.71440113,\n",
              "        0.71359321, 0.71399717, 0.71238134, 0.71561301, 0.71460311,\n",
              "        0.71561301, 0.71440113, 0.71359321, 0.71379519, 0.71217936,\n",
              "        0.71137144, 0.71096748, 0.71642093, 0.71318925, 0.71520905,\n",
              "        0.71480509, 0.7166229 , 0.71399717, 0.71339123, 0.71621895]),\n",
              " 'split7_test_score': array([0.70813977, 0.70611998, 0.70793779, 0.70995758, 0.70773581,\n",
              "        0.70914967, 0.7107655 , 0.70692789, 0.70773581, 0.70753383,\n",
              "        0.70793779, 0.7127853 , 0.70874571, 0.71137144, 0.71036154,\n",
              "        0.71015956, 0.70733185, 0.71258332, 0.71197738, 0.71601697,\n",
              "        0.71298728, 0.71783478, 0.71621895, 0.71480509, 0.71702686,\n",
              "        0.71581499, 0.71621895, 0.71500707, 0.71500707, 0.71460311,\n",
              "        0.71399717, 0.71379519, 0.71601697, 0.71318925, 0.71642093,\n",
              "        0.7117754 , 0.71399717, 0.71541103, 0.71985457, 0.71722884]),\n",
              " 'split8_test_score': array([0.69723288, 0.70470612, 0.69501111, 0.70268633, 0.70208039,\n",
              "        0.70026257, 0.70430216, 0.70167643, 0.69884872, 0.70652393,\n",
              "        0.70187841, 0.70470612, 0.70470612, 0.70208039, 0.69925268,\n",
              "        0.70066653, 0.69844476, 0.70046455, 0.70369622, 0.69925268,\n",
              "        0.69945466, 0.69682892, 0.69642496, 0.69945466, 0.69581903,\n",
              "        0.6980408 , 0.69662694, 0.69925268, 0.69985861, 0.70167643,\n",
              "        0.69824278, 0.69682892, 0.69824278, 0.69925268, 0.70026257,\n",
              "        0.69864674, 0.69844476, 0.69824278, 0.69763684, 0.69763684]),\n",
              " 'split9_test_score': array([0.69602101, 0.69682892, 0.69521309, 0.69541507, 0.69965664,\n",
              "        0.69783882, 0.6980408 , 0.69642496, 0.70006059, 0.69278934,\n",
              "        0.6980408 , 0.69723288, 0.69864674, 0.69238538, 0.69884872,\n",
              "        0.69884872, 0.70026257, 0.70086851, 0.70248435, 0.69864674,\n",
              "        0.69965664, 0.69561705, 0.70046455, 0.70066653, 0.70026257,\n",
              "        0.70046455, 0.70127247, 0.70046455, 0.70208039, 0.69925268,\n",
              "        0.70208039, 0.70248435, 0.70611998, 0.705918  , 0.70450414,\n",
              "        0.70611998, 0.70733185, 0.70611998, 0.70430216, 0.70531206]),\n",
              " 'mean_test_score': array([0.7027364 , 0.70526085, 0.70402884, 0.7060282 , 0.70560426,\n",
              "        0.70572528, 0.70616977, 0.70546286, 0.70566482, 0.70574556,\n",
              "        0.70701794, 0.7077247 , 0.70717944, 0.70667443, 0.70760342,\n",
              "        0.70885553, 0.70746201, 0.70847192, 0.70907782, 0.70885563,\n",
              "        0.70851224, 0.70839107, 0.70768428, 0.70889612, 0.70889601,\n",
              "        0.70837099, 0.70796704, 0.70764397, 0.70756318, 0.7074016 ,\n",
              "        0.70675534, 0.707038  , 0.70780563, 0.70798729, 0.70831049,\n",
              "        0.70768437, 0.70774503, 0.70762378, 0.70752288, 0.70824987]),\n",
              " 'std_test_score': array([0.00494787, 0.00535892, 0.00579173, 0.00556975, 0.00335828,\n",
              "        0.00500848, 0.00452075, 0.00447976, 0.00416532, 0.00508819,\n",
              "        0.00504828, 0.00509602, 0.00405114, 0.00647595, 0.00584269,\n",
              "        0.00608835, 0.00596447, 0.00551144, 0.00525142, 0.00727618,\n",
              "        0.00715767, 0.0081824 , 0.00671377, 0.00590875, 0.00728491,\n",
              "        0.00691361, 0.00674838, 0.00589055, 0.00589808, 0.00598442,\n",
              "        0.0053637 , 0.00595475, 0.0060535 , 0.00530749, 0.00565821,\n",
              "        0.00559101, 0.0061779 , 0.00633344, 0.00643014, 0.00647969]),\n",
              " 'rank_test_score': array([40, 38, 39, 32, 36, 34, 31, 37, 35, 33, 28, 16, 26, 30, 21,  5, 24,\n",
              "         7,  1,  4,  6,  8, 18,  2,  3,  9, 13, 19, 22, 25, 29, 27, 14, 12,\n",
              "        10, 17, 15, 20, 23, 11], dtype=int32)}"
            ]
          },
          "metadata": {},
          "execution_count": 132
        }
      ]
    },
    {
      "cell_type": "code",
      "execution_count": 133,
      "id": "c2bf9d5f",
      "metadata": {
        "colab": {
          "base_uri": "https://localhost:8080/",
          "height": 75
        },
        "id": "c2bf9d5f",
        "outputId": "b9353df5-29da-48cf-9d60-6fa327c513d1"
      },
      "outputs": [
        {
          "output_type": "execute_result",
          "data": {
            "text/plain": [
              "KNeighborsClassifier(n_neighbors=28)"
            ],
            "text/html": [
              "<style>#sk-container-id-24 {color: black;background-color: white;}#sk-container-id-24 pre{padding: 0;}#sk-container-id-24 div.sk-toggleable {background-color: white;}#sk-container-id-24 label.sk-toggleable__label {cursor: pointer;display: block;width: 100%;margin-bottom: 0;padding: 0.3em;box-sizing: border-box;text-align: center;}#sk-container-id-24 label.sk-toggleable__label-arrow:before {content: \"▸\";float: left;margin-right: 0.25em;color: #696969;}#sk-container-id-24 label.sk-toggleable__label-arrow:hover:before {color: black;}#sk-container-id-24 div.sk-estimator:hover label.sk-toggleable__label-arrow:before {color: black;}#sk-container-id-24 div.sk-toggleable__content {max-height: 0;max-width: 0;overflow: hidden;text-align: left;background-color: #f0f8ff;}#sk-container-id-24 div.sk-toggleable__content pre {margin: 0.2em;color: black;border-radius: 0.25em;background-color: #f0f8ff;}#sk-container-id-24 input.sk-toggleable__control:checked~div.sk-toggleable__content {max-height: 200px;max-width: 100%;overflow: auto;}#sk-container-id-24 input.sk-toggleable__control:checked~label.sk-toggleable__label-arrow:before {content: \"▾\";}#sk-container-id-24 div.sk-estimator input.sk-toggleable__control:checked~label.sk-toggleable__label {background-color: #d4ebff;}#sk-container-id-24 div.sk-label input.sk-toggleable__control:checked~label.sk-toggleable__label {background-color: #d4ebff;}#sk-container-id-24 input.sk-hidden--visually {border: 0;clip: rect(1px 1px 1px 1px);clip: rect(1px, 1px, 1px, 1px);height: 1px;margin: -1px;overflow: hidden;padding: 0;position: absolute;width: 1px;}#sk-container-id-24 div.sk-estimator {font-family: monospace;background-color: #f0f8ff;border: 1px dotted black;border-radius: 0.25em;box-sizing: border-box;margin-bottom: 0.5em;}#sk-container-id-24 div.sk-estimator:hover {background-color: #d4ebff;}#sk-container-id-24 div.sk-parallel-item::after {content: \"\";width: 100%;border-bottom: 1px solid gray;flex-grow: 1;}#sk-container-id-24 div.sk-label:hover label.sk-toggleable__label {background-color: #d4ebff;}#sk-container-id-24 div.sk-serial::before {content: \"\";position: absolute;border-left: 1px solid gray;box-sizing: border-box;top: 0;bottom: 0;left: 50%;z-index: 0;}#sk-container-id-24 div.sk-serial {display: flex;flex-direction: column;align-items: center;background-color: white;padding-right: 0.2em;padding-left: 0.2em;position: relative;}#sk-container-id-24 div.sk-item {position: relative;z-index: 1;}#sk-container-id-24 div.sk-parallel {display: flex;align-items: stretch;justify-content: center;background-color: white;position: relative;}#sk-container-id-24 div.sk-item::before, #sk-container-id-24 div.sk-parallel-item::before {content: \"\";position: absolute;border-left: 1px solid gray;box-sizing: border-box;top: 0;bottom: 0;left: 50%;z-index: -1;}#sk-container-id-24 div.sk-parallel-item {display: flex;flex-direction: column;z-index: 1;position: relative;background-color: white;}#sk-container-id-24 div.sk-parallel-item:first-child::after {align-self: flex-end;width: 50%;}#sk-container-id-24 div.sk-parallel-item:last-child::after {align-self: flex-start;width: 50%;}#sk-container-id-24 div.sk-parallel-item:only-child::after {width: 0;}#sk-container-id-24 div.sk-dashed-wrapped {border: 1px dashed gray;margin: 0 0.4em 0.5em 0.4em;box-sizing: border-box;padding-bottom: 0.4em;background-color: white;}#sk-container-id-24 div.sk-label label {font-family: monospace;font-weight: bold;display: inline-block;line-height: 1.2em;}#sk-container-id-24 div.sk-label-container {text-align: center;}#sk-container-id-24 div.sk-container {/* jupyter's `normalize.less` sets `[hidden] { display: none; }` but bootstrap.min.css set `[hidden] { display: none !important; }` so we also need the `!important` here to be able to override the default hidden behavior on the sphinx rendered scikit-learn.org. See: https://github.com/scikit-learn/scikit-learn/issues/21755 */display: inline-block !important;position: relative;}#sk-container-id-24 div.sk-text-repr-fallback {display: none;}</style><div id=\"sk-container-id-24\" class=\"sk-top-container\"><div class=\"sk-text-repr-fallback\"><pre>KNeighborsClassifier(n_neighbors=28)</pre><b>In a Jupyter environment, please rerun this cell to show the HTML representation or trust the notebook. <br />On GitHub, the HTML representation is unable to render, please try loading this page with nbviewer.org.</b></div><div class=\"sk-container\" hidden><div class=\"sk-item\"><div class=\"sk-estimator sk-toggleable\"><input class=\"sk-toggleable__control sk-hidden--visually\" id=\"sk-estimator-id-42\" type=\"checkbox\" checked><label for=\"sk-estimator-id-42\" class=\"sk-toggleable__label sk-toggleable__label-arrow\">KNeighborsClassifier</label><div class=\"sk-toggleable__content\"><pre>KNeighborsClassifier(n_neighbors=28)</pre></div></div></div></div></div>"
            ]
          },
          "metadata": {},
          "execution_count": 133
        }
      ],
      "source": [
        "# Лучшая модель\n",
        "knn_cv.best_estimator_"
      ]
    },
    {
      "cell_type": "code",
      "source": [
        "# Лучшее значение метрики\n",
        "knn_cv.best_score_"
      ],
      "metadata": {
        "colab": {
          "base_uri": "https://localhost:8080/"
        },
        "id": "S9JK4P6fFRGI",
        "outputId": "9c548a5e-60fc-4535-e457-a6708fd1741b"
      },
      "id": "S9JK4P6fFRGI",
      "execution_count": 134,
      "outputs": [
        {
          "output_type": "execute_result",
          "data": {
            "text/plain": [
              "0.709077823738877"
            ]
          },
          "metadata": {},
          "execution_count": 134
        }
      ]
    },
    {
      "cell_type": "code",
      "source": [
        "# Лучшее значение параметров\n",
        "knn_cv.best_params_"
      ],
      "metadata": {
        "colab": {
          "base_uri": "https://localhost:8080/"
        },
        "id": "ppVCipTpFaCQ",
        "outputId": "6d5f6087-5fe8-41a6-97c9-e0e5495224a6"
      },
      "id": "ppVCipTpFaCQ",
      "execution_count": 135,
      "outputs": [
        {
          "output_type": "execute_result",
          "data": {
            "text/plain": [
              "{'n_neighbors': 28}"
            ]
          },
          "metadata": {},
          "execution_count": 135
        }
      ]
    },
    {
      "cell_type": "code",
      "source": [
        "# Изменение качества на тестовой выборке в зависимости от К-соседей\n",
        "plt.plot(range(10, 35), knn_cv.cv_results_['mean_test_score'])"
      ],
      "metadata": {
        "colab": {
          "base_uri": "https://localhost:8080/",
          "height": 447
        },
        "id": "dd-qMMlJFhLU",
        "outputId": "cfefd2dd-5e88-4020-bdc4-d824f44efa7b"
      },
      "id": "dd-qMMlJFhLU",
      "execution_count": 137,
      "outputs": [
        {
          "output_type": "execute_result",
          "data": {
            "text/plain": [
              "[<matplotlib.lines.Line2D at 0x7f3d2be4d940>]"
            ]
          },
          "metadata": {},
          "execution_count": 137
        },
        {
          "output_type": "display_data",
          "data": {
            "text/plain": [
              "<Figure size 640x480 with 1 Axes>"
            ],
            "image/png": "[encoded data removed]"
          },
          "metadata": {}
        }
      ]
    },
    {
      "cell_type": "markdown",
      "source": [
        "Randomized Search (случайный поиск)"
      ],
      "metadata": {
        "id": "Z9WZnQUdFvHA"
      },
      "id": "Z9WZnQUdFvHA"
    },
    {
      "cell_type": "code",
      "source": [
        "%%time\n",
        "clf_rs = RandomizedSearchCV(KNeighborsClassifier(), params, cv=5, scoring='accuracy')\n",
        "clf_rs.fit(X_train, y_train)"
      ],
      "metadata": {
        "colab": {
          "base_uri": "https://localhost:8080/",
          "height": 152
        },
        "id": "6R3nYEY7Ft25",
        "outputId": "b4193383-636e-44e6-b036-2c9fe3053ca7"
      },
      "id": "6R3nYEY7Ft25",
      "execution_count": null,
      "outputs": [
        {
          "output_type": "stream",
          "name": "stdout",
          "text": [
            "CPU times: user 11.5 s, sys: 124 ms, total: 11.6 s\n",
            "Wall time: 8.13 s\n"
          ]
        },
        {
          "output_type": "execute_result",
          "data": {
            "text/plain": [
              "RandomizedSearchCV(cv=5, estimator=KNeighborsClassifier(),\n",
              "                   param_distributions={'n_neighbors': range(1, 30)},\n",
              "                   scoring='accuracy')"
            ],
            "text/html": [
              "<style>#sk-container-id-4 {color: black;background-color: white;}#sk-container-id-4 pre{padding: 0;}#sk-container-id-4 div.sk-toggleable {background-color: white;}#sk-container-id-4 label.sk-toggleable__label {cursor: pointer;display: block;width: 100%;margin-bottom: 0;padding: 0.3em;box-sizing: border-box;text-align: center;}#sk-container-id-4 label.sk-toggleable__label-arrow:before {content: \"▸\";float: left;margin-right: 0.25em;color: #696969;}#sk-container-id-4 label.sk-toggleable__label-arrow:hover:before {color: black;}#sk-container-id-4 div.sk-estimator:hover label.sk-toggleable__label-arrow:before {color: black;}#sk-container-id-4 div.sk-toggleable__content {max-height: 0;max-width: 0;overflow: hidden;text-align: left;background-color: #f0f8ff;}#sk-container-id-4 div.sk-toggleable__content pre {margin: 0.2em;color: black;border-radius: 0.25em;background-color: #f0f8ff;}#sk-container-id-4 input.sk-toggleable__control:checked~div.sk-toggleable__content {max-height: 200px;max-width: 100%;overflow: auto;}#sk-container-id-4 input.sk-toggleable__control:checked~label.sk-toggleable__label-arrow:before {content: \"▾\";}#sk-container-id-4 div.sk-estimator input.sk-toggleable__control:checked~label.sk-toggleable__label {background-color: #d4ebff;}#sk-container-id-4 div.sk-label input.sk-toggleable__control:checked~label.sk-toggleable__label {background-color: #d4ebff;}#sk-container-id-4 input.sk-hidden--visually {border: 0;clip: rect(1px 1px 1px 1px);clip: rect(1px, 1px, 1px, 1px);height: 1px;margin: -1px;overflow: hidden;padding: 0;position: absolute;width: 1px;}#sk-container-id-4 div.sk-estimator {font-family: monospace;background-color: #f0f8ff;border: 1px dotted black;border-radius: 0.25em;box-sizing: border-box;margin-bottom: 0.5em;}#sk-container-id-4 div.sk-estimator:hover {background-color: #d4ebff;}#sk-container-id-4 div.sk-parallel-item::after {content: \"\";width: 100%;border-bottom: 1px solid gray;flex-grow: 1;}#sk-container-id-4 div.sk-label:hover label.sk-toggleable__label {background-color: #d4ebff;}#sk-container-id-4 div.sk-serial::before {content: \"\";position: absolute;border-left: 1px solid gray;box-sizing: border-box;top: 0;bottom: 0;left: 50%;z-index: 0;}#sk-container-id-4 div.sk-serial {display: flex;flex-direction: column;align-items: center;background-color: white;padding-right: 0.2em;padding-left: 0.2em;position: relative;}#sk-container-id-4 div.sk-item {position: relative;z-index: 1;}#sk-container-id-4 div.sk-parallel {display: flex;align-items: stretch;justify-content: center;background-color: white;position: relative;}#sk-container-id-4 div.sk-item::before, #sk-container-id-4 div.sk-parallel-item::before {content: \"\";position: absolute;border-left: 1px solid gray;box-sizing: border-box;top: 0;bottom: 0;left: 50%;z-index: -1;}#sk-container-id-4 div.sk-parallel-item {display: flex;flex-direction: column;z-index: 1;position: relative;background-color: white;}#sk-container-id-4 div.sk-parallel-item:first-child::after {align-self: flex-end;width: 50%;}#sk-container-id-4 div.sk-parallel-item:last-child::after {align-self: flex-start;width: 50%;}#sk-container-id-4 div.sk-parallel-item:only-child::after {width: 0;}#sk-container-id-4 div.sk-dashed-wrapped {border: 1px dashed gray;margin: 0 0.4em 0.5em 0.4em;box-sizing: border-box;padding-bottom: 0.4em;background-color: white;}#sk-container-id-4 div.sk-label label {font-family: monospace;font-weight: bold;display: inline-block;line-height: 1.2em;}#sk-container-id-4 div.sk-label-container {text-align: center;}#sk-container-id-4 div.sk-container {/* jupyter's `normalize.less` sets `[hidden] { display: none; }` but bootstrap.min.css set `[hidden] { display: none !important; }` so we also need the `!important` here to be able to override the default hidden behavior on the sphinx rendered scikit-learn.org. See: https://github.com/scikit-learn/scikit-learn/issues/21755 */display: inline-block !important;position: relative;}#sk-container-id-4 div.sk-text-repr-fallback {display: none;}</style><div id=\"sk-container-id-4\" class=\"sk-top-container\"><div class=\"sk-text-repr-fallback\"><pre>RandomizedSearchCV(cv=5, estimator=KNeighborsClassifier(),\n",
              "                   param_distributions={&#x27;n_neighbors&#x27;: range(1, 30)},\n",
              "                   scoring=&#x27;accuracy&#x27;)</pre><b>In a Jupyter environment, please rerun this cell to show the HTML representation or trust the notebook. <br />On GitHub, the HTML representation is unable to render, please try loading this page with nbviewer.org.</b></div><div class=\"sk-container\" hidden><div class=\"sk-item sk-dashed-wrapped\"><div class=\"sk-label-container\"><div class=\"sk-label sk-toggleable\"><input class=\"sk-toggleable__control sk-hidden--visually\" id=\"sk-estimator-id-6\" type=\"checkbox\" ><label for=\"sk-estimator-id-6\" class=\"sk-toggleable__label sk-toggleable__label-arrow\">RandomizedSearchCV</label><div class=\"sk-toggleable__content\"><pre>RandomizedSearchCV(cv=5, estimator=KNeighborsClassifier(),\n",
              "                   param_distributions={&#x27;n_neighbors&#x27;: range(1, 30)},\n",
              "                   scoring=&#x27;accuracy&#x27;)</pre></div></div></div><div class=\"sk-parallel\"><div class=\"sk-parallel-item\"><div class=\"sk-item\"><div class=\"sk-label-container\"><div class=\"sk-label sk-toggleable\"><input class=\"sk-toggleable__control sk-hidden--visually\" id=\"sk-estimator-id-7\" type=\"checkbox\" ><label for=\"sk-estimator-id-7\" class=\"sk-toggleable__label sk-toggleable__label-arrow\">estimator: KNeighborsClassifier</label><div class=\"sk-toggleable__content\"><pre>KNeighborsClassifier()</pre></div></div></div><div class=\"sk-serial\"><div class=\"sk-item\"><div class=\"sk-estimator sk-toggleable\"><input class=\"sk-toggleable__control sk-hidden--visually\" id=\"sk-estimator-id-8\" type=\"checkbox\" ><label for=\"sk-estimator-id-8\" class=\"sk-toggleable__label sk-toggleable__label-arrow\">KNeighborsClassifier</label><div class=\"sk-toggleable__content\"><pre>KNeighborsClassifier()</pre></div></div></div></div></div></div></div></div></div></div>"
            ]
          },
          "metadata": {},
          "execution_count": 26
        }
      ]
    },
    {
      "cell_type": "code",
      "source": [
        "# В данном случае оба способа нашли одинаковое решение\n",
        "clf_rs.best_score_, clf_rs.best_params_"
      ],
      "metadata": {
        "colab": {
          "base_uri": "https://localhost:8080/"
        },
        "id": "xiZQFj01F_fZ",
        "outputId": "b33f7c0a-4505-4aae-956d-ca94c83b3d7a"
      },
      "id": "xiZQFj01F_fZ",
      "execution_count": null,
      "outputs": [
        {
          "output_type": "execute_result",
          "data": {
            "text/plain": [
              "(0.7023492063492063, {'n_neighbors': 12})"
            ]
          },
          "metadata": {},
          "execution_count": 27
        }
      ]
    },
    {
      "cell_type": "code",
      "source": [
        "knn_cv.best_score_, knn_cv.best_params_"
      ],
      "metadata": {
        "colab": {
          "base_uri": "https://localhost:8080/"
        },
        "id": "UT0zZ0J2GDOk",
        "outputId": "3dbc9323-efb8-46e6-a935-6c1172402fe5"
      },
      "id": "UT0zZ0J2GDOk",
      "execution_count": null,
      "outputs": [
        {
          "output_type": "execute_result",
          "data": {
            "text/plain": [
              "(0.7023492063492063, {'n_neighbors': 12})"
            ]
          },
          "metadata": {},
          "execution_count": 29
        }
      ]
    },
    {
      "cell_type": "code",
      "source": [
        "# Изменение качества на тестовой выборке в зависимости от К-соседей\n",
        "n_range = np.array(range(5,55,5))\n",
        "plt.plot(n_range, clf_rs.cv_results_['mean_test_score'])"
      ],
      "metadata": {
        "colab": {
          "base_uri": "https://localhost:8080/",
          "height": 447
        },
        "id": "arLAyO_aGKs-",
        "outputId": "98ce5d7e-0996-4cf6-8b17-a7a979a67482"
      },
      "id": "arLAyO_aGKs-",
      "execution_count": null,
      "outputs": [
        {
          "output_type": "execute_result",
          "data": {
            "text/plain": [
              "[<matplotlib.lines.Line2D at 0x7f3d2c0f94f0>]"
            ]
          },
          "metadata": {},
          "execution_count": 36
        },
        {
          "output_type": "display_data",
          "data": {
            "text/plain": [
              "<Figure size 640x480 with 1 Axes>"
            ],
            "image/png": "[encoded data removed]"
          },
          "metadata": {}
        }
      ]
    },
    {
      "cell_type": "code",
      "source": [],
      "metadata": {
        "id": "AoLc4I3bG4Ah"
      },
      "id": "AoLc4I3bG4Ah",
      "execution_count": null,
      "outputs": []
    }
  ],
  "metadata": {
    "kernelspec": {
      "display_name": "Python 3 (ipykernel)",
      "language": "python",
      "name": "python3"
    },
    "language_info": {
      "codemirror_mode": {
        "name": "ipython",
        "version": 3
      },
      "file_extension": ".py",
      "mimetype": "text/x-python",
      "name": "python",
      "nbconvert_exporter": "python",
      "pygments_lexer": "ipython3",
      "version": "3.10.7"
    },
    "colab": {
      "provenance": []
    }
  },
  "nbformat": 4,
  "nbformat_minor": 5
}