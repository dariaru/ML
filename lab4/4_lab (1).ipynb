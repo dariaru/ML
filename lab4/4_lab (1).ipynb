{
 "cells": [
  {
   "cell_type": "code",
   "execution_count": 1,
   "id": "41e1f056",
   "metadata": {},
   "outputs": [],
   "source": [
    "import pandas as pd\n",
    "import seaborn as sns\n",
    "import matplotlib.pyplot as plt\n",
    "import numpy as np\n",
    "from sklearn.preprocessing import PolynomialFeatures, MinMaxScaler, StandardScaler\n",
    "from sklearn.linear_model import LinearRegression, Lasso, Ridge\n",
    "from sklearn.tree import DecisionTreeRegressor, export_graphviz, export_text\n",
    "from sklearn.svm import SVR\n",
    "from sklearn.metrics import r2_score, mean_squared_error, mean_absolute_error\n",
    "from sklearn.model_selection import train_test_split, GridSearchCV\n",
    "from IPython.display import Image\n",
    "from sklearn import metrics\n",
    "from IPython.core.display import HTML"
   ]
  },
  {
   "cell_type": "code",
   "execution_count": null,
   "id": "649cd58c",
   "metadata": {},
   "outputs": [],
   "source": [
    "data = pd.read_csv(r'C:\\Users\\Дарья\\Downloads\\Cancer_Data.csv')"
   ]
  },
  {
   "cell_type": "code",
   "execution_count": null,
   "id": "5c39fa23",
   "metadata": {},
   "outputs": [],
   "source": [
    "data.head()"
   ]
  },
  {
   "cell_type": "code",
   "execution_count": null,
   "id": "5f7c41ee",
   "metadata": {},
   "outputs": [],
   "source": [
    "data.info()"
   ]
  },
  {
   "cell_type": "code",
   "execution_count": null,
   "id": "3a39f51d",
   "metadata": {},
   "outputs": [],
   "source": [
    "data.isnull().sum()"
   ]
  },
  {
   "cell_type": "code",
   "execution_count": null,
   "id": "fd284520",
   "metadata": {},
   "outputs": [],
   "source": [
    "data['diagnosis'].unique()"
   ]
  },
  {
   "cell_type": "code",
   "execution_count": null,
   "id": "54f1ce02",
   "metadata": {},
   "outputs": [],
   "source": [
    "from sklearn.preprocessing import LabelEncoder \n",
    "le = LabelEncoder()\n",
    "le.fit(data['diagnosis'])\n",
    "data['diagnosis'] = le.transform(data['diagnosis'])\n",
    "data"
   ]
  },
  {
   "cell_type": "code",
   "execution_count": null,
   "id": "f8348ee4",
   "metadata": {},
   "outputs": [],
   "source": [
    "data['diagnosis'].unique()"
   ]
  },
  {
   "cell_type": "code",
   "execution_count": null,
   "id": "9fabb845",
   "metadata": {
    "scrolled": true
   },
   "outputs": [],
   "source": [
    "fig, ax = plt.subplots(figsize=(15,10))\n",
    "sns.heatmap(data.corr(), annot=True, fmt='.2f', cmap='GnBu')"
   ]
  },
  {
   "cell_type": "code",
   "execution_count": null,
   "id": "22da6482",
   "metadata": {},
   "outputs": [],
   "source": [
    "print('Признаки, имеющие максимальную по модулю корреляцию с качеством вина')\n",
    "best_params = data.corr()['diagnosis'].map(abs).sort_values(ascending=False)[1:]\n",
    "best_params = best_params[best_params.values > 0.3]\n",
    "best_params"
   ]
  },
  {
   "cell_type": "code",
   "execution_count": null,
   "id": "4378accb",
   "metadata": {},
   "outputs": [],
   "source": [
    "best_params = best_params.drop(['texture_mean', 'smoothness_mean', 'symmetry_mean'])"
   ]
  },
  {
   "cell_type": "code",
   "execution_count": null,
   "id": "64a04311",
   "metadata": {},
   "outputs": [],
   "source": [
    "plt.figure(figsize=(8, 4))\n",
    "sns.heatmap(data[best_params.index].corr(), vmin=-1, vmax=1, cmap='GnBu', annot=True)\n",
    "plt.show()"
   ]
  },
  {
   "cell_type": "code",
   "execution_count": null,
   "id": "bd2712ed",
   "metadata": {},
   "outputs": [],
   "source": [
    "plt.figure(figsize=(6, 3))\n",
    "sns.heatmap(pd.DataFrame(data[np.append(best_params.index.values, 'diagnosis')].corr()['diagnosis'].sort_values(ascending=False)[1:]), vmin=-1, vmax=1, cmap='GnBu', annot=True)\n",
    "plt.show()"
   ]
  },
  {
   "cell_type": "code",
   "execution_count": null,
   "id": "2ae01c79",
   "metadata": {},
   "outputs": [],
   "source": [
    "X = data.drop('diagnosis', axis = 1)\n",
    "# Теперь выделим нужный столбец\n",
    "y = data['diagnosis']"
   ]
  },
  {
   "cell_type": "code",
   "execution_count": null,
   "id": "50741721",
   "metadata": {},
   "outputs": [],
   "source": [
    "X_train, X_test, y_train, y_test = train_test_split(X, y, test_size=0.3, random_state=3)"
   ]
  },
  {
   "cell_type": "code",
   "execution_count": null,
   "id": "bdd59ab2",
   "metadata": {},
   "outputs": [],
   "source": [
    "def print_metrics(y_test, y_pred):\n",
    "    print(f\"R^2: {r2_score(y_test, y_pred)}\")\n",
    "    print(f\"MSE: {mean_squared_error(y_test, y_pred)}\")\n",
    "    print(f\"MAE: {mean_absolute_error(y_test, y_pred)}\")"
   ]
  },
  {
   "cell_type": "code",
   "execution_count": null,
   "id": "8f551002",
   "metadata": {},
   "outputs": [],
   "source": [
    "linear_model = LinearRegression()\n",
    "linear_model.fit(X_train, y_train)\n",
    "y_pred_linear = linear_model.predict(X_test)\n"
   ]
  },
  {
   "cell_type": "code",
   "execution_count": null,
   "id": "32500bc6",
   "metadata": {},
   "outputs": [],
   "source": [
    "print_metrics(y_test, y_pred_linear)"
   ]
  },
  {
   "cell_type": "code",
   "execution_count": null,
   "id": "30f2537d",
   "metadata": {},
   "outputs": [],
   "source": [
    "poly_model = PolynomialFeatures(degree=3)\n",
    "x_train_poly = poly_model.fit_transform(X_train)\n",
    "x_test_poly = poly_model.fit_transform(X_test)\n",
    "linear_model = LinearRegression()\n",
    "linear_model.fit(x_train_poly, y_train)\n",
    "y_pred_poly = linear_model.predict(x_test_poly)"
   ]
  },
  {
   "cell_type": "code",
   "execution_count": null,
   "id": "d7ca194c",
   "metadata": {},
   "outputs": [],
   "source": [
    "print_metrics(y_test, y_pred_poly)"
   ]
  },
  {
   "cell_type": "code",
   "execution_count": null,
   "id": "2ea0c87c",
   "metadata": {},
   "outputs": [],
   "source": [
    "scaler = StandardScaler().fit(X_train)\n",
    "x_train_scaled = pd.DataFrame(scaler.transform(X_train), columns=X_train.columns)\n",
    "x_test_scaled = pd.DataFrame(scaler.transform(X_test), columns=X_train.columns)\n",
    "x_train_scaled.describe()"
   ]
  },
  {
   "cell_type": "code",
   "execution_count": null,
   "id": "67382c15",
   "metadata": {},
   "outputs": [],
   "source": [
    "params = {'C': np.concatenate([np.arange(0.1, 2, 0.1), np.arange(2, 15, 1)])}\n",
    "svm_model = SVR(kernel='linear')\n",
    "grid_cv = GridSearchCV(estimator=svm_model, param_grid=params, cv=10, n_jobs=-1, scoring='r2')\n",
    "grid_cv.fit(x_train_scaled, y_train)\n",
    "print(grid_cv.best_params_)"
   ]
  },
  {
   "cell_type": "code",
   "execution_count": null,
   "id": "96011963",
   "metadata": {},
   "outputs": [],
   "source": [
    "best_svm_model = grid_cv.best_estimator_\n",
    "best_svm_model = SVC(kernel='linear', C=14)\n",
    "best_svm_model.fit(x_train_scaled, y_train)\n",
    "y_pred_svm = best_svm_model.predict(x_test_scaled)\n"
   ]
  },
  {
   "cell_type": "code",
   "execution_count": null,
   "id": "5584af26",
   "metadata": {},
   "outputs": [],
   "source": [
    "print_metrics(y_test, y_pred_svm)"
   ]
  },
  {
   "cell_type": "code",
   "execution_count": null,
   "id": "98d10162",
   "metadata": {},
   "outputs": [],
   "source": [
    "\n",
    "params = {'min_samples_leaf': range(3, 30)}\n",
    "tree = DecisionTreeRegressor(random_state=3)\n",
    "grid_cv = GridSearchCV(estimator=tree, cv=5, param_grid=params, n_jobs=-1, scoring='neg_mean_absolute_error')\n",
    "grid_cv.fit(x_train, y_train)\n",
    "print(grid_cv.best_params_)"
   ]
  },
  {
   "cell_type": "code",
   "execution_count": null,
   "id": "f411b92c",
   "metadata": {},
   "outputs": [],
   "source": [
    "\n",
    "best_tree = grid_cv.best_estimator_\n",
    "best_tree.fit(x_train, y_train)\n",
    "y_pred_tree = best_tree.predict(x_test)\n"
   ]
  },
  {
   "cell_type": "code",
   "execution_count": null,
   "id": "8c4f96ed",
   "metadata": {},
   "outputs": [],
   "source": [
    "print_metrics(y_test, y_pred_tree)"
   ]
  },
  {
   "cell_type": "code",
   "execution_count": null,
   "id": "044b7b66",
   "metadata": {},
   "outputs": [],
   "source": [
    "importances = pd.DataFrame(data=zip(x_train.columns, best_tree.feature_importances_), columns=['Признак', 'Важность'])\n",
    "print('Важность признаков в дереве решений\\n')\n",
    "for row in importances.sort_values(by='Важность', ascending=False).values:\n",
    "    print(f'{row[0]}: {round(row[1], 3)}')"
   ]
  },
  {
   "cell_type": "code",
   "execution_count": null,
   "id": "26b1354e",
   "metadata": {},
   "outputs": [],
   "source": [
    "plt.figure(figsize=(12, 4))\n",
    "sns.barplot(data=importances.sort_values(by='Важность', ascending=False), y='Признак', x='Важность', orient='h', )\n",
    "plt.title('Важность признаков в дереве решений')\n",
    "plt.show()"
   ]
  },
  {
   "cell_type": "code",
   "execution_count": null,
   "id": "70959f71",
   "metadata": {},
   "outputs": [],
   "source": [
    "\n",
    "print('Линейная регрессия')\n",
    "print_metrics(y_test, y_pred_linear)\n",
    "\n",
    "\n",
    "print('\\nПолиномиальная регрессия')\n",
    "print_metrics(y_test, y_pred_poly)\n",
    "\n",
    "print('\\nМетод опорных векторов')\n",
    "print_metrics(y_test, y_pred_svm)\n",
    "\n",
    "\n",
    "print('\\nДерево решений')\n",
    "print_metrics(y_test, y_pred_tree)"
   ]
  },
  {
   "cell_type": "code",
   "execution_count": null,
   "id": "7a0baffd",
   "metadata": {},
   "outputs": [],
   "source": []
  },
  {
   "cell_type": "code",
   "execution_count": null,
   "id": "1bc68582",
   "metadata": {},
   "outputs": [],
   "source": []
  },
  {
   "cell_type": "code",
   "execution_count": null,
   "id": "68d583d2",
   "metadata": {},
   "outputs": [],
   "source": []
  }
 ],
 "metadata": {
  "kernelspec": {
   "display_name": "Python 3 (ipykernel)",
   "language": "python",
   "name": "python3"
  },
  "language_info": {
   "codemirror_mode": {
    "name": "ipython",
    "version": 3
   },
   "file_extension": ".py",
   "mimetype": "text/x-python",
   "name": "python",
   "nbconvert_exporter": "python",
   "pygments_lexer": "ipython3",
   "version": "3.10.7"
  }
 },
 "nbformat": 4,
 "nbformat_minor": 5
}
